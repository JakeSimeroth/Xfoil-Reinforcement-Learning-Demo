{
 "cells": [
  {
   "cell_type": "code",
   "execution_count": 1,
   "id": "c6c68f01",
   "metadata": {},
   "outputs": [
    {
     "name": "stderr",
     "output_type": "stream",
     "text": [
      "\r",
      "Episodes:   0%|          | 0/10 [00:00<?, ?it/s]"
     ]
    },
    {
     "name": "stdout",
     "output_type": "stream",
     "text": [
      "Simulation failed due to error: Command 'xfoil.exe < input_file.in' timed out after 5 seconds\n",
      "Simulation failed due to error: Command 'xfoil.exe < input_file.in' timed out after 5 seconds\n",
      "Simulation failed due to error: Command 'xfoil.exe < input_file.in' timed out after 5 seconds\n",
      "Simulation failed due to error: Command 'xfoil.exe < input_file.in' timed out after 5 seconds\n",
      "Simulation failed due to error: Command 'xfoil.exe < input_file.in' timed out after 5 seconds\n",
      "Simulation failed due to error: Command 'xfoil.exe < input_file.in' timed out after 5 seconds\n"
     ]
    },
    {
     "name": "stderr",
     "output_type": "stream",
     "text": [
      "\r",
      "Episodes:  10%|█         | 1/10 [00:37<05:35, 37.30s/it]"
     ]
    },
    {
     "name": "stdout",
     "output_type": "stream",
     "text": [
      "Episode 1/10, Total Reward: 4.112276005650976\n",
      "Simulation failed due to error: Command 'xfoil.exe < input_file.in' timed out after 5 seconds\n",
      "Simulation failed due to error: Command 'xfoil.exe < input_file.in' timed out after 5 seconds\n"
     ]
    },
    {
     "name": "stderr",
     "output_type": "stream",
     "text": [
      "\r",
      "Episodes:  20%|██        | 2/10 [01:02<04:00, 30.12s/it]"
     ]
    },
    {
     "name": "stdout",
     "output_type": "stream",
     "text": [
      "Episode 2/10, Total Reward: 10.549118533146899\n",
      "Simulation failed due to error: Command 'xfoil.exe < input_file.in' timed out after 5 seconds\n",
      "Simulation failed due to error: Command 'xfoil.exe < input_file.in' timed out after 5 seconds\n",
      "Simulation failed due to error: Command 'xfoil.exe < input_file.in' timed out after 5 seconds\n",
      "Simulation failed due to error: Command 'xfoil.exe < input_file.in' timed out after 5 seconds\n",
      "Simulation failed due to error: Command 'xfoil.exe < input_file.in' timed out after 5 seconds\n",
      "Simulation failed due to error: Command 'xfoil.exe < input_file.in' timed out after 5 seconds\n"
     ]
    },
    {
     "name": "stderr",
     "output_type": "stream",
     "text": [
      "\r",
      "Episodes:  30%|███       | 3/10 [01:39<03:53, 33.29s/it]"
     ]
    },
    {
     "name": "stdout",
     "output_type": "stream",
     "text": [
      "Episode 3/10, Total Reward: 3.443783406047558\n"
     ]
    },
    {
     "name": "stderr",
     "output_type": "stream",
     "text": [
      "\r",
      "Episodes:  40%|████      | 4/10 [01:56<02:41, 26.91s/it]"
     ]
    },
    {
     "name": "stdout",
     "output_type": "stream",
     "text": [
      "Episode 4/10, Total Reward: 11.215686738716132\n",
      "Simulation failed due to error: Command 'xfoil.exe < input_file.in' timed out after 5 seconds\n",
      "Simulation failed due to error: Command 'xfoil.exe < input_file.in' timed out after 5 seconds\n",
      "Simulation failed due to error: Command 'xfoil.exe < input_file.in' timed out after 5 seconds\n",
      "Simulation failed due to error: Command 'xfoil.exe < input_file.in' timed out after 5 seconds\n"
     ]
    },
    {
     "name": "stderr",
     "output_type": "stream",
     "text": [
      "\r",
      "Episodes:  50%|█████     | 5/10 [02:27<02:22, 28.50s/it]"
     ]
    },
    {
     "name": "stdout",
     "output_type": "stream",
     "text": [
      "Episode 5/10, Total Reward: 7.255948105584485\n",
      "Simulation failed due to error: Command 'xfoil.exe < input_file.in' timed out after 5 seconds\n",
      "Simulation failed due to error: Command 'xfoil.exe < input_file.in' timed out after 5 seconds\n",
      "Simulation failed due to error: Command 'xfoil.exe < input_file.in' timed out after 5 seconds\n",
      "Simulation failed due to error: Command 'xfoil.exe < input_file.in' timed out after 5 seconds\n",
      "Simulation failed due to error: Command 'xfoil.exe < input_file.in' timed out after 5 seconds\n",
      "Simulation failed due to error: Command 'xfoil.exe < input_file.in' timed out after 5 seconds\n"
     ]
    },
    {
     "name": "stderr",
     "output_type": "stream",
     "text": [
      "\r",
      "Episodes:  60%|██████    | 6/10 [03:08<02:10, 32.67s/it]"
     ]
    },
    {
     "name": "stdout",
     "output_type": "stream",
     "text": [
      "Simulation failed due to error: Command 'xfoil.exe < input_file.in' timed out after 5 seconds\n",
      "Episode 6/10, Total Reward: 3.77297831521423\n"
     ]
    },
    {
     "name": "stderr",
     "output_type": "stream",
     "text": [
      "\r",
      "Episodes:  70%|███████   | 7/10 [03:24<01:21, 27.01s/it]"
     ]
    },
    {
     "name": "stdout",
     "output_type": "stream",
     "text": [
      "Episode 7/10, Total Reward: 11.232329227877528\n",
      "Simulation failed due to error: Command 'xfoil.exe < input_file.in' timed out after 5 seconds\n",
      "Simulation failed due to error: Command 'xfoil.exe < input_file.in' timed out after 5 seconds\n",
      "Simulation failed due to error: Command 'xfoil.exe < input_file.in' timed out after 5 seconds\n"
     ]
    },
    {
     "name": "stderr",
     "output_type": "stream",
     "text": [
      "\r",
      "Episodes:  80%|████████  | 8/10 [03:50<00:53, 26.73s/it]"
     ]
    },
    {
     "name": "stdout",
     "output_type": "stream",
     "text": [
      "Episode 8/10, Total Reward: 8.869040781160253\n",
      "Simulation failed due to error: Command 'xfoil.exe < input_file.in' timed out after 5 seconds\n",
      "Simulation failed due to error: Command 'xfoil.exe < input_file.in' timed out after 5 seconds\n",
      "Simulation failed due to error: Command 'xfoil.exe < input_file.in' timed out after 5 seconds\n"
     ]
    },
    {
     "name": "stderr",
     "output_type": "stream",
     "text": [
      "\r",
      "Episodes:  90%|█████████ | 9/10 [04:17<00:26, 26.95s/it]"
     ]
    },
    {
     "name": "stdout",
     "output_type": "stream",
     "text": [
      "Episode 9/10, Total Reward: 7.900125656329939\n"
     ]
    },
    {
     "name": "stderr",
     "output_type": "stream",
     "text": [
      "Episodes: 100%|██████████| 10/10 [04:32<00:00, 27.27s/it]"
     ]
    },
    {
     "name": "stdout",
     "output_type": "stream",
     "text": [
      "Episode 10/10, Total Reward: 8.253865734584554\n"
     ]
    },
    {
     "name": "stderr",
     "output_type": "stream",
     "text": [
      "\n"
     ]
    },
    {
     "data": {
      "image/png": "[encoded data removed]",
      "text/plain": [
       "<Figure size 720x360 with 1 Axes>"
      ]
     },
     "metadata": {
      "needs_background": "light"
     },
     "output_type": "display_data"
    },
    {
     "name": "stdout",
     "output_type": "stream",
     "text": [
      "Simulation failed due to error: Command 'xfoil.exe < input_file.in' timed out after 5 seconds\n"
     ]
    },
    {
     "data": {
      "image/png": "[encoded data removed]",
      "text/plain": [
       "<Figure size 720x360 with 1 Axes>"
      ]
     },
     "metadata": {
      "needs_background": "light"
     },
     "output_type": "display_data"
    },
    {
     "name": "stdout",
     "output_type": "stream",
     "text": [
      "Lift Coefficient: 1.2102, Drag Coefficient: 0.1249, Cl/Cd: 9.6908\n",
      "Simulation failed due to error: Command 'xfoil.exe < input_file.in' timed out after 5 seconds\n",
      "Simulation failed due to error: Command 'xfoil.exe < input_file.in' timed out after 5 seconds\n",
      "Simulation failed due to error: Command 'xfoil.exe < input_file.in' timed out after 5 seconds\n",
      "Simulation failed due to error: Command 'xfoil.exe < input_file.in' timed out after 5 seconds\n",
      "Simulation failed due to error: Command 'xfoil.exe < input_file.in' timed out after 5 seconds\n",
      "Simulation failed due to error: Command 'xfoil.exe < input_file.in' timed out after 5 seconds\n",
      "Simulation failed due to error: Command 'xfoil.exe < input_file.in' timed out after 5 seconds\n",
      "Simulation failed due to error: Command 'xfoil.exe < input_file.in' timed out after 5 seconds\n",
      "Simulation failed due to error: Command 'xfoil.exe < input_file.in' timed out after 5 seconds\n",
      "Simulation failed due to error: Command 'xfoil.exe < input_file.in' timed out after 5 seconds\n",
      "Simulation failed due to error: Command 'xfoil.exe < input_file.in' timed out after 5 seconds\n",
      "Simulation failed due to error: Command 'xfoil.exe < input_file.in' timed out after 5 seconds\n",
      "Simulation failed due to error: Command 'xfoil.exe < input_file.in' timed out after 5 seconds\n",
      "Simulation failed due to error: Command 'xfoil.exe < input_file.in' timed out after 5 seconds\n"
     ]
    },
    {
     "data": {
      "image/png": "[encoded data removed]",
      "text/plain": [
       "<Figure size 720x360 with 1 Axes>"
      ]
     },
     "metadata": {
      "needs_background": "light"
     },
     "output_type": "display_data"
    },
    {
     "name": "stdout",
     "output_type": "stream",
     "text": [
      "Lift Coefficient: 1.2673, Drag Coefficient: 0.1095, Cl/Cd: 11.5784\n",
      "Simulation failed due to error: Command 'xfoil.exe < input_file.in' timed out after 5 seconds\n",
      "Simulation failed due to error: Command 'xfoil.exe < input_file.in' timed out after 5 seconds\n",
      "Simulation failed due to error: Command 'xfoil.exe < input_file.in' timed out after 5 seconds\n",
      "Simulation failed due to error: Command 'xfoil.exe < input_file.in' timed out after 5 seconds\n",
      "Simulation failed due to error: Command 'xfoil.exe < input_file.in' timed out after 5 seconds\n",
      "Simulation failed due to error: Command 'xfoil.exe < input_file.in' timed out after 5 seconds\n",
      "Simulation failed due to error: Command 'xfoil.exe < input_file.in' timed out after 5 seconds\n",
      "Simulation failed due to error: Command 'xfoil.exe < input_file.in' timed out after 5 seconds\n"
     ]
    },
    {
     "name": "stderr",
     "output_type": "stream",
     "text": [
      "C:\\Users\\Jake\\AppData\\Local\\Temp\\ipykernel_32648\\1855806572.py:88: UserWarning: loadtxt: input contained no data: \"polar_file.txt\"\n",
      "  polar_data = np.loadtxt(\"polar_file.txt\", skiprows=12)\n"
     ]
    },
    {
     "name": "stdout",
     "output_type": "stream",
     "text": [
      "Simulation failed due to error: too many indices for array: array is 1-dimensional, but 2 were indexed\n",
      "Simulation failed due to error: Command 'xfoil.exe < input_file.in' timed out after 5 seconds\n",
      "Simulation failed due to error: Command 'xfoil.exe < input_file.in' timed out after 5 seconds\n",
      "Simulation failed due to error: Command 'xfoil.exe < input_file.in' timed out after 5 seconds\n",
      "Simulation failed due to error: Command 'xfoil.exe < input_file.in' timed out after 5 seconds\n",
      "Simulation failed due to error: Command 'xfoil.exe < input_file.in' timed out after 5 seconds\n"
     ]
    },
    {
     "data": {
      "image/png": "[encoded data removed]",
      "text/plain": [
       "<Figure size 720x360 with 1 Axes>"
      ]
     },
     "metadata": {
      "needs_background": "light"
     },
     "output_type": "display_data"
    },
    {
     "name": "stdout",
     "output_type": "stream",
     "text": [
      "Lift Coefficient: 0.8256, Drag Coefficient: 0.1673, Cl/Cd: 4.9347\n"
     ]
    }
   ],
   "source": [
    "import gym\n",
    "from gym import spaces\n",
    "import numpy as np\n",
    "import os\n",
    "import subprocess\n",
    "from scipy.interpolate import splprep, splev\n",
    "import matplotlib.pyplot as plt\n",
    "import random\n",
    "from tqdm import tqdm  # Import the tqdm library for the progress bar\n",
    "\n",
    "\n",
    "class AirfoilOptimizationEnv(gym.Env):\n",
    "    def __init__(self):\n",
    "        super(AirfoilOptimizationEnv, self).__init__()\n",
    "        self.current_state = self.generate_initial_airfoil()\n",
    "        self.num_control_points = self.current_state.shape[0]\n",
    "\n",
    "        # Define action space and observation space to match the number of control points.\n",
    "        self.action_space = spaces.Box(low=-0.01, high=0.01, shape=(self.num_control_points, 2), dtype=np.float32)\n",
    "        self.observation_space = spaces.Box(low=0, high=1, shape=(self.num_control_points, 2), dtype=np.float32)\n",
    "        \n",
    "        self.airfoil_name = \"NACA0012\"\n",
    "        self.lift_coeff = 1e-5  # Initialize to a small positive value to avoid dividing by zero\n",
    "        self.drag_coeff = 1e-5  # Initialize to a small positive value to avoid dividing by zero\n",
    "        self.prev_cl_cd = 0\n",
    "\n",
    "    def step(self, action):\n",
    "        # Clip the action to ensure small changes\n",
    "        action = np.clip(action, -0.001, 0.001)\n",
    "        # Apply the action to modify the control points\n",
    "        self.current_state += action\n",
    "        # Generate new airfoil shape using B-spline interpolation\n",
    "        airfoil_shape = self.interpolate_airfoil(self.current_state)\n",
    "        # Save the interpolated airfoil shape to a .dat file for XFOIL\n",
    "        self.save_airfoil_shape(airfoil_shape)\n",
    "        # Run XFOIL simulation to get the reward\n",
    "        reward, done = self.simulate_airfoil_performance()\n",
    "        return self.discretize_state(self.current_state), reward, done, {}\n",
    "\n",
    "    def reset(self):\n",
    "        # Reset the airfoil to the initial state\n",
    "        self.current_state = self.generate_initial_airfoil()\n",
    "        self.prev_cl_cd = 0  # Reset the previous Cl/Cd ratio\n",
    "        return self.discretize_state(self.current_state)\n",
    "\n",
    "    def render(self, mode='console'):\n",
    "        if mode == 'console':\n",
    "            print(f'Current control points: {self.current_state}')\n",
    "        elif mode == 'human':\n",
    "            airfoil_shape = self.interpolate_airfoil(self.current_state)\n",
    "            self.plot_airfoil(airfoil_shape)\n",
    "\n",
    "    def simulate_airfoil_performance(self):\n",
    "        alpha_i = 0\n",
    "        alpha_f = 25\n",
    "        alpha_step = 1\n",
    "        Re = 1000000\n",
    "        n_iter = 100  # Increased number of iterations for better convergence\n",
    "        relaxation_factor = 0.1  # Adjusted relaxation factor\n",
    "\n",
    "        reward = -1  # Default negative reward\n",
    "        done = False  # Default not done\n",
    "\n",
    "        if os.path.exists(\"polar_file.txt\"):\n",
    "            os.remove(\"polar_file.txt\")\n",
    "\n",
    "        with open(\"input_file.in\", 'w') as input_file:\n",
    "            input_file.write(f\"LOAD {self.airfoil_name}.dat\\n\")\n",
    "            input_file.write(f\"{self.airfoil_name}\\n\")\n",
    "            input_file.write(\"PANE\\n\")\n",
    "            input_file.write(\"OPER\\n\")\n",
    "            input_file.write(f\"Visc {Re}\\n\")\n",
    "            input_file.write(\"PACC\\n\")\n",
    "            input_file.write(\"polar_file.txt\\n\\n\")\n",
    "            input_file.write(f\"ITER {n_iter}\\n\")\n",
    "            input_file.write(f\"RELF {relaxation_factor}\\n\")\n",
    "            input_file.write(f\"ASeq {alpha_i} {alpha_f} {alpha_step}\\n\")\n",
    "            input_file.write(\"\\n\\n\")\n",
    "            input_file.write(\"quit\\n\")\n",
    "\n",
    "        try:\n",
    "            process = subprocess.Popen(\"xfoil.exe < input_file.in\", shell=True)\n",
    "            process.wait(timeout=5)  # Wait for XFOIL to finish, with a timeout\n",
    "\n",
    "            if process.returncode != 0:\n",
    "                raise subprocess.TimeoutExpired(\"xfoil.exe\", timeout=10)\n",
    "\n",
    "            polar_data = np.loadtxt(\"polar_file.txt\", skiprows=12)\n",
    "            valid_indices = np.where((polar_data[:, 0] >= 15) & (polar_data[:, 0] <= 25))[0]\n",
    "            if len(valid_indices) > 0:\n",
    "                valid_data = polar_data[valid_indices]\n",
    "                avg_lift = np.mean(valid_data[:, 1])\n",
    "                avg_drag = np.mean(valid_data[:, 2])\n",
    "                self.lift_coeff = avg_lift\n",
    "                self.drag_coeff = avg_drag\n",
    "\n",
    "                cl_cd = avg_lift / avg_drag\n",
    "                reward = (cl_cd - self.prev_cl_cd)\n",
    "                self.prev_cl_cd = cl_cd\n",
    "                done = False\n",
    "            else:\n",
    "                print(\"Invalid data range in simulation.\")\n",
    "        except (subprocess.TimeoutExpired, Exception) as e:\n",
    "            print(f\"Simulation failed due to error: {e}\")\n",
    "            subprocess.call(\"taskkill /f /im xfoil.exe\", shell=True)  # Force kill XFOIL\n",
    "            process.wait()  # Ensure the process has terminated\n",
    "\n",
    "            self.current_state = self.generate_initial_airfoil()  # Generate a new airfoil shape\n",
    "            self.lift_coeff = 1e-5  # Reset to avoid zero division\n",
    "            self.drag_coeff = 1e-5  # Reset to avoid zero division\n",
    "        \n",
    "        return reward, done\n",
    "\n",
    "    def generate_initial_airfoil(self):\n",
    "        file_path = r'C:\\Users\\Jake\\ME-599-L-Group-Project\\xfoil-runner\\xfoil_runner\\NACA0012.dat'\n",
    "        if os.path.exists(file_path):\n",
    "            data = np.loadtxt(file_path)\n",
    "            data[:, 0] = (data[:, 0] - np.min(data[:, 0])) / (np.max(data[:, 0]) - np.min(data[:, 0]))\n",
    "            return data\n",
    "        else:\n",
    "            raise FileNotFoundError(\"The specified .dat file does not exist.\")\n",
    "    \n",
    "    def interpolate_airfoil(self, control_points):\n",
    "        # Ensure no two points are the same by adding a small perturbation if necessary\n",
    "        for i in range(len(control_points) - 1):\n",
    "            if np.allclose(control_points[i], control_points[i + 1]):\n",
    "                control_points[i + 1] += np.random.uniform(low=1e-5, high=1e-4, size=control_points[i + 1].shape)\n",
    "\n",
    "        tck, u = splprep([control_points[:, 0], control_points[:, 1]], s=1e-2)  # Adjusted smoothing parameter\n",
    "        unew = np.linspace(0, 1, 100)\n",
    "        out = splev(unew, tck)\n",
    "        interpolated_points = np.column_stack(out)\n",
    "\n",
    "        # Ensure the connection points of the top and bottom surfaces are not too distant\n",
    "        if np.linalg.norm(interpolated_points[0] - interpolated_points[-1]) > 1e-2:\n",
    "            mid_point = (interpolated_points[0] + interpolated_points[-1]) / 2\n",
    "            interpolated_points[0] = mid_point\n",
    "            interpolated_points[-1] = mid_point\n",
    "\n",
    "        return interpolated_points\n",
    "\n",
    "    def save_airfoil_shape(self, coordinates):\n",
    "        np.savetxt(f\"{self.airfoil_name}.dat\", coordinates, fmt=\"%.6f\")\n",
    "\n",
    "    def plot_airfoil(self, coordinates):\n",
    "        x, y = coordinates[:, 0], coordinates[:, 1]\n",
    "        plt.figure(figsize=(10, 5))\n",
    "        plt.plot(x, y, 'o-')\n",
    "        plt.title('Airfoil Shape')\n",
    "        plt.xlabel('Chord Position')\n",
    "        plt.ylabel('Vertical Position')\n",
    "        plt.axis('equal')\n",
    "        plt.grid(True)\n",
    "        plt.show()\n",
    "        print(f\"Lift Coefficient: {self.lift_coeff:.4f}, Drag Coefficient: {self.drag_coeff:.4f}, Cl/Cd: {self.lift_coeff/self.drag_coeff:.4f}\")\n",
    "\n",
    "    def discretize_state(self, state, bins=10):\n",
    "        # Flatten the state array\n",
    "        state_flat = state.flatten()\n",
    "        # Convert the state to a tuple of integers\n",
    "        discrete_state = tuple(np.digitize(state_flat, np.linspace(0, 1, bins)))\n",
    "        return discrete_state\n",
    "\n",
    "\n",
    "class QLearningAgent:\n",
    "    def __init__(self, action_space, state_space, learning_rate=0.1, discount_factor=0.99, exploration_rate=1.0, exploration_decay=0.995):\n",
    "        self.action_space = action_space\n",
    "        self.state_space = state_space\n",
    "        self.q_table = {}\n",
    "        self.learning_rate = learning_rate\n",
    "        self.discount_factor = discount_factor\n",
    "        self.exploration_rate = exploration_rate\n",
    "        self.exploration_decay = exploration_decay\n",
    "\n",
    "    def get_q_value(self, state, action):\n",
    "        state_action_pair = (state, tuple(action.flatten()))\n",
    "        return self.q_table.get(state_action_pair, 0.0)\n",
    "\n",
    "    def set_q_value(self, state, action, value):\n",
    "        state_action_pair = (state, tuple(action.flatten()))\n",
    "        self.q_table[state_action_pair] = value\n",
    "\n",
    "    def choose_action(self, state):\n",
    "        if random.uniform(0, 1) < self.exploration_rate:\n",
    "            return self.action_space.sample()\n",
    "        else:\n",
    "            q_values = [self.get_q_value(state, action) for action in self.get_possible_actions()]\n",
    "            max_q_value = max(q_values)\n",
    "            max_q_actions = [action for action, q_value in zip(self.get_possible_actions(), q_values) if q_value == max_q_value]\n",
    "            return random.choice(max_q_actions)\n",
    "\n",
    "    def get_possible_actions(self):\n",
    "        return [np.clip(np.random.uniform(-0.001, 0.001, self.action_space.shape), -0.001, 0.001) for _ in range(10)]\n",
    "\n",
    "    def learn(self, state, action, reward, next_state):\n",
    "        current_q = self.get_q_value(state, action)\n",
    "        max_next_q = max([self.get_q_value(next_state, next_action) for next_action in self.get_possible_actions()])\n",
    "        new_q = current_q + self.learning_rate * (reward + self.discount_factor * max_next_q - current_q)\n",
    "        self.set_q_value(state, action, new_q)\n",
    "        self.exploration_rate *= self.exploration_decay\n",
    "\n",
    "# Visualization functions\n",
    "def plot_rewards(rewards):\n",
    "    plt.figure(figsize=(10, 5))\n",
    "    plt.plot(rewards, label='Reward')\n",
    "    plt.xlabel('Episode')\n",
    "    plt.ylabel('Total Reward')\n",
    "    plt.title('Rewards Over Time')\n",
    "    plt.legend()\n",
    "    plt.grid(True)\n",
    "    plt.show()\n",
    "\n",
    "def plot_airfoil_changes(env, episode_intervals):\n",
    "    for episode in episode_intervals:\n",
    "        env.reset()\n",
    "        for _ in range(episode):\n",
    "            action = env.action_space.sample()\n",
    "            env.step(action)\n",
    "        env.render(mode='human')\n",
    "\n",
    "# Example usage with the environment\n",
    "env = AirfoilOptimizationEnv()\n",
    "agent = QLearningAgent(env.action_space, env.observation_space)\n",
    "rewards = []\n",
    "episodes = 10\n",
    "max_steps_per_episode = 10  # Define the maximum number of steps per episode\n",
    "\n",
    "# Adding progress bar\n",
    "for episode in tqdm(range(episodes), desc=\"Episodes\"):  # Run for multiple episodes to learn\n",
    "    current_state = env.reset()\n",
    "    total_reward = 0\n",
    "    done = False\n",
    "    steps = 0  # Initialize step counter\n",
    "    while not done and steps < max_steps_per_episode:\n",
    "        action = agent.choose_action(current_state)\n",
    "        next_state, reward, done, info = env.step(action)\n",
    "        agent.learn(current_state, action, reward, next_state)\n",
    "        current_state = next_state\n",
    "        total_reward += reward\n",
    "        steps += 1  # Increment step counter\n",
    "    rewards.append(total_reward)\n",
    "    print(f'Episode {episode + 1}/{episodes}, Total Reward: {total_reward}')\n",
    "\n",
    "# Plotting the rewards over time\n",
    "plot_rewards(rewards)\n",
    "\n",
    "# Visualizing airfoil changes\n",
    "plot_airfoil_changes(env, episode_intervals=[10, 50, 100])\n"
   ]
  },
  {
   "cell_type": "code",
   "execution_count": 1,
   "id": "bb8509e5",
   "metadata": {
    "scrolled": false
   },
   "outputs": [
    {
     "name": "stderr",
     "output_type": "stream",
     "text": [
      "\r",
      "Episodes:   0%|          | 0/20 [00:00<?, ?it/s]"
     ]
    },
    {
     "name": "stdout",
     "output_type": "stream",
     "text": [
      "Simulation failed due to error: Command 'xfoil.exe < input_file.in' timed out after 5 seconds\n",
      "Simulation failed due to error: Command 'xfoil.exe < input_file.in' timed out after 5 seconds\n",
      "Simulation failed due to error: Command 'xfoil.exe < input_file.in' timed out after 5 seconds\n",
      "Simulation failed due to error: Command 'xfoil.exe < input_file.in' timed out after 5 seconds\n",
      "Simulation failed due to error: Command 'xfoil.exe < input_file.in' timed out after 5 seconds\n"
     ]
    },
    {
     "name": "stderr",
     "output_type": "stream",
     "text": [
      "\r",
      "Episodes:   5%|▌         | 1/20 [01:16<24:13, 76.51s/it]"
     ]
    },
    {
     "name": "stdout",
     "output_type": "stream",
     "text": [
      "Simulation failed due to error: Command 'xfoil.exe < input_file.in' timed out after 5 seconds\n",
      "Episode 1/20, Total Reward: -1.886859398530552\n",
      "Simulation failed due to error: Command 'xfoil.exe < input_file.in' timed out after 5 seconds\n",
      "Simulation failed due to error: Command 'xfoil.exe < input_file.in' timed out after 5 seconds\n",
      "Simulation failed due to error: Command 'xfoil.exe < input_file.in' timed out after 5 seconds\n",
      "Simulation failed due to error: Command 'xfoil.exe < input_file.in' timed out after 5 seconds\n"
     ]
    },
    {
     "name": "stderr",
     "output_type": "stream",
     "text": [
      "\r",
      "Episodes:  10%|█         | 2/20 [02:23<21:20, 71.15s/it]"
     ]
    },
    {
     "name": "stdout",
     "output_type": "stream",
     "text": [
      "Episode 2/20, Total Reward: 10.61872499547657\n",
      "Simulation failed due to error: Command 'xfoil.exe < input_file.in' timed out after 5 seconds\n"
     ]
    },
    {
     "name": "stderr",
     "output_type": "stream",
     "text": [
      "\r",
      "Episodes:  15%|█▌        | 3/20 [03:24<18:46, 66.28s/it]"
     ]
    },
    {
     "name": "stdout",
     "output_type": "stream",
     "text": [
      "Simulation failed due to error: Command 'xfoil.exe < input_file.in' timed out after 5 seconds\n",
      "Episode 3/20, Total Reward: 2.09860164933668\n",
      "Simulation failed due to error: Command 'xfoil.exe < input_file.in' timed out after 5 seconds\n",
      "Simulation failed due to error: Command 'xfoil.exe < input_file.in' timed out after 5 seconds\n",
      "Simulation failed due to error: Command 'xfoil.exe < input_file.in' timed out after 5 seconds\n",
      "Simulation failed due to error: Command 'xfoil.exe < input_file.in' timed out after 5 seconds\n",
      "Simulation failed due to error: Command 'xfoil.exe < input_file.in' timed out after 5 seconds\n",
      "Simulation failed due to error: Command 'xfoil.exe < input_file.in' timed out after 5 seconds\n",
      "Simulation failed due to error: Command 'xfoil.exe < input_file.in' timed out after 5 seconds\n",
      "Simulation failed due to error: Command 'xfoil.exe < input_file.in' timed out after 5 seconds\n",
      "Simulation failed due to error: Command 'xfoil.exe < input_file.in' timed out after 5 seconds\n",
      "Simulation failed due to error: Command 'xfoil.exe < input_file.in' timed out after 5 seconds\n"
     ]
    },
    {
     "name": "stderr",
     "output_type": "stream",
     "text": [
      "\r",
      "Episodes:  20%|██        | 4/20 [04:47<19:28, 73.05s/it]"
     ]
    },
    {
     "name": "stdout",
     "output_type": "stream",
     "text": [
      "Episode 4/20, Total Reward: 0.6144798215372127\n",
      "Simulation failed due to error: Command 'xfoil.exe < input_file.in' timed out after 5 seconds\n",
      "Simulation failed due to error: Command 'xfoil.exe < input_file.in' timed out after 5 seconds\n",
      "Simulation failed due to error: Command 'xfoil.exe < input_file.in' timed out after 5 seconds\n",
      "Simulation failed due to error: Command 'xfoil.exe < input_file.in' timed out after 5 seconds\n",
      "Simulation failed due to error: Command 'xfoil.exe < input_file.in' timed out after 5 seconds\n",
      "Simulation failed due to error: Command 'xfoil.exe < input_file.in' timed out after 5 seconds\n",
      "Simulation failed due to error: Command 'xfoil.exe < input_file.in' timed out after 5 seconds\n",
      "Simulation failed due to error: Command 'xfoil.exe < input_file.in' timed out after 5 seconds\n",
      "Simulation failed due to error: Command 'xfoil.exe < input_file.in' timed out after 5 seconds\n",
      "Simulation failed due to error: Command 'xfoil.exe < input_file.in' timed out after 5 seconds\n"
     ]
    },
    {
     "name": "stderr",
     "output_type": "stream",
     "text": [
      "\r",
      "Episodes:  25%|██▌       | 5/20 [06:16<19:41, 78.77s/it]"
     ]
    },
    {
     "name": "stdout",
     "output_type": "stream",
     "text": [
      "Simulation failed due to error: Command 'xfoil.exe < input_file.in' timed out after 5 seconds\n",
      "Episode 5/20, Total Reward: 5.077929173923437\n",
      "Simulation failed due to error: Command 'xfoil.exe < input_file.in' timed out after 5 seconds\n",
      "Simulation failed due to error: Command 'xfoil.exe < input_file.in' timed out after 5 seconds\n",
      "Simulation failed due to error: Command 'xfoil.exe < input_file.in' timed out after 5 seconds\n",
      "Simulation failed due to error: Command 'xfoil.exe < input_file.in' timed out after 5 seconds\n",
      "Simulation failed due to error: Command 'xfoil.exe < input_file.in' timed out after 5 seconds\n",
      "Simulation failed due to error: Command 'xfoil.exe < input_file.in' timed out after 5 seconds\n",
      "Simulation failed due to error: Command 'xfoil.exe < input_file.in' timed out after 5 seconds\n"
     ]
    },
    {
     "name": "stderr",
     "output_type": "stream",
     "text": [
      "\r",
      "Episodes:  30%|███       | 6/20 [07:29<17:52, 76.61s/it]"
     ]
    },
    {
     "name": "stdout",
     "output_type": "stream",
     "text": [
      "Episode 6/20, Total Reward: 2.0126537422298334\n",
      "Simulation failed due to error: Command 'xfoil.exe < input_file.in' timed out after 5 seconds\n",
      "Simulation failed due to error: Command 'xfoil.exe < input_file.in' timed out after 5 seconds\n",
      "Simulation failed due to error: Command 'xfoil.exe < input_file.in' timed out after 5 seconds\n",
      "Simulation failed due to error: Command 'xfoil.exe < input_file.in' timed out after 5 seconds\n",
      "Simulation failed due to error: Command 'xfoil.exe < input_file.in' timed out after 5 seconds\n",
      "Simulation failed due to error: Command 'xfoil.exe < input_file.in' timed out after 5 seconds\n",
      "Simulation failed due to error: Command 'xfoil.exe < input_file.in' timed out after 5 seconds\n"
     ]
    },
    {
     "name": "stderr",
     "output_type": "stream",
     "text": [
      "\r",
      "Episodes:  35%|███▌      | 7/20 [08:52<17:06, 78.96s/it]"
     ]
    },
    {
     "name": "stdout",
     "output_type": "stream",
     "text": [
      "Simulation failed due to error: Command 'xfoil.exe < input_file.in' timed out after 5 seconds\n",
      "Episode 7/20, Total Reward: 5.543279747230999\n",
      "Simulation failed due to error: Command 'xfoil.exe < input_file.in' timed out after 5 seconds\n",
      "Simulation failed due to error: Command 'xfoil.exe < input_file.in' timed out after 5 seconds\n",
      "Simulation failed due to error: Command 'xfoil.exe < input_file.in' timed out after 5 seconds\n",
      "Simulation failed due to error: Command 'xfoil.exe < input_file.in' timed out after 5 seconds\n",
      "Simulation failed due to error: Command 'xfoil.exe < input_file.in' timed out after 5 seconds\n",
      "Simulation failed due to error: Command 'xfoil.exe < input_file.in' timed out after 5 seconds\n",
      "Simulation failed due to error: Command 'xfoil.exe < input_file.in' timed out after 5 seconds\n",
      "Simulation failed due to error: Command 'xfoil.exe < input_file.in' timed out after 5 seconds\n",
      "Simulation failed due to error: Command 'xfoil.exe < input_file.in' timed out after 5 seconds\n"
     ]
    },
    {
     "name": "stderr",
     "output_type": "stream",
     "text": [
      "\r",
      "Episodes:  40%|████      | 8/20 [10:13<15:54, 79.54s/it]"
     ]
    },
    {
     "name": "stdout",
     "output_type": "stream",
     "text": [
      "Episode 8/20, Total Reward: 1.8904425699892968\n",
      "Simulation failed due to error: Command 'xfoil.exe < input_file.in' timed out after 5 seconds\n",
      "Simulation failed due to error: Command 'xfoil.exe < input_file.in' timed out after 5 seconds\n",
      "Simulation failed due to error: Command 'xfoil.exe < input_file.in' timed out after 5 seconds\n",
      "Simulation failed due to error: Command 'xfoil.exe < input_file.in' timed out after 5 seconds\n",
      "Simulation failed due to error: Command 'xfoil.exe < input_file.in' timed out after 5 seconds\n",
      "Simulation failed due to error: Command 'xfoil.exe < input_file.in' timed out after 5 seconds\n"
     ]
    },
    {
     "name": "stderr",
     "output_type": "stream",
     "text": [
      "\r",
      "Episodes:  45%|████▌     | 9/20 [11:30<14:24, 78.57s/it]"
     ]
    },
    {
     "name": "stdout",
     "output_type": "stream",
     "text": [
      "Simulation failed due to error: Command 'xfoil.exe < input_file.in' timed out after 5 seconds\n",
      "Episode 9/20, Total Reward: 5.385546969502908\n",
      "Simulation failed due to error: Command 'xfoil.exe < input_file.in' timed out after 5 seconds\n",
      "Simulation failed due to error: Command 'xfoil.exe < input_file.in' timed out after 5 seconds\n"
     ]
    },
    {
     "name": "stderr",
     "output_type": "stream",
     "text": [
      "\r",
      "Episodes:  50%|█████     | 10/20 [12:26<11:56, 71.69s/it]"
     ]
    },
    {
     "name": "stdout",
     "output_type": "stream",
     "text": [
      "Episode 10/20, Total Reward: 4.302189139201357\n",
      "Simulation failed due to error: Command 'xfoil.exe < input_file.in' timed out after 5 seconds\n",
      "Simulation failed due to error: Command 'xfoil.exe < input_file.in' timed out after 5 seconds\n",
      "Simulation failed due to error: Command 'xfoil.exe < input_file.in' timed out after 5 seconds\n",
      "Simulation failed due to error: Command 'xfoil.exe < input_file.in' timed out after 5 seconds\n",
      "Simulation failed due to error: Command 'xfoil.exe < input_file.in' timed out after 5 seconds\n",
      "Simulation failed due to error: Command 'xfoil.exe < input_file.in' timed out after 5 seconds\n",
      "Simulation failed due to error: Command 'xfoil.exe < input_file.in' timed out after 5 seconds\n",
      "Simulation failed due to error: Command 'xfoil.exe < input_file.in' timed out after 5 seconds\n",
      "Simulation failed due to error: Command 'xfoil.exe < input_file.in' timed out after 5 seconds\n",
      "Simulation failed due to error: Command 'xfoil.exe < input_file.in' timed out after 5 seconds\n",
      "Simulation failed due to error: Command 'xfoil.exe < input_file.in' timed out after 5 seconds\n",
      "Simulation failed due to error: Command 'xfoil.exe < input_file.in' timed out after 5 seconds\n",
      "Simulation failed due to error: Command 'xfoil.exe < input_file.in' timed out after 5 seconds\n"
     ]
    },
    {
     "name": "stderr",
     "output_type": "stream",
     "text": [
      "\r",
      "Episodes:  55%|█████▌    | 11/20 [14:03<11:55, 79.49s/it]"
     ]
    },
    {
     "name": "stdout",
     "output_type": "stream",
     "text": [
      "Episode 11/20, Total Reward: -0.7839315341553377\n",
      "Simulation failed due to error: Command 'xfoil.exe < input_file.in' timed out after 5 seconds\n",
      "Simulation failed due to error: Command 'xfoil.exe < input_file.in' timed out after 5 seconds\n",
      "Simulation failed due to error: Command 'xfoil.exe < input_file.in' timed out after 5 seconds\n",
      "Simulation failed due to error: Command 'xfoil.exe < input_file.in' timed out after 5 seconds\n",
      "Simulation failed due to error: Command 'xfoil.exe < input_file.in' timed out after 5 seconds\n",
      "Simulation failed due to error: Command 'xfoil.exe < input_file.in' timed out after 5 seconds\n",
      "Simulation failed due to error: Command 'xfoil.exe < input_file.in' timed out after 5 seconds\n",
      "Simulation failed due to error: Command 'xfoil.exe < input_file.in' timed out after 5 seconds\n",
      "Simulation failed due to error: Command 'xfoil.exe < input_file.in' timed out after 5 seconds\n",
      "Simulation failed due to error: Command 'xfoil.exe < input_file.in' timed out after 5 seconds\n",
      "Simulation failed due to error: Command 'xfoil.exe < input_file.in' timed out after 5 seconds\n",
      "Simulation failed due to error: Command 'xfoil.exe < input_file.in' timed out after 5 seconds\n",
      "Simulation failed due to error: Command 'xfoil.exe < input_file.in' timed out after 5 seconds\n",
      "Simulation failed due to error: Command 'xfoil.exe < input_file.in' timed out after 5 seconds\n",
      "Simulation failed due to error: Command 'xfoil.exe < input_file.in' timed out after 5 seconds\n"
     ]
    },
    {
     "name": "stderr",
     "output_type": "stream",
     "text": [
      "\r",
      "Episodes:  60%|██████    | 12/20 [15:50<11:41, 87.72s/it]"
     ]
    },
    {
     "name": "stdout",
     "output_type": "stream",
     "text": [
      "Episode 12/20, Total Reward: -3.853893942755713\n"
     ]
    },
    {
     "name": "stderr",
     "output_type": "stream",
     "text": [
      "\r",
      "Episodes:  65%|██████▌   | 13/20 [16:42<08:59, 77.01s/it]"
     ]
    },
    {
     "name": "stdout",
     "output_type": "stream",
     "text": [
      "Episode 13/20, Total Reward: 6.3460727411483555\n",
      "Simulation failed due to error: Command 'xfoil.exe < input_file.in' timed out after 5 seconds\n",
      "Simulation failed due to error: Command 'xfoil.exe < input_file.in' timed out after 5 seconds\n",
      "Simulation failed due to error: Command 'xfoil.exe < input_file.in' timed out after 5 seconds\n",
      "Simulation failed due to error: Command 'xfoil.exe < input_file.in' timed out after 5 seconds\n",
      "Simulation failed due to error: Command 'xfoil.exe < input_file.in' timed out after 5 seconds\n",
      "Simulation failed due to error: Command 'xfoil.exe < input_file.in' timed out after 5 seconds\n"
     ]
    },
    {
     "name": "stderr",
     "output_type": "stream",
     "text": [
      "\r",
      "Episodes:  70%|███████   | 14/20 [18:02<07:47, 77.91s/it]"
     ]
    },
    {
     "name": "stdout",
     "output_type": "stream",
     "text": [
      "Simulation failed due to error: Command 'xfoil.exe < input_file.in' timed out after 5 seconds\n",
      "Episode 14/20, Total Reward: 1.1706138020538468\n",
      "Simulation failed due to error: Command 'xfoil.exe < input_file.in' timed out after 5 seconds\n",
      "Simulation failed due to error: Command 'xfoil.exe < input_file.in' timed out after 5 seconds\n",
      "Simulation failed due to error: Command 'xfoil.exe < input_file.in' timed out after 5 seconds\n",
      "Simulation failed due to error: Command 'xfoil.exe < input_file.in' timed out after 5 seconds\n",
      "Simulation failed due to error: Command 'xfoil.exe < input_file.in' timed out after 5 seconds\n",
      "Simulation failed due to error: Command 'xfoil.exe < input_file.in' timed out after 5 seconds\n",
      "Simulation failed due to error: Command 'xfoil.exe < input_file.in' timed out after 5 seconds\n",
      "Simulation failed due to error: Command 'xfoil.exe < input_file.in' timed out after 5 seconds\n",
      "Simulation failed due to error: Command 'xfoil.exe < input_file.in' timed out after 5 seconds\n",
      "Simulation failed due to error: Command 'xfoil.exe < input_file.in' timed out after 5 seconds\n",
      "Simulation failed due to error: Command 'xfoil.exe < input_file.in' timed out after 5 seconds\n",
      "Simulation failed due to error: Command 'xfoil.exe < input_file.in' timed out after 5 seconds\n",
      "Simulation failed due to error: Command 'xfoil.exe < input_file.in' timed out after 5 seconds\n",
      "Simulation failed due to error: Command 'xfoil.exe < input_file.in' timed out after 5 seconds\n",
      "Simulation failed due to error: Command 'xfoil.exe < input_file.in' timed out after 5 seconds\n",
      "Simulation failed due to error: Command 'xfoil.exe < input_file.in' timed out after 5 seconds\n",
      "Simulation failed due to error: Command 'xfoil.exe < input_file.in' timed out after 5 seconds\n",
      "Simulation failed due to error: Command 'xfoil.exe < input_file.in' timed out after 5 seconds\n",
      "Simulation failed due to error: Command 'xfoil.exe < input_file.in' timed out after 5 seconds\n",
      "Simulation failed due to error: Command 'xfoil.exe < input_file.in' timed out after 5 seconds\n",
      "Simulation failed due to error: Command 'xfoil.exe < input_file.in' timed out after 5 seconds\n",
      "Simulation failed due to error: Command 'xfoil.exe < input_file.in' timed out after 5 seconds\n",
      "Simulation failed due to error: Command 'xfoil.exe < input_file.in' timed out after 5 seconds\n"
     ]
    },
    {
     "name": "stderr",
     "output_type": "stream",
     "text": [
      "\r",
      "Episodes:  75%|███████▌  | 15/20 [20:15<07:52, 94.44s/it]"
     ]
    },
    {
     "name": "stdout",
     "output_type": "stream",
     "text": [
      "Simulation failed due to error: Command 'xfoil.exe < input_file.in' timed out after 5 seconds\n",
      "Episode 15/20, Total Reward: -13.9451007258184\n",
      "Simulation failed due to error: Command 'xfoil.exe < input_file.in' timed out after 5 seconds\n",
      "Simulation failed due to error: Command 'xfoil.exe < input_file.in' timed out after 5 seconds\n",
      "Simulation failed due to error: Command 'xfoil.exe < input_file.in' timed out after 5 seconds\n",
      "Simulation failed due to error: Command 'xfoil.exe < input_file.in' timed out after 5 seconds\n",
      "Simulation failed due to error: Command 'xfoil.exe < input_file.in' timed out after 5 seconds\n",
      "Simulation failed due to error: Command 'xfoil.exe < input_file.in' timed out after 5 seconds\n"
     ]
    },
    {
     "name": "stderr",
     "output_type": "stream",
     "text": [
      "\r",
      "Episodes:  80%|████████  | 16/20 [21:39<06:05, 91.42s/it]"
     ]
    },
    {
     "name": "stdout",
     "output_type": "stream",
     "text": [
      "Episode 16/20, Total Reward: 6.983930563806819\n",
      "Simulation failed due to error: Command 'xfoil.exe < input_file.in' timed out after 5 seconds\n",
      "Simulation failed due to error: Command 'xfoil.exe < input_file.in' timed out after 5 seconds\n",
      "Simulation failed due to error: Command 'xfoil.exe < input_file.in' timed out after 5 seconds\n",
      "Simulation failed due to error: Command 'xfoil.exe < input_file.in' timed out after 5 seconds\n",
      "Simulation failed due to error: Command 'xfoil.exe < input_file.in' timed out after 5 seconds\n",
      "Simulation failed due to error: Command 'xfoil.exe < input_file.in' timed out after 5 seconds\n",
      "Simulation failed due to error: Command 'xfoil.exe < input_file.in' timed out after 5 seconds\n",
      "Simulation failed due to error: Command 'xfoil.exe < input_file.in' timed out after 5 seconds\n",
      "Simulation failed due to error: Command 'xfoil.exe < input_file.in' timed out after 5 seconds\n",
      "Simulation failed due to error: Command 'xfoil.exe < input_file.in' timed out after 5 seconds\n",
      "Simulation failed due to error: Command 'xfoil.exe < input_file.in' timed out after 5 seconds\n",
      "Simulation failed due to error: Command 'xfoil.exe < input_file.in' timed out after 5 seconds\n",
      "Simulation failed due to error: Command 'xfoil.exe < input_file.in' timed out after 5 seconds\n",
      "Simulation failed due to error: Command 'xfoil.exe < input_file.in' timed out after 5 seconds\n",
      "Simulation failed due to error: Command 'xfoil.exe < input_file.in' timed out after 5 seconds\n",
      "Simulation failed due to error: Command 'xfoil.exe < input_file.in' timed out after 5 seconds\n",
      "Simulation failed due to error: Command 'xfoil.exe < input_file.in' timed out after 5 seconds\n",
      "Simulation failed due to error: Command 'xfoil.exe < input_file.in' timed out after 5 seconds\n",
      "Simulation failed due to error: Command 'xfoil.exe < input_file.in' timed out after 5 seconds\n",
      "Simulation failed due to error: Command 'xfoil.exe < input_file.in' timed out after 5 seconds\n",
      "Simulation failed due to error: Command 'xfoil.exe < input_file.in' timed out after 5 seconds\n",
      "Simulation failed due to error: Command 'xfoil.exe < input_file.in' timed out after 5 seconds\n",
      "Simulation failed due to error: Command 'xfoil.exe < input_file.in' timed out after 5 seconds\n",
      "Simulation failed due to error: Command 'xfoil.exe < input_file.in' timed out after 5 seconds\n"
     ]
    },
    {
     "name": "stderr",
     "output_type": "stream",
     "text": [
      "\r",
      "Episodes:  85%|████████▌ | 17/20 [23:57<05:16, 105.39s/it]"
     ]
    },
    {
     "name": "stdout",
     "output_type": "stream",
     "text": [
      "Simulation failed due to error: Command 'xfoil.exe < input_file.in' timed out after 5 seconds\n",
      "Episode 17/20, Total Reward: -14.179180424261613\n",
      "Simulation failed due to error: Command 'xfoil.exe < input_file.in' timed out after 5 seconds\n",
      "Simulation failed due to error: Command 'xfoil.exe < input_file.in' timed out after 5 seconds\n",
      "Simulation failed due to error: Command 'xfoil.exe < input_file.in' timed out after 5 seconds\n",
      "Simulation failed due to error: Command 'xfoil.exe < input_file.in' timed out after 5 seconds\n",
      "Simulation failed due to error: Command 'xfoil.exe < input_file.in' timed out after 5 seconds\n",
      "Simulation failed due to error: Command 'xfoil.exe < input_file.in' timed out after 5 seconds\n",
      "Simulation failed due to error: Command 'xfoil.exe < input_file.in' timed out after 5 seconds\n",
      "Simulation failed due to error: Command 'xfoil.exe < input_file.in' timed out after 5 seconds\n",
      "Simulation failed due to error: Command 'xfoil.exe < input_file.in' timed out after 5 seconds\n",
      "Simulation failed due to error: Command 'xfoil.exe < input_file.in' timed out after 5 seconds\n",
      "Simulation failed due to error: Command 'xfoil.exe < input_file.in' timed out after 5 seconds\n",
      "Simulation failed due to error: Command 'xfoil.exe < input_file.in' timed out after 5 seconds\n",
      "Simulation failed due to error: Command 'xfoil.exe < input_file.in' timed out after 5 seconds\n",
      "Simulation failed due to error: Command 'xfoil.exe < input_file.in' timed out after 5 seconds\n",
      "Simulation failed due to error: Command 'xfoil.exe < input_file.in' timed out after 5 seconds\n",
      "Simulation failed due to error: Command 'xfoil.exe < input_file.in' timed out after 5 seconds\n",
      "Simulation failed due to error: Command 'xfoil.exe < input_file.in' timed out after 5 seconds\n",
      "Simulation failed due to error: Command 'xfoil.exe < input_file.in' timed out after 5 seconds\n"
     ]
    },
    {
     "name": "stderr",
     "output_type": "stream",
     "text": [
      "\r",
      "Episodes:  90%|█████████ | 18/20 [25:51<03:35, 107.83s/it]"
     ]
    },
    {
     "name": "stdout",
     "output_type": "stream",
     "text": [
      "Episode 18/20, Total Reward: -6.322624633092195\n",
      "Simulation failed due to error: Command 'xfoil.exe < input_file.in' timed out after 5 seconds\n"
     ]
    },
    {
     "name": "stderr",
     "output_type": "stream",
     "text": [
      "\r",
      "Episodes:  95%|█████████▌| 19/20 [26:47<01:32, 92.51s/it] "
     ]
    },
    {
     "name": "stdout",
     "output_type": "stream",
     "text": [
      "Episode 19/20, Total Reward: 7.671366230278618\n",
      "Simulation failed due to error: Command 'xfoil.exe < input_file.in' timed out after 5 seconds\n",
      "Simulation failed due to error: Command 'xfoil.exe < input_file.in' timed out after 5 seconds\n",
      "Simulation failed due to error: Command 'xfoil.exe < input_file.in' timed out after 5 seconds\n",
      "Simulation failed due to error: Command 'xfoil.exe < input_file.in' timed out after 5 seconds\n",
      "Simulation failed due to error: Command 'xfoil.exe < input_file.in' timed out after 5 seconds\n",
      "Simulation failed due to error: Command 'xfoil.exe < input_file.in' timed out after 5 seconds\n",
      "Simulation failed due to error: Command 'xfoil.exe < input_file.in' timed out after 5 seconds\n",
      "Simulation failed due to error: Command 'xfoil.exe < input_file.in' timed out after 5 seconds\n",
      "Simulation failed due to error: Command 'xfoil.exe < input_file.in' timed out after 5 seconds\n",
      "Simulation failed due to error: Command 'xfoil.exe < input_file.in' timed out after 5 seconds\n",
      "Simulation failed due to error: Command 'xfoil.exe < input_file.in' timed out after 5 seconds\n",
      "Simulation failed due to error: Command 'xfoil.exe < input_file.in' timed out after 5 seconds\n",
      "Simulation failed due to error: Command 'xfoil.exe < input_file.in' timed out after 5 seconds\n",
      "Simulation failed due to error: Command 'xfoil.exe < input_file.in' timed out after 5 seconds\n",
      "Simulation failed due to error: Command 'xfoil.exe < input_file.in' timed out after 5 seconds\n",
      "Simulation failed due to error: Command 'xfoil.exe < input_file.in' timed out after 5 seconds\n",
      "Simulation failed due to error: Command 'xfoil.exe < input_file.in' timed out after 5 seconds\n",
      "Simulation failed due to error: Command 'xfoil.exe < input_file.in' timed out after 5 seconds\n",
      "Simulation failed due to error: Command 'xfoil.exe < input_file.in' timed out after 5 seconds\n",
      "Simulation failed due to error: Command 'xfoil.exe < input_file.in' timed out after 5 seconds\n",
      "Simulation failed due to error: Command 'xfoil.exe < input_file.in' timed out after 5 seconds\n",
      "Simulation failed due to error: Command 'xfoil.exe < input_file.in' timed out after 5 seconds\n",
      "Simulation failed due to error: Command 'xfoil.exe < input_file.in' timed out after 5 seconds\n",
      "Simulation failed due to error: Command 'xfoil.exe < input_file.in' timed out after 5 seconds\n",
      "Simulation failed due to error: Command 'xfoil.exe < input_file.in' timed out after 5 seconds\n",
      "Simulation failed due to error: Command 'xfoil.exe < input_file.in' timed out after 5 seconds\n",
      "Simulation failed due to error: Command 'xfoil.exe < input_file.in' timed out after 5 seconds\n",
      "Simulation failed due to error: Command 'xfoil.exe < input_file.in' timed out after 5 seconds\n",
      "Simulation failed due to error: Command 'xfoil.exe < input_file.in' timed out after 5 seconds\n"
     ]
    },
    {
     "name": "stderr",
     "output_type": "stream",
     "text": [
      "Episodes: 100%|██████████| 20/20 [29:18<00:00, 87.93s/it] "
     ]
    },
    {
     "name": "stdout",
     "output_type": "stream",
     "text": [
      "Episode 20/20, Total Reward: -18.77597314831501\n"
     ]
    },
    {
     "name": "stderr",
     "output_type": "stream",
     "text": [
      "\n"
     ]
    },
    {
     "data": {
      "image/png": "[encoded data removed]",
      "text/plain": [
       "<Figure size 720x360 with 1 Axes>"
      ]
     },
     "metadata": {
      "needs_background": "light"
     },
     "output_type": "display_data"
    },
    {
     "data": {
      "image/png": "[encoded data removed]",
      "text/plain": [
       "<Figure size 720x360 with 1 Axes>"
      ]
     },
     "metadata": {
      "needs_background": "light"
     },
     "output_type": "display_data"
    },
    {
     "name": "stdout",
     "output_type": "stream",
     "text": [
      "Lift Coefficient: 1.2297, Drag Coefficient: 0.1112, Cl/Cd: 11.0606\n",
      "Simulation failed due to error: Command 'xfoil.exe < input_file.in' timed out after 5 seconds\n"
     ]
    },
    {
     "data": {
      "image/png": "[encoded data removed]",
      "text/plain": [
       "<Figure size 720x360 with 1 Axes>"
      ]
     },
     "metadata": {
      "needs_background": "light"
     },
     "output_type": "display_data"
    },
    {
     "name": "stdout",
     "output_type": "stream",
     "text": [
      "Lift Coefficient: 1.1657, Drag Coefficient: 0.1184, Cl/Cd: 9.8481\n",
      "Simulation failed due to error: Command 'xfoil.exe < input_file.in' timed out after 5 seconds\n",
      "Simulation failed due to error: Command 'xfoil.exe < input_file.in' timed out after 5 seconds\n"
     ]
    },
    {
     "data": {
      "image/png": "[encoded data removed]",
      "text/plain": [
       "<Figure size 720x360 with 1 Axes>"
      ]
     },
     "metadata": {
      "needs_background": "light"
     },
     "output_type": "display_data"
    },
    {
     "name": "stdout",
     "output_type": "stream",
     "text": [
      "Lift Coefficient: 1.2800, Drag Coefficient: 0.1031, Cl/Cd: 12.4206\n"
     ]
    }
   ],
   "source": [
    "import gym\n",
    "from gym import spaces\n",
    "import numpy as np\n",
    "import os\n",
    "import subprocess\n",
    "from scipy.interpolate import splprep, splev\n",
    "import matplotlib.pyplot as plt\n",
    "import random\n",
    "from tqdm import tqdm  # Import the tqdm library for the progress bar\n",
    "\n",
    "class AirfoilOptimizationEnv(gym.Env):\n",
    "    def __init__(self):\n",
    "        super(AirfoilOptimizationEnv, self).__init__()\n",
    "        self.current_state = self.generate_initial_airfoil()\n",
    "        self.num_control_points = self.current_state.shape[0]\n",
    "\n",
    "        # Define action space and observation space to match the number of control points.\n",
    "        self.action_space = spaces.Box(low=-0.01, high=0.01, shape=(self.num_control_points, 2), dtype=np.float32)\n",
    "        self.observation_space = spaces.Box(low=0, high=1, shape=(self.num_control_points, 2), dtype=np.float32)\n",
    "        \n",
    "        self.airfoil_name = \"NACA0012\"\n",
    "        self.lift_coeff = 1e-5  # Initialize to a small positive value to avoid dividing by zero\n",
    "        self.drag_coeff = 1e-5  # Initialize to a small positive value to avoid dividing by zero\n",
    "        self.prev_cl_cd = 0\n",
    "\n",
    "    def step(self, action):\n",
    "        # Clip the action to ensure small changes\n",
    "        action = np.clip(action, -0.001, 0.001)\n",
    "        # Apply the action to modify the control points\n",
    "        self.current_state += action\n",
    "        # Generate new airfoil shape using B-spline interpolation\n",
    "        airfoil_shape = self.interpolate_airfoil(self.current_state)\n",
    "        # Save the interpolated airfoil shape to a .dat file for XFOIL\n",
    "        self.save_airfoil_shape(airfoil_shape)\n",
    "        # Run XFOIL simulation to get the reward\n",
    "        reward, done = self.simulate_airfoil_performance()\n",
    "        return self.discretize_state(self.current_state), reward, done, {}\n",
    "\n",
    "    def reset(self):\n",
    "        # Reset the airfoil to the initial state\n",
    "        self.current_state = self.generate_initial_airfoil()\n",
    "        self.prev_cl_cd = 0  # Reset the previous Cl/Cd ratio\n",
    "        return self.discretize_state(self.current_state)\n",
    "\n",
    "    def render(self, mode='console'):\n",
    "        if mode == 'console':\n",
    "            print(f'Current control points: {self.current_state}')\n",
    "        elif mode == 'human':\n",
    "            airfoil_shape = self.interpolate_airfoil(self.current_state)\n",
    "            self.plot_airfoil(airfoil_shape)\n",
    "\n",
    "    def simulate_airfoil_performance(self):\n",
    "        alpha_i = 0\n",
    "        alpha_f = 25\n",
    "        alpha_step = 1\n",
    "        Re = 1000000\n",
    "        n_iter = 100  # Increased number of iterations for better convergence\n",
    "        relaxation_factor = 0.1  # Adjusted relaxation factor\n",
    "\n",
    "        reward = -1  # Default negative reward\n",
    "        done = False  # Default not done\n",
    "\n",
    "        if os.path.exists(\"polar_file.txt\"):\n",
    "            os.remove(\"polar_file.txt\")\n",
    "\n",
    "        with open(\"input_file.in\", 'w') as input_file:\n",
    "            input_file.write(f\"LOAD {self.airfoil_name}.dat\\n\")\n",
    "            input_file.write(f\"{self.airfoil_name}\\n\")\n",
    "            input_file.write(\"PANE\\n\")\n",
    "            input_file.write(\"OPER\\n\")\n",
    "            input_file.write(f\"Visc {Re}\\n\")\n",
    "            input_file.write(\"PACC\\n\")\n",
    "            input_file.write(\"polar_file.txt\\n\\n\")\n",
    "            input_file.write(f\"ITER {n_iter}\\n\")\n",
    "            input_file.write(f\"RELF {relaxation_factor}\\n\")\n",
    "            input_file.write(f\"ASeq {alpha_i} {alpha_f} {alpha_step}\\n\")\n",
    "            input_file.write(\"\\n\\n\")\n",
    "            input_file.write(\"quit\\n\")\n",
    "\n",
    "        try:\n",
    "            process = subprocess.Popen(\"xfoil.exe < input_file.in\", shell=True)\n",
    "            process.wait(timeout=5)  # Wait for XFOIL to finish, with a timeout\n",
    "\n",
    "            if process.returncode != 0:\n",
    "                raise subprocess.TimeoutExpired(\"xfoil.exe\", timeout=5)\n",
    "\n",
    "            polar_data = np.loadtxt(\"polar_file.txt\", skiprows=12)\n",
    "            valid_indices = np.where((polar_data[:, 0] >= 15) & (polar_data[:, 0] <= 25))[0]\n",
    "            if len(valid_indices) > 0:\n",
    "                valid_data = polar_data[valid_indices]\n",
    "                avg_lift = np.mean(valid_data[:, 1])\n",
    "                avg_drag = np.mean(valid_data[:, 2])\n",
    "                self.lift_coeff = avg_lift\n",
    "                self.drag_coeff = avg_drag\n",
    "\n",
    "                cl_cd = avg_lift / avg_drag\n",
    "                reward = (cl_cd - self.prev_cl_cd)\n",
    "                self.prev_cl_cd = cl_cd\n",
    "                done = False\n",
    "            else:\n",
    "                print(\"Invalid data range in simulation.\")\n",
    "        except (subprocess.TimeoutExpired, Exception) as e:\n",
    "            print(f\"Simulation failed due to error: {e}\")\n",
    "            subprocess.call(\"taskkill /f /im xfoil.exe\", shell=True)  # Force kill XFOIL\n",
    "            process.wait()  # Ensure the process has terminated\n",
    "\n",
    "            self.current_state = self.generate_initial_airfoil()  # Generate a new airfoil shape\n",
    "            self.lift_coeff = 1e-5  # Reset to avoid zero division\n",
    "            self.drag_coeff = 1e-5  # Reset to avoid zero division\n",
    "        \n",
    "        return reward, done\n",
    "\n",
    "    def generate_initial_airfoil(self):\n",
    "        file_path = r'C:\\Users\\Jake\\ME-599-L-Group-Project\\xfoil-runner\\xfoil_runner\\NACA0012.dat'\n",
    "        if os.path.exists(file_path):\n",
    "            data = np.loadtxt(file_path)\n",
    "            data[:, 0] = (data[:, 0] - np.min(data[:, 0])) / (np.max(data[:, 0]) - np.min(data[:, 0]))\n",
    "            return data\n",
    "        else:\n",
    "            raise FileNotFoundError(\"The specified .dat file does not exist.\")\n",
    "    \n",
    "    def interpolate_airfoil(self, control_points):\n",
    "        # Ensure no two points are the same by adding a small perturbation if necessary\n",
    "        for i in range(len(control_points) - 1):\n",
    "            if np.allclose(control_points[i], control_points[i + 1]):\n",
    "                control_points[i + 1] += np.random.uniform(low=1e-5, high=1e-4, size=control_points[i + 1].shape)\n",
    "\n",
    "        tck, u = splprep([control_points[:, 0], control_points[:, 1]], s=1e-2)  # Adjusted smoothing parameter\n",
    "        unew = np.linspace(0, 1, 100)\n",
    "        out = splev(unew, tck)\n",
    "        interpolated_points = np.column_stack(out)\n",
    "\n",
    "        # Ensure the connection points of the top and bottom surfaces are not too distant\n",
    "        if np.linalg.norm(interpolated_points[0] - interpolated_points[-1]) > 1e-2:\n",
    "            mid_point = (interpolated_points[0] + interpolated_points[-1]) / 2\n",
    "            interpolated_points[0] = mid_point\n",
    "            interpolated_points[-1] = mid_point\n",
    "\n",
    "        return interpolated_points\n",
    "\n",
    "    def save_airfoil_shape(self, coordinates):\n",
    "        np.savetxt(f\"{self.airfoil_name}.dat\", coordinates, fmt=\"%.6f\")\n",
    "\n",
    "    def plot_airfoil(self, coordinates):\n",
    "        x, y = coordinates[:, 0], coordinates[:, 1]\n",
    "        plt.figure(figsize=(10, 5))\n",
    "        plt.plot(x, y, 'o-')\n",
    "        plt.title('Airfoil Shape')\n",
    "        plt.xlabel('Chord Position')\n",
    "        plt.ylabel('Vertical Position')\n",
    "        plt.axis('equal')\n",
    "        plt.grid(True)\n",
    "        plt.show()\n",
    "        print(f\"Lift Coefficient: {self.lift_coeff:.4f}, Drag Coefficient: {self.drag_coeff:.4f}, Cl/Cd: {self.lift_coeff/self.drag_coeff:.4f}\")\n",
    "\n",
    "    def discretize_state(self, state, bins=10):\n",
    "        # Flatten the state array\n",
    "        state_flat = state.flatten()\n",
    "        # Convert the state to a tuple of integers\n",
    "        discrete_state = tuple(np.digitize(state_flat, np.linspace(0, 1, bins)))\n",
    "        return discrete_state\n",
    "\n",
    "\n",
    "class QLearningAgent:\n",
    "    def __init__(self, action_space, state_space, learning_rate=0.1, discount_factor=0.99, exploration_rate=1.0, exploration_decay=0.995):\n",
    "        self.action_space = action_space\n",
    "        self.state_space = state_space\n",
    "        self.q_table = {}\n",
    "        self.learning_rate = learning_rate\n",
    "        self.discount_factor = discount_factor\n",
    "        self.exploration_rate = exploration_rate\n",
    "        self.exploration_decay = exploration_decay\n",
    "\n",
    "    def get_q_value(self, state, action):\n",
    "        state_action_pair = (state, tuple(action.flatten()))\n",
    "        return self.q_table.get(state_action_pair, 0.0)\n",
    "\n",
    "    def set_q_value(self, state, action, value):\n",
    "        state_action_pair = (state, tuple(action.flatten()))\n",
    "        self.q_table[state_action_pair] = value\n",
    "\n",
    "    def choose_action(self, state):\n",
    "        if random.uniform(0, 1) < self.exploration_rate:\n",
    "            return self.action_space.sample()\n",
    "        else:\n",
    "            q_values = [self.get_q_value(state, action) for action in self.get_possible_actions()]\n",
    "            max_q_value = max(q_values)\n",
    "            max_q_actions = [action for action, q_value in zip(self.get_possible_actions(), q_values) if q_value == max_q_value]\n",
    "            return random.choice(max_q_actions)\n",
    "\n",
    "    def get_possible_actions(self):\n",
    "        return [np.clip(np.random.uniform(-0.001, 0.001, self.action_space.shape), -0.001, 0.001) for _ in range(10)]\n",
    "\n",
    "    def learn(self, state, action, reward, next_state):\n",
    "        current_q = self.get_q_value(state, action)\n",
    "        max_next_q = max([self.get_q_value(next_state, next_action) for next_action in self.get_possible_actions()])\n",
    "        new_q = current_q + self.learning_rate * (reward + self.discount_factor * max_next_q - current_q)\n",
    "        self.set_q_value(state, action, new_q)\n",
    "        self.exploration_rate *= self.exploration_decay\n",
    "\n",
    "# Visualization functions\n",
    "def plot_rewards(rewards):\n",
    "    plt.figure(figsize=(10, 5))\n",
    "    plt.plot(rewards, label='Reward')\n",
    "    plt.xlabel('Episode')\n",
    "    plt.ylabel('Total Reward')\n",
    "    plt.title('Rewards Over Time')\n",
    "    plt.legend()\n",
    "    plt.grid(True)\n",
    "    plt.show()\n",
    "\n",
    "def plot_airfoil_changes(env, episode_intervals):\n",
    "    for episode in episode_intervals:\n",
    "        env.reset()\n",
    "        for _ in range(episode):\n",
    "            action = env.action_space.sample()\n",
    "            env.step(action)\n",
    "        env.render(mode='human')\n",
    "\n",
    "# Example usage with the environment\n",
    "env = AirfoilOptimizationEnv()\n",
    "agent = QLearningAgent(env.action_space, env.observation_space)\n",
    "rewards = []\n",
    "episodes = 20\n",
    "max_steps_per_episode = 30  # Define the maximum number of steps per episode\n",
    "\n",
    "# Adding progress bar\n",
    "for episode in tqdm(range(episodes), desc=\"Episodes\"):  # Run for multiple episodes to learn\n",
    "    current_state = env.reset()\n",
    "    total_reward = 0\n",
    "    done = False\n",
    "    steps = 0  # Initialize step counter\n",
    "    while not done and steps < max_steps_per_episode:\n",
    "        action = agent.choose_action(current_state)\n",
    "        next_state, reward, done, info = env.step(action)\n",
    "        agent.learn(current_state, action, reward, next_state)\n",
    "        current_state = next_state\n",
    "        total_reward += reward\n",
    "        steps += 1  # Increment step counter\n",
    "    rewards.append(total_reward)\n",
    "    print(f'Episode {episode + 1}/{episodes}, Total Reward: {total_reward}')\n",
    "\n",
    "# Plotting the rewards over time\n",
    "plot_rewards(rewards)\n",
    "\n",
    "# Visualizing airfoil changes\n",
    "plot_airfoil_changes(env, episode_intervals=[1,5, 10, 20])\n",
    "\n"
   ]
  },
  {
   "cell_type": "code",
   "execution_count": 1,
   "id": "86447225",
   "metadata": {
    "scrolled": true
   },
   "outputs": [
    {
     "name": "stderr",
     "output_type": "stream",
     "text": [
      "\r",
      "Episodes:   0%|          | 0/50 [00:00<?, ?it/s]"
     ]
    },
    {
     "name": "stdout",
     "output_type": "stream",
     "text": [
      "Simulation failed due to error: Command 'xfoil.exe < input_file.in' timed out after 5 seconds\n",
      "Simulation failed due to error: Command 'xfoil.exe < input_file.in' timed out after 5 seconds\n",
      "Simulation failed due to error: Command 'xfoil.exe < input_file.in' timed out after 5 seconds\n"
     ]
    },
    {
     "name": "stderr",
     "output_type": "stream",
     "text": [
      "\r",
      "Episodes:   2%|▏         | 1/50 [01:55<1:34:07, 115.25s/it]"
     ]
    },
    {
     "name": "stdout",
     "output_type": "stream",
     "text": [
      "Episode 1/50, Total Reward: 463.06074056173736\n",
      "Simulation failed due to error: Command 'xfoil.exe < input_file.in' timed out after 5 seconds\n",
      "Simulation failed due to error: Command 'xfoil.exe < input_file.in' timed out after 5 seconds\n",
      "Simulation failed due to error: Command 'xfoil.exe < input_file.in' timed out after 5 seconds\n",
      "Simulation failed due to error: Command 'xfoil.exe < input_file.in' timed out after 5 seconds\n",
      "Simulation failed due to error: Command 'xfoil.exe < input_file.in' timed out after 5 seconds\n",
      "Simulation failed due to error: Command 'xfoil.exe < input_file.in' timed out after 5 seconds\n",
      "Simulation failed due to error: Command 'xfoil.exe < input_file.in' timed out after 5 seconds\n",
      "Simulation failed due to error: Command 'xfoil.exe < input_file.in' timed out after 5 seconds\n",
      "Simulation failed due to error: Command 'xfoil.exe < input_file.in' timed out after 5 seconds\n",
      "Simulation failed due to error: Command 'xfoil.exe < input_file.in' timed out after 5 seconds\n",
      "Simulation failed due to error: Command 'xfoil.exe < input_file.in' timed out after 5 seconds\n",
      "Simulation failed due to error: Command 'xfoil.exe < input_file.in' timed out after 5 seconds\n"
     ]
    },
    {
     "name": "stderr",
     "output_type": "stream",
     "text": [
      "\r",
      "Episodes:   4%|▍         | 2/50 [04:10<1:41:30, 126.89s/it]"
     ]
    },
    {
     "name": "stdout",
     "output_type": "stream",
     "text": [
      "Episode 2/50, Total Reward: 379.3956209196372\n",
      "Invalid data range in simulation.\n",
      "Invalid data range in simulation.\n",
      "Simulation failed due to error: Command 'xfoil.exe < input_file.in' timed out after 5 seconds\n",
      "Simulation failed due to error: Command 'xfoil.exe < input_file.in' timed out after 5 seconds\n",
      "Simulation failed due to error: Command 'xfoil.exe < input_file.in' timed out after 5 seconds\n",
      "Simulation failed due to error: Command 'xfoil.exe < input_file.in' timed out after 5 seconds\n",
      "Simulation failed due to error: Command 'xfoil.exe < input_file.in' timed out after 5 seconds\n",
      "Simulation failed due to error: Command 'xfoil.exe < input_file.in' timed out after 5 seconds\n",
      "Simulation failed due to error: Command 'xfoil.exe < input_file.in' timed out after 5 seconds\n",
      "Simulation failed due to error: Command 'xfoil.exe < input_file.in' timed out after 5 seconds\n",
      "Simulation failed due to error: Command 'xfoil.exe < input_file.in' timed out after 5 seconds\n",
      "Simulation failed due to error: Command 'xfoil.exe < input_file.in' timed out after 5 seconds\n",
      "Simulation failed due to error: Command 'xfoil.exe < input_file.in' timed out after 5 seconds\n",
      "Simulation failed due to error: Command 'xfoil.exe < input_file.in' timed out after 5 seconds\n"
     ]
    },
    {
     "name": "stderr",
     "output_type": "stream",
     "text": [
      "\r",
      "Episodes:   6%|▌         | 3/50 [06:34<1:45:32, 134.74s/it]"
     ]
    },
    {
     "name": "stdout",
     "output_type": "stream",
     "text": [
      "Episode 3/50, Total Reward: 354.1448668173256\n",
      "Simulation failed due to error: Command 'xfoil.exe < input_file.in' timed out after 5 seconds\n",
      "Simulation failed due to error: Command 'xfoil.exe < input_file.in' timed out after 5 seconds\n",
      "Simulation failed due to error: Command 'xfoil.exe < input_file.in' timed out after 5 seconds\n",
      "Simulation failed due to error: Command 'xfoil.exe < input_file.in' timed out after 5 seconds\n",
      "Simulation failed due to error: Command 'xfoil.exe < input_file.in' timed out after 5 seconds\n",
      "Simulation failed due to error: Command 'xfoil.exe < input_file.in' timed out after 5 seconds\n",
      "Simulation failed due to error: Command 'xfoil.exe < input_file.in' timed out after 5 seconds\n",
      "Simulation failed due to error: Command 'xfoil.exe < input_file.in' timed out after 5 seconds\n"
     ]
    },
    {
     "name": "stderr",
     "output_type": "stream",
     "text": [
      "\r",
      "Episodes:   8%|▊         | 4/50 [08:39<1:40:24, 130.97s/it]"
     ]
    },
    {
     "name": "stdout",
     "output_type": "stream",
     "text": [
      "Episode 4/50, Total Reward: 423.4755441409761\n",
      "Simulation failed due to error: Command 'xfoil.exe < input_file.in' timed out after 5 seconds\n",
      "Simulation failed due to error: Command 'xfoil.exe < input_file.in' timed out after 5 seconds\n",
      "Simulation failed due to error: Command 'xfoil.exe < input_file.in' timed out after 5 seconds\n",
      "Simulation failed due to error: Command 'xfoil.exe < input_file.in' timed out after 5 seconds\n",
      "Simulation failed due to error: Command 'xfoil.exe < input_file.in' timed out after 5 seconds\n",
      "Simulation failed due to error: Command 'xfoil.exe < input_file.in' timed out after 5 seconds\n",
      "Simulation failed due to error: Command 'xfoil.exe < input_file.in' timed out after 5 seconds\n",
      "Simulation failed due to error: Command 'xfoil.exe < input_file.in' timed out after 5 seconds\n",
      "Simulation failed due to error: Command 'xfoil.exe < input_file.in' timed out after 5 seconds\n",
      "Simulation failed due to error: Command 'xfoil.exe < input_file.in' timed out after 5 seconds\n",
      "Simulation failed due to error: Command 'xfoil.exe < input_file.in' timed out after 5 seconds\n",
      "Simulation failed due to error: Command 'xfoil.exe < input_file.in' timed out after 5 seconds\n",
      "Simulation failed due to error: Command 'xfoil.exe < input_file.in' timed out after 5 seconds\n"
     ]
    },
    {
     "name": "stderr",
     "output_type": "stream",
     "text": [
      "\r",
      "Episodes:  10%|█         | 5/50 [10:57<1:40:07, 133.50s/it]"
     ]
    },
    {
     "name": "stdout",
     "output_type": "stream",
     "text": [
      "Episode 5/50, Total Reward: 359.56258124742874\n",
      "Simulation failed due to error: Command 'xfoil.exe < input_file.in' timed out after 5 seconds\n",
      "Simulation failed due to error: Command 'xfoil.exe < input_file.in' timed out after 5 seconds\n",
      "Simulation failed due to error: Command 'xfoil.exe < input_file.in' timed out after 5 seconds\n",
      "Simulation failed due to error: Command 'xfoil.exe < input_file.in' timed out after 5 seconds\n",
      "Simulation failed due to error: Command 'xfoil.exe < input_file.in' timed out after 5 seconds\n",
      "Simulation failed due to error: Command 'xfoil.exe < input_file.in' timed out after 5 seconds\n",
      "Simulation failed due to error: Command 'xfoil.exe < input_file.in' timed out after 5 seconds\n"
     ]
    },
    {
     "name": "stderr",
     "output_type": "stream",
     "text": [
      "\r",
      "Episodes:  12%|█▏        | 6/50 [13:05<1:36:30, 131.60s/it]"
     ]
    },
    {
     "name": "stdout",
     "output_type": "stream",
     "text": [
      "Simulation failed due to error: Command 'xfoil.exe < input_file.in' timed out after 5 seconds\n",
      "Episode 6/50, Total Reward: 403.72351477710964\n",
      "Simulation failed due to error: Command 'xfoil.exe < input_file.in' timed out after 5 seconds\n",
      "Simulation failed due to error: Command 'xfoil.exe < input_file.in' timed out after 5 seconds\n",
      "Simulation failed due to error: Command 'xfoil.exe < input_file.in' timed out after 5 seconds\n",
      "Simulation failed due to error: Command 'xfoil.exe < input_file.in' timed out after 5 seconds\n",
      "Simulation failed due to error: Command 'xfoil.exe < input_file.in' timed out after 5 seconds\n",
      "Simulation failed due to error: Command 'xfoil.exe < input_file.in' timed out after 5 seconds\n",
      "Simulation failed due to error: Command 'xfoil.exe < input_file.in' timed out after 5 seconds\n",
      "Simulation failed due to error: Command 'xfoil.exe < input_file.in' timed out after 5 seconds\n",
      "Simulation failed due to error: Command 'xfoil.exe < input_file.in' timed out after 5 seconds\n",
      "Simulation failed due to error: Command 'xfoil.exe < input_file.in' timed out after 5 seconds\n",
      "Simulation failed due to error: Command 'xfoil.exe < input_file.in' timed out after 5 seconds\n",
      "Simulation failed due to error: Command 'xfoil.exe < input_file.in' timed out after 5 seconds\n",
      "Simulation failed due to error: Command 'xfoil.exe < input_file.in' timed out after 5 seconds\n",
      "Simulation failed due to error: Command 'xfoil.exe < input_file.in' timed out after 5 seconds\n",
      "Simulation failed due to error: Command 'xfoil.exe < input_file.in' timed out after 5 seconds\n",
      "Simulation failed due to error: Command 'xfoil.exe < input_file.in' timed out after 5 seconds\n",
      "Simulation failed due to error: Command 'xfoil.exe < input_file.in' timed out after 5 seconds\n",
      "Simulation failed due to error: Command 'xfoil.exe < input_file.in' timed out after 5 seconds\n",
      "Simulation failed due to error: Command 'xfoil.exe < input_file.in' timed out after 5 seconds\n"
     ]
    },
    {
     "name": "stderr",
     "output_type": "stream",
     "text": [
      "\r",
      "Episodes:  14%|█▍        | 7/50 [15:38<1:39:20, 138.62s/it]"
     ]
    },
    {
     "name": "stdout",
     "output_type": "stream",
     "text": [
      "Episode 7/50, Total Reward: 297.1076669356598\n",
      "Simulation failed due to error: Command 'xfoil.exe < input_file.in' timed out after 5 seconds\n",
      "Simulation failed due to error: Command 'xfoil.exe < input_file.in' timed out after 5 seconds\n",
      "Simulation failed due to error: Command 'xfoil.exe < input_file.in' timed out after 5 seconds\n",
      "Simulation failed due to error: Command 'xfoil.exe < input_file.in' timed out after 5 seconds\n",
      "Simulation failed due to error: Command 'xfoil.exe < input_file.in' timed out after 5 seconds\n",
      "Simulation failed due to error: Command 'xfoil.exe < input_file.in' timed out after 5 seconds\n",
      "Simulation failed due to error: Command 'xfoil.exe < input_file.in' timed out after 5 seconds\n",
      "Simulation failed due to error: Command 'xfoil.exe < input_file.in' timed out after 5 seconds\n",
      "Simulation failed due to error: Command 'xfoil.exe < input_file.in' timed out after 5 seconds\n",
      "Simulation failed due to error: Command 'xfoil.exe < input_file.in' timed out after 5 seconds\n",
      "Simulation failed due to error: Command 'xfoil.exe < input_file.in' timed out after 5 seconds\n"
     ]
    },
    {
     "name": "stderr",
     "output_type": "stream",
     "text": [
      "\r",
      "Episodes:  16%|█▌        | 8/50 [17:52<1:35:54, 137.01s/it]"
     ]
    },
    {
     "name": "stdout",
     "output_type": "stream",
     "text": [
      "Episode 8/50, Total Reward: 403.7306395162503\n",
      "Simulation failed due to error: Command 'xfoil.exe < input_file.in' timed out after 5 seconds\n",
      "Simulation failed due to error: Command 'xfoil.exe < input_file.in' timed out after 5 seconds\n",
      "Simulation failed due to error: Command 'xfoil.exe < input_file.in' timed out after 5 seconds\n",
      "Simulation failed due to error: Command 'xfoil.exe < input_file.in' timed out after 5 seconds\n",
      "Simulation failed due to error: Command 'xfoil.exe < input_file.in' timed out after 5 seconds\n",
      "Simulation failed due to error: Command 'xfoil.exe < input_file.in' timed out after 5 seconds\n",
      "Simulation failed due to error: Command 'xfoil.exe < input_file.in' timed out after 5 seconds\n",
      "Simulation failed due to error: Command 'xfoil.exe < input_file.in' timed out after 5 seconds\n",
      "Simulation failed due to error: Command 'xfoil.exe < input_file.in' timed out after 5 seconds\n",
      "Simulation failed due to error: Command 'xfoil.exe < input_file.in' timed out after 5 seconds\n",
      "Simulation failed due to error: Command 'xfoil.exe < input_file.in' timed out after 5 seconds\n",
      "Simulation failed due to error: Command 'xfoil.exe < input_file.in' timed out after 5 seconds\n"
     ]
    },
    {
     "name": "stderr",
     "output_type": "stream",
     "text": [
      "\r",
      "Episodes:  18%|█▊        | 9/50 [20:05<1:32:48, 135.82s/it]"
     ]
    },
    {
     "name": "stdout",
     "output_type": "stream",
     "text": [
      "Episode 9/50, Total Reward: 364.8085407940364\n",
      "Simulation failed due to error: Command 'xfoil.exe < input_file.in' timed out after 5 seconds\n",
      "Simulation failed due to error: Command 'xfoil.exe < input_file.in' timed out after 5 seconds\n",
      "Simulation failed due to error: Command 'xfoil.exe < input_file.in' timed out after 5 seconds\n",
      "Simulation failed due to error: Command 'xfoil.exe < input_file.in' timed out after 5 seconds\n",
      "Simulation failed due to error: Command 'xfoil.exe < input_file.in' timed out after 5 seconds\n",
      "Simulation failed due to error: Command 'xfoil.exe < input_file.in' timed out after 5 seconds\n",
      "Simulation failed due to error: Command 'xfoil.exe < input_file.in' timed out after 5 seconds\n",
      "Simulation failed due to error: Command 'xfoil.exe < input_file.in' timed out after 5 seconds\n",
      "Simulation failed due to error: Command 'xfoil.exe < input_file.in' timed out after 5 seconds\n",
      "Simulation failed due to error: Command 'xfoil.exe < input_file.in' timed out after 5 seconds\n",
      "Simulation failed due to error: Command 'xfoil.exe < input_file.in' timed out after 5 seconds\n",
      "Simulation failed due to error: Command 'xfoil.exe < input_file.in' timed out after 5 seconds\n",
      "Simulation failed due to error: Command 'xfoil.exe < input_file.in' timed out after 5 seconds\n",
      "Simulation failed due to error: Command 'xfoil.exe < input_file.in' timed out after 5 seconds\n",
      "Simulation failed due to error: Command 'xfoil.exe < input_file.in' timed out after 5 seconds\n",
      "Simulation failed due to error: Command 'xfoil.exe < input_file.in' timed out after 5 seconds\n",
      "Simulation failed due to error: Command 'xfoil.exe < input_file.in' timed out after 5 seconds\n",
      "Simulation failed due to error: Command 'xfoil.exe < input_file.in' timed out after 5 seconds\n",
      "Simulation failed due to error: Command 'xfoil.exe < input_file.in' timed out after 5 seconds\n",
      "Simulation failed due to error: Command 'xfoil.exe < input_file.in' timed out after 5 seconds\n",
      "Simulation failed due to error: Command 'xfoil.exe < input_file.in' timed out after 5 seconds\n",
      "Simulation failed due to error: Command 'xfoil.exe < input_file.in' timed out after 5 seconds\n",
      "Simulation failed due to error: Command 'xfoil.exe < input_file.in' timed out after 5 seconds\n",
      "Simulation failed due to error: Command 'xfoil.exe < input_file.in' timed out after 5 seconds\n",
      "Simulation failed due to error: Command 'xfoil.exe < input_file.in' timed out after 5 seconds\n",
      "Simulation failed due to error: Command 'xfoil.exe < input_file.in' timed out after 5 seconds\n",
      "Simulation failed due to error: Command 'xfoil.exe < input_file.in' timed out after 5 seconds\n",
      "Simulation failed due to error: Command 'xfoil.exe < input_file.in' timed out after 5 seconds\n",
      "Simulation failed due to error: Command 'xfoil.exe < input_file.in' timed out after 5 seconds\n",
      "Simulation failed due to error: Command 'xfoil.exe < input_file.in' timed out after 5 seconds\n",
      "Simulation failed due to error: Command 'xfoil.exe < input_file.in' timed out after 5 seconds\n",
      "Simulation failed due to error: Command 'xfoil.exe < input_file.in' timed out after 5 seconds\n",
      "Simulation failed due to error: Command 'xfoil.exe < input_file.in' timed out after 5 seconds\n",
      "Simulation failed due to error: Command 'xfoil.exe < input_file.in' timed out after 5 seconds\n",
      "Simulation failed due to error: Command 'xfoil.exe < input_file.in' timed out after 5 seconds\n",
      "Simulation failed due to error: Command 'xfoil.exe < input_file.in' timed out after 5 seconds\n",
      "Simulation failed due to error: Command 'xfoil.exe < input_file.in' timed out after 5 seconds\n"
     ]
    },
    {
     "name": "stderr",
     "output_type": "stream",
     "text": [
      "\r",
      "Episodes:  20%|██        | 10/50 [23:41<1:47:10, 160.75s/it]"
     ]
    },
    {
     "name": "stdout",
     "output_type": "stream",
     "text": [
      "Simulation failed due to error: Command 'xfoil.exe < input_file.in' timed out after 5 seconds\n",
      "Episode 10/50, Total Reward: 72.48138199315986\n",
      "Simulation failed due to error: Command 'xfoil.exe < input_file.in' timed out after 5 seconds\n",
      "Simulation failed due to error: Command 'xfoil.exe < input_file.in' timed out after 5 seconds\n",
      "Simulation failed due to error: Command 'xfoil.exe < input_file.in' timed out after 5 seconds\n",
      "Simulation failed due to error: Command 'xfoil.exe < input_file.in' timed out after 5 seconds\n",
      "Simulation failed due to error: Command 'xfoil.exe < input_file.in' timed out after 5 seconds\n",
      "Simulation failed due to error: Command 'xfoil.exe < input_file.in' timed out after 5 seconds\n",
      "Simulation failed due to error: Command 'xfoil.exe < input_file.in' timed out after 5 seconds\n",
      "Simulation failed due to error: Command 'xfoil.exe < input_file.in' timed out after 5 seconds\n",
      "Simulation failed due to error: Command 'xfoil.exe < input_file.in' timed out after 5 seconds\n",
      "Simulation failed due to error: Command 'xfoil.exe < input_file.in' timed out after 5 seconds\n",
      "Simulation failed due to error: Command 'xfoil.exe < input_file.in' timed out after 5 seconds\n",
      "Simulation failed due to error: Command 'xfoil.exe < input_file.in' timed out after 5 seconds\n",
      "Simulation failed due to error: Command 'xfoil.exe < input_file.in' timed out after 5 seconds\n",
      "Simulation failed due to error: Command 'xfoil.exe < input_file.in' timed out after 5 seconds\n",
      "Simulation failed due to error: Command 'xfoil.exe < input_file.in' timed out after 5 seconds\n",
      "Simulation failed due to error: Command 'xfoil.exe < input_file.in' timed out after 5 seconds\n",
      "Simulation failed due to error: Command 'xfoil.exe < input_file.in' timed out after 5 seconds\n"
     ]
    },
    {
     "name": "stderr",
     "output_type": "stream",
     "text": [
      "\r",
      "Episodes:  22%|██▏       | 11/50 [26:12<1:42:27, 157.62s/it]"
     ]
    },
    {
     "name": "stdout",
     "output_type": "stream",
     "text": [
      "Episode 11/50, Total Reward: 326.5588485699651\n",
      "Simulation failed due to error: Command 'xfoil.exe < input_file.in' timed out after 5 seconds\n",
      "Simulation failed due to error: Command 'xfoil.exe < input_file.in' timed out after 5 seconds\n",
      "Simulation failed due to error: Command 'xfoil.exe < input_file.in' timed out after 5 seconds\n",
      "Simulation failed due to error: Command 'xfoil.exe < input_file.in' timed out after 5 seconds\n",
      "Simulation failed due to error: Command 'xfoil.exe < input_file.in' timed out after 5 seconds\n",
      "Simulation failed due to error: Command 'xfoil.exe < input_file.in' timed out after 5 seconds\n",
      "Simulation failed due to error: Command 'xfoil.exe < input_file.in' timed out after 5 seconds\n",
      "Simulation failed due to error: Command 'xfoil.exe < input_file.in' timed out after 5 seconds\n",
      "Simulation failed due to error: Command 'xfoil.exe < input_file.in' timed out after 5 seconds\n",
      "Simulation failed due to error: Command 'xfoil.exe < input_file.in' timed out after 5 seconds\n",
      "Simulation failed due to error: Command 'xfoil.exe < input_file.in' timed out after 5 seconds\n",
      "Simulation failed due to error: Command 'xfoil.exe < input_file.in' timed out after 5 seconds\n",
      "Simulation failed due to error: Command 'xfoil.exe < input_file.in' timed out after 5 seconds\n",
      "Simulation failed due to error: Command 'xfoil.exe < input_file.in' timed out after 5 seconds\n",
      "Simulation failed due to error: Command 'xfoil.exe < input_file.in' timed out after 5 seconds\n",
      "Simulation failed due to error: Command 'xfoil.exe < input_file.in' timed out after 5 seconds\n",
      "Simulation failed due to error: Command 'xfoil.exe < input_file.in' timed out after 5 seconds\n",
      "Simulation failed due to error: Command 'xfoil.exe < input_file.in' timed out after 5 seconds\n",
      "Simulation failed due to error: Command 'xfoil.exe < input_file.in' timed out after 5 seconds\n",
      "Simulation failed due to error: Command 'xfoil.exe < input_file.in' timed out after 5 seconds\n"
     ]
    },
    {
     "name": "stderr",
     "output_type": "stream",
     "text": [
      "\r",
      "Episodes:  24%|██▍       | 12/50 [28:48<1:39:33, 157.19s/it]"
     ]
    },
    {
     "name": "stdout",
     "output_type": "stream",
     "text": [
      "Episode 12/50, Total Reward: 279.70539439460134\n",
      "Simulation failed due to error: Command 'xfoil.exe < input_file.in' timed out after 5 seconds\n",
      "Simulation failed due to error: Command 'xfoil.exe < input_file.in' timed out after 5 seconds\n",
      "Simulation failed due to error: Command 'xfoil.exe < input_file.in' timed out after 5 seconds\n",
      "Simulation failed due to error: Command 'xfoil.exe < input_file.in' timed out after 5 seconds\n",
      "Simulation failed due to error: Command 'xfoil.exe < input_file.in' timed out after 5 seconds\n",
      "Simulation failed due to error: Command 'xfoil.exe < input_file.in' timed out after 5 seconds\n",
      "Simulation failed due to error: Command 'xfoil.exe < input_file.in' timed out after 5 seconds\n",
      "Simulation failed due to error: Command 'xfoil.exe < input_file.in' timed out after 5 seconds\n",
      "Simulation failed due to error: Command 'xfoil.exe < input_file.in' timed out after 5 seconds\n",
      "Simulation failed due to error: Command 'xfoil.exe < input_file.in' timed out after 5 seconds\n",
      "Simulation failed due to error: Command 'xfoil.exe < input_file.in' timed out after 5 seconds\n",
      "Simulation failed due to error: Command 'xfoil.exe < input_file.in' timed out after 5 seconds\n",
      "Simulation failed due to error: Command 'xfoil.exe < input_file.in' timed out after 5 seconds\n",
      "Simulation failed due to error: Command 'xfoil.exe < input_file.in' timed out after 5 seconds\n",
      "Simulation failed due to error: Command 'xfoil.exe < input_file.in' timed out after 5 seconds\n",
      "Simulation failed due to error: Command 'xfoil.exe < input_file.in' timed out after 5 seconds\n",
      "Simulation failed due to error: Command 'xfoil.exe < input_file.in' timed out after 5 seconds\n",
      "Simulation failed due to error: Command 'xfoil.exe < input_file.in' timed out after 5 seconds\n",
      "Simulation failed due to error: Command 'xfoil.exe < input_file.in' timed out after 5 seconds\n",
      "Simulation failed due to error: Command 'xfoil.exe < input_file.in' timed out after 5 seconds\n",
      "Simulation failed due to error: Command 'xfoil.exe < input_file.in' timed out after 5 seconds\n",
      "Simulation failed due to error: Command 'xfoil.exe < input_file.in' timed out after 5 seconds\n",
      "Simulation failed due to error: Command 'xfoil.exe < input_file.in' timed out after 5 seconds\n",
      "Simulation failed due to error: Command 'xfoil.exe < input_file.in' timed out after 5 seconds\n"
     ]
    },
    {
     "name": "stderr",
     "output_type": "stream",
     "text": [
      "\r",
      "Episodes:  26%|██▌       | 13/50 [31:40<1:39:43, 161.72s/it]"
     ]
    },
    {
     "name": "stdout",
     "output_type": "stream",
     "text": [
      "Simulation failed due to error: Command 'xfoil.exe < input_file.in' timed out after 5 seconds\n",
      "Episode 13/50, Total Reward: 224.72846339964008\n",
      "Simulation failed due to error: Command 'xfoil.exe < input_file.in' timed out after 5 seconds\n",
      "Simulation failed due to error: Command 'xfoil.exe < input_file.in' timed out after 5 seconds\n",
      "Simulation failed due to error: Command 'xfoil.exe < input_file.in' timed out after 5 seconds\n",
      "Simulation failed due to error: Command 'xfoil.exe < input_file.in' timed out after 5 seconds\n",
      "Simulation failed due to error: Command 'xfoil.exe < input_file.in' timed out after 5 seconds\n",
      "Simulation failed due to error: Command 'xfoil.exe < input_file.in' timed out after 5 seconds\n",
      "Simulation failed due to error: Command 'xfoil.exe < input_file.in' timed out after 5 seconds\n",
      "Simulation failed due to error: Command 'xfoil.exe < input_file.in' timed out after 5 seconds\n",
      "Simulation failed due to error: Command 'xfoil.exe < input_file.in' timed out after 5 seconds\n",
      "Simulation failed due to error: Command 'xfoil.exe < input_file.in' timed out after 5 seconds\n",
      "Simulation failed due to error: Command 'xfoil.exe < input_file.in' timed out after 5 seconds\n",
      "Simulation failed due to error: Command 'xfoil.exe < input_file.in' timed out after 5 seconds\n",
      "Simulation failed due to error: Command 'xfoil.exe < input_file.in' timed out after 5 seconds\n",
      "Simulation failed due to error: Command 'xfoil.exe < input_file.in' timed out after 5 seconds\n",
      "Simulation failed due to error: Command 'xfoil.exe < input_file.in' timed out after 5 seconds\n",
      "Simulation failed due to error: Command 'xfoil.exe < input_file.in' timed out after 5 seconds\n",
      "Simulation failed due to error: Command 'xfoil.exe < input_file.in' timed out after 5 seconds\n",
      "Simulation failed due to error: Command 'xfoil.exe < input_file.in' timed out after 5 seconds\n",
      "Simulation failed due to error: Command 'xfoil.exe < input_file.in' timed out after 5 seconds\n",
      "Simulation failed due to error: Command 'xfoil.exe < input_file.in' timed out after 5 seconds\n",
      "Simulation failed due to error: Command 'xfoil.exe < input_file.in' timed out after 5 seconds\n",
      "Simulation failed due to error: Command 'xfoil.exe < input_file.in' timed out after 5 seconds\n",
      "Simulation failed due to error: Command 'xfoil.exe < input_file.in' timed out after 5 seconds\n",
      "Simulation failed due to error: Command 'xfoil.exe < input_file.in' timed out after 5 seconds\n",
      "Simulation failed due to error: Command 'xfoil.exe < input_file.in' timed out after 5 seconds\n",
      "Simulation failed due to error: Command 'xfoil.exe < input_file.in' timed out after 5 seconds\n",
      "Simulation failed due to error: Command 'xfoil.exe < input_file.in' timed out after 5 seconds\n",
      "Simulation failed due to error: Command 'xfoil.exe < input_file.in' timed out after 5 seconds\n",
      "Simulation failed due to error: Command 'xfoil.exe < input_file.in' timed out after 5 seconds\n",
      "Simulation failed due to error: Command 'xfoil.exe < input_file.in' timed out after 5 seconds\n",
      "Simulation failed due to error: Command 'xfoil.exe < input_file.in' timed out after 5 seconds\n",
      "Simulation failed due to error: Command 'xfoil.exe < input_file.in' timed out after 5 seconds\n",
      "Simulation failed due to error: Command 'xfoil.exe < input_file.in' timed out after 5 seconds\n",
      "Simulation failed due to error: Command 'xfoil.exe < input_file.in' timed out after 5 seconds\n",
      "Simulation failed due to error: Command 'xfoil.exe < input_file.in' timed out after 5 seconds\n",
      "Simulation failed due to error: Command 'xfoil.exe < input_file.in' timed out after 5 seconds\n",
      "Simulation failed due to error: Command 'xfoil.exe < input_file.in' timed out after 5 seconds\n",
      "Simulation failed due to error: Command 'xfoil.exe < input_file.in' timed out after 5 seconds\n",
      "Simulation failed due to error: Command 'xfoil.exe < input_file.in' timed out after 5 seconds\n",
      "Simulation failed due to error: Command 'xfoil.exe < input_file.in' timed out after 5 seconds\n",
      "Simulation failed due to error: Command 'xfoil.exe < input_file.in' timed out after 5 seconds\n",
      "Simulation failed due to error: Command 'xfoil.exe < input_file.in' timed out after 5 seconds\n",
      "Simulation failed due to error: Command 'xfoil.exe < input_file.in' timed out after 5 seconds\n",
      "Simulation failed due to error: Command 'xfoil.exe < input_file.in' timed out after 5 seconds\n",
      "Simulation failed due to error: Command 'xfoil.exe < input_file.in' timed out after 5 seconds\n",
      "Simulation failed due to error: Command 'xfoil.exe < input_file.in' timed out after 5 seconds\n",
      "Simulation failed due to error: Command 'xfoil.exe < input_file.in' timed out after 5 seconds\n",
      "Simulation failed due to error: Command 'xfoil.exe < input_file.in' timed out after 5 seconds\n"
     ]
    },
    {
     "name": "stderr",
     "output_type": "stream",
     "text": [
      "\r",
      "Episodes:  28%|██▊       | 14/50 [35:52<1:53:21, 188.94s/it]"
     ]
    },
    {
     "name": "stdout",
     "output_type": "stream",
     "text": [
      "Simulation failed due to error: Command 'xfoil.exe < input_file.in' timed out after 5 seconds\n",
      "Episode 14/50, Total Reward: -52.65136007245728\n",
      "Simulation failed due to error: Command 'xfoil.exe < input_file.in' timed out after 5 seconds\n",
      "Simulation failed due to error: Command 'xfoil.exe < input_file.in' timed out after 5 seconds\n",
      "Simulation failed due to error: Command 'xfoil.exe < input_file.in' timed out after 5 seconds\n",
      "Simulation failed due to error: Command 'xfoil.exe < input_file.in' timed out after 5 seconds\n",
      "Simulation failed due to error: Command 'xfoil.exe < input_file.in' timed out after 5 seconds\n",
      "Simulation failed due to error: Command 'xfoil.exe < input_file.in' timed out after 5 seconds\n",
      "Simulation failed due to error: Command 'xfoil.exe < input_file.in' timed out after 5 seconds\n",
      "Simulation failed due to error: Command 'xfoil.exe < input_file.in' timed out after 5 seconds\n",
      "Simulation failed due to error: Command 'xfoil.exe < input_file.in' timed out after 5 seconds\n",
      "Simulation failed due to error: Command 'xfoil.exe < input_file.in' timed out after 5 seconds\n",
      "Simulation failed due to error: Command 'xfoil.exe < input_file.in' timed out after 5 seconds\n",
      "Simulation failed due to error: Command 'xfoil.exe < input_file.in' timed out after 5 seconds\n",
      "Simulation failed due to error: Command 'xfoil.exe < input_file.in' timed out after 5 seconds\n",
      "Simulation failed due to error: Command 'xfoil.exe < input_file.in' timed out after 5 seconds\n",
      "Simulation failed due to error: Command 'xfoil.exe < input_file.in' timed out after 5 seconds\n"
     ]
    },
    {
     "name": "stderr",
     "output_type": "stream",
     "text": [
      "\r",
      "Episodes:  30%|███       | 15/50 [38:22<1:43:20, 177.14s/it]"
     ]
    },
    {
     "name": "stdout",
     "output_type": "stream",
     "text": [
      "Episode 15/50, Total Reward: 355.897695884893\n",
      "Simulation failed due to error: Command 'xfoil.exe < input_file.in' timed out after 5 seconds\n",
      "Simulation failed due to error: Command 'xfoil.exe < input_file.in' timed out after 5 seconds\n",
      "Simulation failed due to error: Command 'xfoil.exe < input_file.in' timed out after 5 seconds\n",
      "Simulation failed due to error: Command 'xfoil.exe < input_file.in' timed out after 5 seconds\n",
      "Simulation failed due to error: Command 'xfoil.exe < input_file.in' timed out after 5 seconds\n",
      "Simulation failed due to error: Command 'xfoil.exe < input_file.in' timed out after 5 seconds\n",
      "Simulation failed due to error: Command 'xfoil.exe < input_file.in' timed out after 5 seconds\n",
      "Simulation failed due to error: Command 'xfoil.exe < input_file.in' timed out after 5 seconds\n",
      "Simulation failed due to error: Command 'xfoil.exe < input_file.in' timed out after 5 seconds\n",
      "Simulation failed due to error: Command 'xfoil.exe < input_file.in' timed out after 5 seconds\n",
      "Simulation failed due to error: Command 'xfoil.exe < input_file.in' timed out after 5 seconds\n"
     ]
    },
    {
     "name": "stderr",
     "output_type": "stream",
     "text": [
      "\r",
      "Episodes:  32%|███▏      | 16/50 [40:35<1:32:48, 163.77s/it]"
     ]
    },
    {
     "name": "stdout",
     "output_type": "stream",
     "text": [
      "Simulation failed due to error: Command 'xfoil.exe < input_file.in' timed out after 5 seconds\n",
      "Episode 16/50, Total Reward: 371.91581447986863\n",
      "Simulation failed due to error: Command 'xfoil.exe < input_file.in' timed out after 5 seconds\n",
      "Simulation failed due to error: Command 'xfoil.exe < input_file.in' timed out after 5 seconds\n",
      "Simulation failed due to error: Command 'xfoil.exe < input_file.in' timed out after 5 seconds\n",
      "Simulation failed due to error: Command 'xfoil.exe < input_file.in' timed out after 5 seconds\n",
      "Simulation failed due to error: Command 'xfoil.exe < input_file.in' timed out after 5 seconds\n",
      "Simulation failed due to error: Command 'xfoil.exe < input_file.in' timed out after 5 seconds\n",
      "Simulation failed due to error: Command 'xfoil.exe < input_file.in' timed out after 5 seconds\n"
     ]
    },
    {
     "name": "stderr",
     "output_type": "stream",
     "text": [
      "\r",
      "Episodes:  34%|███▍      | 17/50 [42:40<1:23:40, 152.14s/it]"
     ]
    },
    {
     "name": "stdout",
     "output_type": "stream",
     "text": [
      "Episode 17/50, Total Reward: 433.44198370974664\n",
      "Simulation failed due to error: Command 'xfoil.exe < input_file.in' timed out after 5 seconds\n",
      "Simulation failed due to error: Command 'xfoil.exe < input_file.in' timed out after 5 seconds\n",
      "Simulation failed due to error: Command 'xfoil.exe < input_file.in' timed out after 5 seconds\n",
      "Simulation failed due to error: Command 'xfoil.exe < input_file.in' timed out after 5 seconds\n",
      "Simulation failed due to error: Command 'xfoil.exe < input_file.in' timed out after 5 seconds\n",
      "Simulation failed due to error: Command 'xfoil.exe < input_file.in' timed out after 5 seconds\n",
      "Simulation failed due to error: Command 'xfoil.exe < input_file.in' timed out after 5 seconds\n",
      "Simulation failed due to error: Command 'xfoil.exe < input_file.in' timed out after 5 seconds\n",
      "Simulation failed due to error: Command 'xfoil.exe < input_file.in' timed out after 5 seconds\n",
      "Simulation failed due to error: Command 'xfoil.exe < input_file.in' timed out after 5 seconds\n",
      "Simulation failed due to error: Command 'xfoil.exe < input_file.in' timed out after 5 seconds\n",
      "Simulation failed due to error: Command 'xfoil.exe < input_file.in' timed out after 5 seconds\n",
      "Simulation failed due to error: Command 'xfoil.exe < input_file.in' timed out after 5 seconds\n",
      "Simulation failed due to error: Command 'xfoil.exe < input_file.in' timed out after 5 seconds\n",
      "Simulation failed due to error: Command 'xfoil.exe < input_file.in' timed out after 5 seconds\n",
      "Simulation failed due to error: Command 'xfoil.exe < input_file.in' timed out after 5 seconds\n",
      "Simulation failed due to error: Command 'xfoil.exe < input_file.in' timed out after 5 seconds\n",
      "Simulation failed due to error: Command 'xfoil.exe < input_file.in' timed out after 5 seconds\n",
      "Simulation failed due to error: Command 'xfoil.exe < input_file.in' timed out after 5 seconds\n",
      "Simulation failed due to error: Command 'xfoil.exe < input_file.in' timed out after 5 seconds\n",
      "Simulation failed due to error: Command 'xfoil.exe < input_file.in' timed out after 5 seconds\n",
      "Simulation failed due to error: Command 'xfoil.exe < input_file.in' timed out after 5 seconds\n",
      "Simulation failed due to error: Command 'xfoil.exe < input_file.in' timed out after 5 seconds\n",
      "Simulation failed due to error: Command 'xfoil.exe < input_file.in' timed out after 5 seconds\n",
      "Simulation failed due to error: Command 'xfoil.exe < input_file.in' timed out after 5 seconds\n",
      "Simulation failed due to error: Command 'xfoil.exe < input_file.in' timed out after 5 seconds\n",
      "Simulation failed due to error: Command 'xfoil.exe < input_file.in' timed out after 5 seconds\n",
      "Simulation failed due to error: Command 'xfoil.exe < input_file.in' timed out after 5 seconds\n",
      "Simulation failed due to error: Command 'xfoil.exe < input_file.in' timed out after 5 seconds\n",
      "Simulation failed due to error: Command 'xfoil.exe < input_file.in' timed out after 5 seconds\n",
      "Simulation failed due to error: Command 'xfoil.exe < input_file.in' timed out after 5 seconds\n",
      "Simulation failed due to error: Command 'xfoil.exe < input_file.in' timed out after 5 seconds\n",
      "Simulation failed due to error: Command 'xfoil.exe < input_file.in' timed out after 5 seconds\n",
      "Simulation failed due to error: Command 'xfoil.exe < input_file.in' timed out after 5 seconds\n",
      "Simulation failed due to error: Command 'xfoil.exe < input_file.in' timed out after 5 seconds\n",
      "Simulation failed due to error: Command 'xfoil.exe < input_file.in' timed out after 5 seconds\n",
      "Simulation failed due to error: Command 'xfoil.exe < input_file.in' timed out after 5 seconds\n",
      "Simulation failed due to error: Command 'xfoil.exe < input_file.in' timed out after 5 seconds\n",
      "Simulation failed due to error: Command 'xfoil.exe < input_file.in' timed out after 5 seconds\n",
      "Simulation failed due to error: Command 'xfoil.exe < input_file.in' timed out after 5 seconds\n",
      "Simulation failed due to error: Command 'xfoil.exe < input_file.in' timed out after 5 seconds\n",
      "Simulation failed due to error: Command 'xfoil.exe < input_file.in' timed out after 5 seconds\n",
      "Simulation failed due to error: Command 'xfoil.exe < input_file.in' timed out after 5 seconds\n",
      "Simulation failed due to error: Command 'xfoil.exe < input_file.in' timed out after 5 seconds\n",
      "Simulation failed due to error: Command 'xfoil.exe < input_file.in' timed out after 5 seconds\n",
      "Simulation failed due to error: Command 'xfoil.exe < input_file.in' timed out after 5 seconds\n",
      "Simulation failed due to error: Command 'xfoil.exe < input_file.in' timed out after 5 seconds\n",
      "Simulation failed due to error: Command 'xfoil.exe < input_file.in' timed out after 5 seconds\n",
      "Simulation failed due to error: Command 'xfoil.exe < input_file.in' timed out after 5 seconds\n"
     ]
    },
    {
     "name": "stderr",
     "output_type": "stream",
     "text": [
      "\r",
      "Episodes:  36%|███▌      | 18/50 [46:56<1:37:52, 183.51s/it]"
     ]
    },
    {
     "name": "stdout",
     "output_type": "stream",
     "text": [
      "Simulation failed due to error: Command 'xfoil.exe < input_file.in' timed out after 5 seconds\n",
      "Episode 18/50, Total Reward: -61.17243105917431\n",
      "Simulation failed due to error: Command 'xfoil.exe < input_file.in' timed out after 5 seconds\n",
      "Simulation failed due to error: Command 'xfoil.exe < input_file.in' timed out after 5 seconds\n",
      "Simulation failed due to error: Command 'xfoil.exe < input_file.in' timed out after 5 seconds\n",
      "Simulation failed due to error: Command 'xfoil.exe < input_file.in' timed out after 5 seconds\n",
      "Simulation failed due to error: Command 'xfoil.exe < input_file.in' timed out after 5 seconds\n",
      "Simulation failed due to error: Command 'xfoil.exe < input_file.in' timed out after 5 seconds\n",
      "Simulation failed due to error: Command 'xfoil.exe < input_file.in' timed out after 5 seconds\n",
      "Simulation failed due to error: Command 'xfoil.exe < input_file.in' timed out after 5 seconds\n"
     ]
    },
    {
     "name": "stderr",
     "output_type": "stream",
     "text": [
      "\r",
      "Episodes:  38%|███▊      | 19/50 [49:09<1:26:52, 168.16s/it]"
     ]
    },
    {
     "name": "stdout",
     "output_type": "stream",
     "text": [
      "Episode 19/50, Total Reward: 422.5026845354118\n",
      "Simulation failed due to error: Command 'xfoil.exe < input_file.in' timed out after 5 seconds\n",
      "Simulation failed due to error: Command 'xfoil.exe < input_file.in' timed out after 5 seconds\n",
      "Simulation failed due to error: Command 'xfoil.exe < input_file.in' timed out after 5 seconds\n",
      "Simulation failed due to error: Command 'xfoil.exe < input_file.in' timed out after 5 seconds\n",
      "Simulation failed due to error: Command 'xfoil.exe < input_file.in' timed out after 5 seconds\n",
      "Simulation failed due to error: Command 'xfoil.exe < input_file.in' timed out after 5 seconds\n"
     ]
    },
    {
     "name": "stderr",
     "output_type": "stream",
     "text": [
      "\r",
      "Episodes:  40%|████      | 20/50 [51:19<1:18:28, 156.96s/it]"
     ]
    },
    {
     "name": "stdout",
     "output_type": "stream",
     "text": [
      "Episode 20/50, Total Reward: 470.04751473249524\n",
      "Simulation failed due to error: Command 'xfoil.exe < input_file.in' timed out after 5 seconds\n",
      "Simulation failed due to error: Command 'xfoil.exe < input_file.in' timed out after 5 seconds\n",
      "Simulation failed due to error: Command 'xfoil.exe < input_file.in' timed out after 5 seconds\n",
      "Simulation failed due to error: Command 'xfoil.exe < input_file.in' timed out after 5 seconds\n",
      "Simulation failed due to error: Command 'xfoil.exe < input_file.in' timed out after 5 seconds\n",
      "Simulation failed due to error: Command 'xfoil.exe < input_file.in' timed out after 5 seconds\n"
     ]
    },
    {
     "name": "stderr",
     "output_type": "stream",
     "text": [
      "\r",
      "Episodes:  42%|████▏     | 21/50 [53:27<1:11:38, 148.23s/it]"
     ]
    },
    {
     "name": "stdout",
     "output_type": "stream",
     "text": [
      "Simulation failed due to error: Command 'xfoil.exe < input_file.in' timed out after 5 seconds\n",
      "Episode 21/50, Total Reward: 424.37435786959935\n",
      "Simulation failed due to error: Command 'xfoil.exe < input_file.in' timed out after 5 seconds\n",
      "Simulation failed due to error: Command 'xfoil.exe < input_file.in' timed out after 5 seconds\n",
      "Simulation failed due to error: Command 'xfoil.exe < input_file.in' timed out after 5 seconds\n",
      "Simulation failed due to error: Command 'xfoil.exe < input_file.in' timed out after 5 seconds\n",
      "Simulation failed due to error: Command 'xfoil.exe < input_file.in' timed out after 5 seconds\n",
      "Simulation failed due to error: Command 'xfoil.exe < input_file.in' timed out after 5 seconds\n",
      "Simulation failed due to error: Command 'xfoil.exe < input_file.in' timed out after 5 seconds\n",
      "Simulation failed due to error: Command 'xfoil.exe < input_file.in' timed out after 5 seconds\n",
      "Simulation failed due to error: Command 'xfoil.exe < input_file.in' timed out after 5 seconds\n",
      "Simulation failed due to error: Command 'xfoil.exe < input_file.in' timed out after 5 seconds\n",
      "Simulation failed due to error: Command 'xfoil.exe < input_file.in' timed out after 5 seconds\n",
      "Simulation failed due to error: Command 'xfoil.exe < input_file.in' timed out after 5 seconds\n",
      "Simulation failed due to error: Command 'xfoil.exe < input_file.in' timed out after 5 seconds\n",
      "Simulation failed due to error: Command 'xfoil.exe < input_file.in' timed out after 5 seconds\n",
      "Simulation failed due to error: Command 'xfoil.exe < input_file.in' timed out after 5 seconds\n",
      "Simulation failed due to error: Command 'xfoil.exe < input_file.in' timed out after 5 seconds\n",
      "Simulation failed due to error: Command 'xfoil.exe < input_file.in' timed out after 5 seconds\n",
      "Simulation failed due to error: Command 'xfoil.exe < input_file.in' timed out after 5 seconds\n",
      "Simulation failed due to error: Command 'xfoil.exe < input_file.in' timed out after 5 seconds\n",
      "Simulation failed due to error: Command 'xfoil.exe < input_file.in' timed out after 5 seconds\n",
      "Simulation failed due to error: Command 'xfoil.exe < input_file.in' timed out after 5 seconds\n",
      "Simulation failed due to error: Command 'xfoil.exe < input_file.in' timed out after 5 seconds\n",
      "Simulation failed due to error: Command 'xfoil.exe < input_file.in' timed out after 5 seconds\n",
      "Simulation failed due to error: Command 'xfoil.exe < input_file.in' timed out after 5 seconds\n",
      "Simulation failed due to error: Command 'xfoil.exe < input_file.in' timed out after 5 seconds\n",
      "Simulation failed due to error: Command 'xfoil.exe < input_file.in' timed out after 5 seconds\n",
      "Simulation failed due to error: Command 'xfoil.exe < input_file.in' timed out after 5 seconds\n",
      "Simulation failed due to error: Command 'xfoil.exe < input_file.in' timed out after 5 seconds\n",
      "Simulation failed due to error: Command 'xfoil.exe < input_file.in' timed out after 5 seconds\n",
      "Simulation failed due to error: Command 'xfoil.exe < input_file.in' timed out after 5 seconds\n",
      "Simulation failed due to error: Command 'xfoil.exe < input_file.in' timed out after 5 seconds\n",
      "Simulation failed due to error: Command 'xfoil.exe < input_file.in' timed out after 5 seconds\n",
      "Simulation failed due to error: Command 'xfoil.exe < input_file.in' timed out after 5 seconds\n",
      "Simulation failed due to error: Command 'xfoil.exe < input_file.in' timed out after 5 seconds\n",
      "Simulation failed due to error: Command 'xfoil.exe < input_file.in' timed out after 5 seconds\n",
      "Simulation failed due to error: Command 'xfoil.exe < input_file.in' timed out after 5 seconds\n",
      "Simulation failed due to error: Command 'xfoil.exe < input_file.in' timed out after 5 seconds\n",
      "Simulation failed due to error: Command 'xfoil.exe < input_file.in' timed out after 5 seconds\n",
      "Simulation failed due to error: Command 'xfoil.exe < input_file.in' timed out after 5 seconds\n",
      "Simulation failed due to error: Command 'xfoil.exe < input_file.in' timed out after 5 seconds\n",
      "Simulation failed due to error: Command 'xfoil.exe < input_file.in' timed out after 5 seconds\n",
      "Simulation failed due to error: Command 'xfoil.exe < input_file.in' timed out after 5 seconds\n",
      "Simulation failed due to error: Command 'xfoil.exe < input_file.in' timed out after 5 seconds\n",
      "Simulation failed due to error: Command 'xfoil.exe < input_file.in' timed out after 5 seconds\n",
      "Simulation failed due to error: Command 'xfoil.exe < input_file.in' timed out after 5 seconds\n",
      "Simulation failed due to error: Command 'xfoil.exe < input_file.in' timed out after 5 seconds\n",
      "Simulation failed due to error: Command 'xfoil.exe < input_file.in' timed out after 5 seconds\n"
     ]
    },
    {
     "name": "stderr",
     "output_type": "stream",
     "text": [
      "\r",
      "Episodes:  44%|████▍     | 22/50 [57:33<1:22:49, 177.47s/it]"
     ]
    },
    {
     "name": "stdout",
     "output_type": "stream",
     "text": [
      "Episode 22/50, Total Reward: -31.691169177683882\n",
      "Simulation failed due to error: Command 'xfoil.exe < input_file.in' timed out after 5 seconds\n",
      "Simulation failed due to error: Command 'xfoil.exe < input_file.in' timed out after 5 seconds\n",
      "Simulation failed due to error: Command 'xfoil.exe < input_file.in' timed out after 5 seconds\n",
      "Simulation failed due to error: Command 'xfoil.exe < input_file.in' timed out after 5 seconds\n",
      "Simulation failed due to error: Command 'xfoil.exe < input_file.in' timed out after 5 seconds\n",
      "Simulation failed due to error: Command 'xfoil.exe < input_file.in' timed out after 5 seconds\n"
     ]
    },
    {
     "name": "stderr",
     "output_type": "stream",
     "text": [
      "\r",
      "Episodes:  46%|████▌     | 23/50 [59:27<1:11:20, 158.54s/it]"
     ]
    },
    {
     "name": "stdout",
     "output_type": "stream",
     "text": [
      "Episode 23/50, Total Reward: 451.97371606402123\n",
      "Simulation failed due to error: Command 'xfoil.exe < input_file.in' timed out after 5 seconds\n",
      "Simulation failed due to error: Command 'xfoil.exe < input_file.in' timed out after 5 seconds\n",
      "Simulation failed due to error: Command 'xfoil.exe < input_file.in' timed out after 5 seconds\n",
      "Simulation failed due to error: Command 'xfoil.exe < input_file.in' timed out after 5 seconds\n",
      "Simulation failed due to error: Command 'xfoil.exe < input_file.in' timed out after 5 seconds\n",
      "Simulation failed due to error: Command 'xfoil.exe < input_file.in' timed out after 5 seconds\n",
      "Simulation failed due to error: Command 'xfoil.exe < input_file.in' timed out after 5 seconds\n",
      "Simulation failed due to error: Command 'xfoil.exe < input_file.in' timed out after 5 seconds\n",
      "Simulation failed due to error: Command 'xfoil.exe < input_file.in' timed out after 5 seconds\n",
      "Simulation failed due to error: Command 'xfoil.exe < input_file.in' timed out after 5 seconds\n",
      "Simulation failed due to error: Command 'xfoil.exe < input_file.in' timed out after 5 seconds\n",
      "Simulation failed due to error: Command 'xfoil.exe < input_file.in' timed out after 5 seconds\n",
      "Simulation failed due to error: Command 'xfoil.exe < input_file.in' timed out after 5 seconds\n",
      "Simulation failed due to error: Command 'xfoil.exe < input_file.in' timed out after 5 seconds\n",
      "Simulation failed due to error: Command 'xfoil.exe < input_file.in' timed out after 5 seconds\n",
      "Simulation failed due to error: Command 'xfoil.exe < input_file.in' timed out after 5 seconds\n",
      "Simulation failed due to error: Command 'xfoil.exe < input_file.in' timed out after 5 seconds\n",
      "Simulation failed due to error: Command 'xfoil.exe < input_file.in' timed out after 5 seconds\n",
      "Simulation failed due to error: Command 'xfoil.exe < input_file.in' timed out after 5 seconds\n",
      "Simulation failed due to error: Command 'xfoil.exe < input_file.in' timed out after 5 seconds\n",
      "Simulation failed due to error: Command 'xfoil.exe < input_file.in' timed out after 5 seconds\n",
      "Simulation failed due to error: Command 'xfoil.exe < input_file.in' timed out after 5 seconds\n",
      "Simulation failed due to error: Command 'xfoil.exe < input_file.in' timed out after 5 seconds\n",
      "Simulation failed due to error: Command 'xfoil.exe < input_file.in' timed out after 5 seconds\n",
      "Simulation failed due to error: Command 'xfoil.exe < input_file.in' timed out after 5 seconds\n",
      "Simulation failed due to error: Command 'xfoil.exe < input_file.in' timed out after 5 seconds\n",
      "Simulation failed due to error: Command 'xfoil.exe < input_file.in' timed out after 5 seconds\n",
      "Simulation failed due to error: Command 'xfoil.exe < input_file.in' timed out after 5 seconds\n",
      "Simulation failed due to error: Command 'xfoil.exe < input_file.in' timed out after 5 seconds\n",
      "Simulation failed due to error: Command 'xfoil.exe < input_file.in' timed out after 5 seconds\n",
      "Simulation failed due to error: Command 'xfoil.exe < input_file.in' timed out after 5 seconds\n",
      "Simulation failed due to error: Command 'xfoil.exe < input_file.in' timed out after 5 seconds\n",
      "Simulation failed due to error: Command 'xfoil.exe < input_file.in' timed out after 5 seconds\n",
      "Simulation failed due to error: Command 'xfoil.exe < input_file.in' timed out after 5 seconds\n",
      "Simulation failed due to error: Command 'xfoil.exe < input_file.in' timed out after 5 seconds\n",
      "Simulation failed due to error: Command 'xfoil.exe < input_file.in' timed out after 5 seconds\n",
      "Simulation failed due to error: Command 'xfoil.exe < input_file.in' timed out after 5 seconds\n",
      "Simulation failed due to error: Command 'xfoil.exe < input_file.in' timed out after 5 seconds\n",
      "Simulation failed due to error: Command 'xfoil.exe < input_file.in' timed out after 5 seconds\n",
      "Simulation failed due to error: Command 'xfoil.exe < input_file.in' timed out after 5 seconds\n",
      "Simulation failed due to error: Command 'xfoil.exe < input_file.in' timed out after 5 seconds\n",
      "Simulation failed due to error: Command 'xfoil.exe < input_file.in' timed out after 5 seconds\n",
      "Simulation failed due to error: Command 'xfoil.exe < input_file.in' timed out after 5 seconds\n",
      "Simulation failed due to error: Command 'xfoil.exe < input_file.in' timed out after 5 seconds\n",
      "Simulation failed due to error: Command 'xfoil.exe < input_file.in' timed out after 5 seconds\n",
      "Simulation failed due to error: Command 'xfoil.exe < input_file.in' timed out after 5 seconds\n",
      "Simulation failed due to error: Command 'xfoil.exe < input_file.in' timed out after 5 seconds\n",
      "Simulation failed due to error: Command 'xfoil.exe < input_file.in' timed out after 5 seconds\n",
      "Simulation failed due to error: Command 'xfoil.exe < input_file.in' timed out after 5 seconds\n"
     ]
    },
    {
     "name": "stderr",
     "output_type": "stream",
     "text": [
      "\r",
      "Episodes:  48%|████▊     | 24/50 [1:03:44<1:21:26, 187.93s/it]"
     ]
    },
    {
     "name": "stdout",
     "output_type": "stream",
     "text": [
      "Simulation failed due to error: Command 'xfoil.exe < input_file.in' timed out after 5 seconds\n",
      "Episode 24/50, Total Reward: -61.17243105917431\n",
      "Simulation failed due to error: Command 'xfoil.exe < input_file.in' timed out after 5 seconds\n",
      "Simulation failed due to error: Command 'xfoil.exe < input_file.in' timed out after 5 seconds\n",
      "Simulation failed due to error: Command 'xfoil.exe < input_file.in' timed out after 5 seconds\n",
      "Simulation failed due to error: Command 'xfoil.exe < input_file.in' timed out after 5 seconds\n",
      "Simulation failed due to error: Command 'xfoil.exe < input_file.in' timed out after 5 seconds\n",
      "Simulation failed due to error: Command 'xfoil.exe < input_file.in' timed out after 5 seconds\n",
      "Simulation failed due to error: Command 'xfoil.exe < input_file.in' timed out after 5 seconds\n",
      "Simulation failed due to error: Command 'xfoil.exe < input_file.in' timed out after 5 seconds\n",
      "Simulation failed due to error: Command 'xfoil.exe < input_file.in' timed out after 5 seconds\n",
      "Simulation failed due to error: Command 'xfoil.exe < input_file.in' timed out after 5 seconds\n",
      "Simulation failed due to error: Command 'xfoil.exe < input_file.in' timed out after 5 seconds\n",
      "Simulation failed due to error: Command 'xfoil.exe < input_file.in' timed out after 5 seconds\n",
      "Simulation failed due to error: Command 'xfoil.exe < input_file.in' timed out after 5 seconds\n",
      "Simulation failed due to error: Command 'xfoil.exe < input_file.in' timed out after 5 seconds\n",
      "Simulation failed due to error: Command 'xfoil.exe < input_file.in' timed out after 5 seconds\n",
      "Simulation failed due to error: Command 'xfoil.exe < input_file.in' timed out after 5 seconds\n",
      "Simulation failed due to error: Command 'xfoil.exe < input_file.in' timed out after 5 seconds\n",
      "Simulation failed due to error: Command 'xfoil.exe < input_file.in' timed out after 5 seconds\n"
     ]
    },
    {
     "name": "stderr",
     "output_type": "stream",
     "text": [
      "\r",
      "Episodes:  50%|█████     | 25/50 [1:06:24<1:14:48, 179.55s/it]"
     ]
    },
    {
     "name": "stdout",
     "output_type": "stream",
     "text": [
      "Episode 25/50, Total Reward: 296.343315308071\n",
      "Simulation failed due to error: Command 'xfoil.exe < input_file.in' timed out after 5 seconds\n",
      "Simulation failed due to error: Command 'xfoil.exe < input_file.in' timed out after 5 seconds\n"
     ]
    },
    {
     "name": "stderr",
     "output_type": "stream",
     "text": [
      "\r",
      "Episodes:  52%|█████▏    | 26/50 [1:08:20<1:04:09, 160.39s/it]"
     ]
    },
    {
     "name": "stdout",
     "output_type": "stream",
     "text": [
      "Simulation failed due to error: Command 'xfoil.exe < input_file.in' timed out after 5 seconds\n",
      "Episode 26/50, Total Reward: 464.6050355203352\n",
      "Simulation failed due to error: Command 'xfoil.exe < input_file.in' timed out after 5 seconds\n",
      "Simulation failed due to error: Command 'xfoil.exe < input_file.in' timed out after 5 seconds\n",
      "Simulation failed due to error: Command 'xfoil.exe < input_file.in' timed out after 5 seconds\n",
      "Simulation failed due to error: Command 'xfoil.exe < input_file.in' timed out after 5 seconds\n",
      "Simulation failed due to error: Command 'xfoil.exe < input_file.in' timed out after 5 seconds\n",
      "Simulation failed due to error: Command 'xfoil.exe < input_file.in' timed out after 5 seconds\n",
      "Simulation failed due to error: Command 'xfoil.exe < input_file.in' timed out after 5 seconds\n",
      "Simulation failed due to error: Command 'xfoil.exe < input_file.in' timed out after 5 seconds\n",
      "Simulation failed due to error: Command 'xfoil.exe < input_file.in' timed out after 5 seconds\n",
      "Simulation failed due to error: Command 'xfoil.exe < input_file.in' timed out after 5 seconds\n",
      "Simulation failed due to error: Command 'xfoil.exe < input_file.in' timed out after 5 seconds\n",
      "Simulation failed due to error: Command 'xfoil.exe < input_file.in' timed out after 5 seconds\n",
      "Simulation failed due to error: Command 'xfoil.exe < input_file.in' timed out after 5 seconds\n",
      "Simulation failed due to error: Command 'xfoil.exe < input_file.in' timed out after 5 seconds\n",
      "Simulation failed due to error: Command 'xfoil.exe < input_file.in' timed out after 5 seconds\n",
      "Simulation failed due to error: Command 'xfoil.exe < input_file.in' timed out after 5 seconds\n",
      "Simulation failed due to error: Command 'xfoil.exe < input_file.in' timed out after 5 seconds\n",
      "Simulation failed due to error: Command 'xfoil.exe < input_file.in' timed out after 5 seconds\n"
     ]
    },
    {
     "name": "stderr",
     "output_type": "stream",
     "text": [
      "\r",
      "Episodes:  54%|█████▍    | 27/50 [1:11:01<1:01:35, 160.69s/it]"
     ]
    },
    {
     "name": "stdout",
     "output_type": "stream",
     "text": [
      "Simulation failed due to error: Command 'xfoil.exe < input_file.in' timed out after 5 seconds\n",
      "Episode 27/50, Total Reward: 269.9023530059587\n",
      "Simulation failed due to error: Command 'xfoil.exe < input_file.in' timed out after 5 seconds\n",
      "Simulation failed due to error: Command 'xfoil.exe < input_file.in' timed out after 5 seconds\n",
      "Simulation failed due to error: Command 'xfoil.exe < input_file.in' timed out after 5 seconds\n",
      "Simulation failed due to error: Command 'xfoil.exe < input_file.in' timed out after 5 seconds\n",
      "Simulation failed due to error: Command 'xfoil.exe < input_file.in' timed out after 5 seconds\n",
      "Simulation failed due to error: Command 'xfoil.exe < input_file.in' timed out after 5 seconds\n",
      "Simulation failed due to error: Command 'xfoil.exe < input_file.in' timed out after 5 seconds\n",
      "Simulation failed due to error: Command 'xfoil.exe < input_file.in' timed out after 5 seconds\n",
      "Simulation failed due to error: Command 'xfoil.exe < input_file.in' timed out after 5 seconds\n",
      "Simulation failed due to error: Command 'xfoil.exe < input_file.in' timed out after 5 seconds\n",
      "Simulation failed due to error: Command 'xfoil.exe < input_file.in' timed out after 5 seconds\n",
      "Simulation failed due to error: Command 'xfoil.exe < input_file.in' timed out after 5 seconds\n",
      "Simulation failed due to error: Command 'xfoil.exe < input_file.in' timed out after 5 seconds\n",
      "Simulation failed due to error: Command 'xfoil.exe < input_file.in' timed out after 5 seconds\n",
      "Simulation failed due to error: Command 'xfoil.exe < input_file.in' timed out after 5 seconds\n",
      "Simulation failed due to error: Command 'xfoil.exe < input_file.in' timed out after 5 seconds\n",
      "Simulation failed due to error: Command 'xfoil.exe < input_file.in' timed out after 5 seconds\n",
      "Simulation failed due to error: Command 'xfoil.exe < input_file.in' timed out after 5 seconds\n",
      "Simulation failed due to error: Command 'xfoil.exe < input_file.in' timed out after 5 seconds\n",
      "Simulation failed due to error: Command 'xfoil.exe < input_file.in' timed out after 5 seconds\n",
      "Simulation failed due to error: Command 'xfoil.exe < input_file.in' timed out after 5 seconds\n",
      "Simulation failed due to error: Command 'xfoil.exe < input_file.in' timed out after 5 seconds\n",
      "Simulation failed due to error: Command 'xfoil.exe < input_file.in' timed out after 5 seconds\n",
      "Simulation failed due to error: Command 'xfoil.exe < input_file.in' timed out after 5 seconds\n",
      "Simulation failed due to error: Command 'xfoil.exe < input_file.in' timed out after 5 seconds\n",
      "Simulation failed due to error: Command 'xfoil.exe < input_file.in' timed out after 5 seconds\n",
      "Simulation failed due to error: Command 'xfoil.exe < input_file.in' timed out after 5 seconds\n",
      "Simulation failed due to error: Command 'xfoil.exe < input_file.in' timed out after 5 seconds\n",
      "Simulation failed due to error: Command 'xfoil.exe < input_file.in' timed out after 5 seconds\n",
      "Simulation failed due to error: Command 'xfoil.exe < input_file.in' timed out after 5 seconds\n",
      "Simulation failed due to error: Command 'xfoil.exe < input_file.in' timed out after 5 seconds\n",
      "Simulation failed due to error: Command 'xfoil.exe < input_file.in' timed out after 5 seconds\n"
     ]
    },
    {
     "name": "stderr",
     "output_type": "stream",
     "text": [
      "\r",
      "Episodes:  56%|█████▌    | 28/50 [1:14:24<1:03:36, 173.49s/it]"
     ]
    },
    {
     "name": "stdout",
     "output_type": "stream",
     "text": [
      "Episode 28/50, Total Reward: 152.90598130885897\n",
      "Simulation failed due to error: Command 'xfoil.exe < input_file.in' timed out after 5 seconds\n",
      "Simulation failed due to error: Command 'xfoil.exe < input_file.in' timed out after 5 seconds\n",
      "Simulation failed due to error: Command 'xfoil.exe < input_file.in' timed out after 5 seconds\n",
      "Simulation failed due to error: Command 'xfoil.exe < input_file.in' timed out after 5 seconds\n",
      "Simulation failed due to error: Command 'xfoil.exe < input_file.in' timed out after 5 seconds\n",
      "Simulation failed due to error: Command 'xfoil.exe < input_file.in' timed out after 5 seconds\n",
      "Simulation failed due to error: Command 'xfoil.exe < input_file.in' timed out after 5 seconds\n",
      "Simulation failed due to error: Command 'xfoil.exe < input_file.in' timed out after 5 seconds\n",
      "Simulation failed due to error: Command 'xfoil.exe < input_file.in' timed out after 5 seconds\n",
      "Simulation failed due to error: Command 'xfoil.exe < input_file.in' timed out after 5 seconds\n",
      "Simulation failed due to error: Command 'xfoil.exe < input_file.in' timed out after 5 seconds\n",
      "Simulation failed due to error: Command 'xfoil.exe < input_file.in' timed out after 5 seconds\n",
      "Simulation failed due to error: Command 'xfoil.exe < input_file.in' timed out after 5 seconds\n",
      "Simulation failed due to error: Command 'xfoil.exe < input_file.in' timed out after 5 seconds\n",
      "Simulation failed due to error: Command 'xfoil.exe < input_file.in' timed out after 5 seconds\n",
      "Simulation failed due to error: Command 'xfoil.exe < input_file.in' timed out after 5 seconds\n",
      "Simulation failed due to error: Command 'xfoil.exe < input_file.in' timed out after 5 seconds\n",
      "Simulation failed due to error: Command 'xfoil.exe < input_file.in' timed out after 5 seconds\n",
      "Simulation failed due to error: Command 'xfoil.exe < input_file.in' timed out after 5 seconds\n",
      "Simulation failed due to error: Command 'xfoil.exe < input_file.in' timed out after 5 seconds\n"
     ]
    },
    {
     "name": "stderr",
     "output_type": "stream",
     "text": [
      "\r",
      "Episodes:  58%|█████▊    | 29/50 [1:17:08<59:44, 170.69s/it]  "
     ]
    },
    {
     "name": "stdout",
     "output_type": "stream",
     "text": [
      "Episode 29/50, Total Reward: 292.3980728515364\n",
      "Simulation failed due to error: Command 'xfoil.exe < input_file.in' timed out after 5 seconds\n",
      "Simulation failed due to error: Command 'xfoil.exe < input_file.in' timed out after 5 seconds\n",
      "Simulation failed due to error: Command 'xfoil.exe < input_file.in' timed out after 5 seconds\n",
      "Simulation failed due to error: Command 'xfoil.exe < input_file.in' timed out after 5 seconds\n",
      "Simulation failed due to error: Command 'xfoil.exe < input_file.in' timed out after 5 seconds\n",
      "Simulation failed due to error: Command 'xfoil.exe < input_file.in' timed out after 5 seconds\n",
      "Simulation failed due to error: Command 'xfoil.exe < input_file.in' timed out after 5 seconds\n",
      "Simulation failed due to error: Command 'xfoil.exe < input_file.in' timed out after 5 seconds\n",
      "Simulation failed due to error: Command 'xfoil.exe < input_file.in' timed out after 5 seconds\n",
      "Simulation failed due to error: Command 'xfoil.exe < input_file.in' timed out after 5 seconds\n",
      "Simulation failed due to error: Command 'xfoil.exe < input_file.in' timed out after 5 seconds\n",
      "Simulation failed due to error: Command 'xfoil.exe < input_file.in' timed out after 5 seconds\n",
      "Simulation failed due to error: Command 'xfoil.exe < input_file.in' timed out after 5 seconds\n",
      "Simulation failed due to error: Command 'xfoil.exe < input_file.in' timed out after 5 seconds\n",
      "Simulation failed due to error: Command 'xfoil.exe < input_file.in' timed out after 5 seconds\n",
      "Simulation failed due to error: Command 'xfoil.exe < input_file.in' timed out after 5 seconds\n",
      "Simulation failed due to error: Command 'xfoil.exe < input_file.in' timed out after 5 seconds\n",
      "Simulation failed due to error: Command 'xfoil.exe < input_file.in' timed out after 5 seconds\n",
      "Simulation failed due to error: Command 'xfoil.exe < input_file.in' timed out after 5 seconds\n",
      "Simulation failed due to error: Command 'xfoil.exe < input_file.in' timed out after 5 seconds\n",
      "Simulation failed due to error: Command 'xfoil.exe < input_file.in' timed out after 5 seconds\n",
      "Simulation failed due to error: Command 'xfoil.exe < input_file.in' timed out after 5 seconds\n",
      "Simulation failed due to error: Command 'xfoil.exe < input_file.in' timed out after 5 seconds\n",
      "Simulation failed due to error: Command 'xfoil.exe < input_file.in' timed out after 5 seconds\n",
      "Simulation failed due to error: Command 'xfoil.exe < input_file.in' timed out after 5 seconds\n",
      "Simulation failed due to error: Command 'xfoil.exe < input_file.in' timed out after 5 seconds\n",
      "Simulation failed due to error: Command 'xfoil.exe < input_file.in' timed out after 5 seconds\n",
      "Simulation failed due to error: Command 'xfoil.exe < input_file.in' timed out after 5 seconds\n",
      "Simulation failed due to error: Command 'xfoil.exe < input_file.in' timed out after 5 seconds\n",
      "Simulation failed due to error: Command 'xfoil.exe < input_file.in' timed out after 5 seconds\n",
      "Simulation failed due to error: Command 'xfoil.exe < input_file.in' timed out after 5 seconds\n",
      "Simulation failed due to error: Command 'xfoil.exe < input_file.in' timed out after 5 seconds\n",
      "Simulation failed due to error: Command 'xfoil.exe < input_file.in' timed out after 5 seconds\n",
      "Simulation failed due to error: Command 'xfoil.exe < input_file.in' timed out after 5 seconds\n"
     ]
    },
    {
     "name": "stderr",
     "output_type": "stream",
     "text": [
      "\r",
      "Episodes:  60%|██████    | 30/50 [1:20:32<1:00:10, 180.54s/it]"
     ]
    },
    {
     "name": "stdout",
     "output_type": "stream",
     "text": [
      "Episode 30/50, Total Reward: 107.17322885931159\n",
      "Simulation failed due to error: Command 'xfoil.exe < input_file.in' timed out after 5 seconds\n",
      "Simulation failed due to error: Command 'xfoil.exe < input_file.in' timed out after 5 seconds\n",
      "Simulation failed due to error: Command 'xfoil.exe < input_file.in' timed out after 5 seconds\n",
      "Simulation failed due to error: Command 'xfoil.exe < input_file.in' timed out after 5 seconds\n",
      "Simulation failed due to error: Command 'xfoil.exe < input_file.in' timed out after 5 seconds\n",
      "Simulation failed due to error: Command 'xfoil.exe < input_file.in' timed out after 5 seconds\n",
      "Simulation failed due to error: Command 'xfoil.exe < input_file.in' timed out after 5 seconds\n",
      "Simulation failed due to error: Command 'xfoil.exe < input_file.in' timed out after 5 seconds\n",
      "Simulation failed due to error: Command 'xfoil.exe < input_file.in' timed out after 5 seconds\n",
      "Simulation failed due to error: Command 'xfoil.exe < input_file.in' timed out after 5 seconds\n",
      "Simulation failed due to error: Command 'xfoil.exe < input_file.in' timed out after 5 seconds\n",
      "Simulation failed due to error: Command 'xfoil.exe < input_file.in' timed out after 5 seconds\n",
      "Simulation failed due to error: Command 'xfoil.exe < input_file.in' timed out after 5 seconds\n",
      "Simulation failed due to error: Command 'xfoil.exe < input_file.in' timed out after 5 seconds\n",
      "Simulation failed due to error: Command 'xfoil.exe < input_file.in' timed out after 5 seconds\n",
      "Simulation failed due to error: Command 'xfoil.exe < input_file.in' timed out after 5 seconds\n",
      "Simulation failed due to error: Command 'xfoil.exe < input_file.in' timed out after 5 seconds\n",
      "Simulation failed due to error: Command 'xfoil.exe < input_file.in' timed out after 5 seconds\n",
      "Simulation failed due to error: Command 'xfoil.exe < input_file.in' timed out after 5 seconds\n",
      "Simulation failed due to error: Command 'xfoil.exe < input_file.in' timed out after 5 seconds\n",
      "Simulation failed due to error: Command 'xfoil.exe < input_file.in' timed out after 5 seconds\n",
      "Simulation failed due to error: Command 'xfoil.exe < input_file.in' timed out after 5 seconds\n",
      "Simulation failed due to error: Command 'xfoil.exe < input_file.in' timed out after 5 seconds\n",
      "Simulation failed due to error: Command 'xfoil.exe < input_file.in' timed out after 5 seconds\n",
      "Simulation failed due to error: Command 'xfoil.exe < input_file.in' timed out after 5 seconds\n",
      "Simulation failed due to error: Command 'xfoil.exe < input_file.in' timed out after 5 seconds\n",
      "Simulation failed due to error: Command 'xfoil.exe < input_file.in' timed out after 5 seconds\n",
      "Simulation failed due to error: Command 'xfoil.exe < input_file.in' timed out after 5 seconds\n",
      "Simulation failed due to error: Command 'xfoil.exe < input_file.in' timed out after 5 seconds\n",
      "Simulation failed due to error: Command 'xfoil.exe < input_file.in' timed out after 5 seconds\n",
      "Simulation failed due to error: Command 'xfoil.exe < input_file.in' timed out after 5 seconds\n",
      "Simulation failed due to error: Command 'xfoil.exe < input_file.in' timed out after 5 seconds\n",
      "Simulation failed due to error: Command 'xfoil.exe < input_file.in' timed out after 5 seconds\n",
      "Simulation failed due to error: Command 'xfoil.exe < input_file.in' timed out after 5 seconds\n",
      "Simulation failed due to error: Command 'xfoil.exe < input_file.in' timed out after 5 seconds\n",
      "Simulation failed due to error: Command 'xfoil.exe < input_file.in' timed out after 5 seconds\n",
      "Simulation failed due to error: Command 'xfoil.exe < input_file.in' timed out after 5 seconds\n",
      "Simulation failed due to error: Command 'xfoil.exe < input_file.in' timed out after 5 seconds\n",
      "Simulation failed due to error: Command 'xfoil.exe < input_file.in' timed out after 5 seconds\n",
      "Simulation failed due to error: Command 'xfoil.exe < input_file.in' timed out after 5 seconds\n",
      "Simulation failed due to error: Command 'xfoil.exe < input_file.in' timed out after 5 seconds\n",
      "Simulation failed due to error: Command 'xfoil.exe < input_file.in' timed out after 5 seconds\n",
      "Simulation failed due to error: Command 'xfoil.exe < input_file.in' timed out after 5 seconds\n",
      "Simulation failed due to error: Command 'xfoil.exe < input_file.in' timed out after 5 seconds\n",
      "Simulation failed due to error: Command 'xfoil.exe < input_file.in' timed out after 5 seconds\n",
      "Simulation failed due to error: Command 'xfoil.exe < input_file.in' timed out after 5 seconds\n"
     ]
    },
    {
     "name": "stderr",
     "output_type": "stream",
     "text": [
      "\r",
      "Episodes:  62%|██████▏   | 31/50 [1:24:40<1:03:35, 200.80s/it]"
     ]
    },
    {
     "name": "stdout",
     "output_type": "stream",
     "text": [
      "Simulation failed due to error: Command 'xfoil.exe < input_file.in' timed out after 5 seconds\n",
      "Episode 31/50, Total Reward: -28.202117669839375\n",
      "Simulation failed due to error: Command 'xfoil.exe < input_file.in' timed out after 5 seconds\n",
      "Simulation failed due to error: Command 'xfoil.exe < input_file.in' timed out after 5 seconds\n",
      "Simulation failed due to error: Command 'xfoil.exe < input_file.in' timed out after 5 seconds\n",
      "Simulation failed due to error: Command 'xfoil.exe < input_file.in' timed out after 5 seconds\n",
      "Simulation failed due to error: Command 'xfoil.exe < input_file.in' timed out after 5 seconds\n",
      "Simulation failed due to error: Command 'xfoil.exe < input_file.in' timed out after 5 seconds\n",
      "Simulation failed due to error: Command 'xfoil.exe < input_file.in' timed out after 5 seconds\n",
      "Simulation failed due to error: Command 'xfoil.exe < input_file.in' timed out after 5 seconds\n"
     ]
    },
    {
     "name": "stderr",
     "output_type": "stream",
     "text": [
      "\r",
      "Episodes:  64%|██████▍   | 32/50 [1:26:51<53:56, 179.81s/it]  "
     ]
    },
    {
     "name": "stdout",
     "output_type": "stream",
     "text": [
      "Episode 32/50, Total Reward: 408.53408841176474\n",
      "Simulation failed due to error: Command 'xfoil.exe < input_file.in' timed out after 5 seconds\n",
      "Simulation failed due to error: Command 'xfoil.exe < input_file.in' timed out after 5 seconds\n",
      "Simulation failed due to error: Command 'xfoil.exe < input_file.in' timed out after 5 seconds\n",
      "Simulation failed due to error: Command 'xfoil.exe < input_file.in' timed out after 5 seconds\n",
      "Simulation failed due to error: Command 'xfoil.exe < input_file.in' timed out after 5 seconds\n",
      "Simulation failed due to error: Command 'xfoil.exe < input_file.in' timed out after 5 seconds\n",
      "Simulation failed due to error: Command 'xfoil.exe < input_file.in' timed out after 5 seconds\n",
      "Simulation failed due to error: Command 'xfoil.exe < input_file.in' timed out after 5 seconds\n",
      "Simulation failed due to error: Command 'xfoil.exe < input_file.in' timed out after 5 seconds\n",
      "Simulation failed due to error: Command 'xfoil.exe < input_file.in' timed out after 5 seconds\n",
      "Simulation failed due to error: Command 'xfoil.exe < input_file.in' timed out after 5 seconds\n",
      "Simulation failed due to error: Command 'xfoil.exe < input_file.in' timed out after 5 seconds\n",
      "Simulation failed due to error: Command 'xfoil.exe < input_file.in' timed out after 5 seconds\n",
      "Simulation failed due to error: Command 'xfoil.exe < input_file.in' timed out after 5 seconds\n",
      "Simulation failed due to error: Command 'xfoil.exe < input_file.in' timed out after 5 seconds\n",
      "Simulation failed due to error: Command 'xfoil.exe < input_file.in' timed out after 5 seconds\n",
      "Simulation failed due to error: Command 'xfoil.exe < input_file.in' timed out after 5 seconds\n",
      "Simulation failed due to error: Command 'xfoil.exe < input_file.in' timed out after 5 seconds\n",
      "Simulation failed due to error: Command 'xfoil.exe < input_file.in' timed out after 5 seconds\n",
      "Simulation failed due to error: Command 'xfoil.exe < input_file.in' timed out after 5 seconds\n",
      "Simulation failed due to error: Command 'xfoil.exe < input_file.in' timed out after 5 seconds\n",
      "Simulation failed due to error: Command 'xfoil.exe < input_file.in' timed out after 5 seconds\n",
      "Simulation failed due to error: Command 'xfoil.exe < input_file.in' timed out after 5 seconds\n",
      "Simulation failed due to error: Command 'xfoil.exe < input_file.in' timed out after 5 seconds\n",
      "Simulation failed due to error: Command 'xfoil.exe < input_file.in' timed out after 5 seconds\n",
      "Simulation failed due to error: Command 'xfoil.exe < input_file.in' timed out after 5 seconds\n",
      "Simulation failed due to error: Command 'xfoil.exe < input_file.in' timed out after 5 seconds\n"
     ]
    },
    {
     "name": "stderr",
     "output_type": "stream",
     "text": [
      "\r",
      "Episodes:  66%|██████▌   | 33/50 [1:30:00<51:43, 182.58s/it]"
     ]
    },
    {
     "name": "stdout",
     "output_type": "stream",
     "text": [
      "Simulation failed due to error: Command 'xfoil.exe < input_file.in' timed out after 5 seconds\n",
      "Episode 33/50, Total Reward: 190.42451145083774\n",
      "Simulation failed due to error: Command 'xfoil.exe < input_file.in' timed out after 5 seconds\n",
      "Simulation failed due to error: Command 'xfoil.exe < input_file.in' timed out after 5 seconds\n",
      "Simulation failed due to error: Command 'xfoil.exe < input_file.in' timed out after 5 seconds\n",
      "Simulation failed due to error: Command 'xfoil.exe < input_file.in' timed out after 5 seconds\n",
      "Simulation failed due to error: Command 'xfoil.exe < input_file.in' timed out after 5 seconds\n",
      "Simulation failed due to error: Command 'xfoil.exe < input_file.in' timed out after 5 seconds\n",
      "Simulation failed due to error: Command 'xfoil.exe < input_file.in' timed out after 5 seconds\n",
      "Simulation failed due to error: Command 'xfoil.exe < input_file.in' timed out after 5 seconds\n",
      "Simulation failed due to error: Command 'xfoil.exe < input_file.in' timed out after 5 seconds\n",
      "Simulation failed due to error: Command 'xfoil.exe < input_file.in' timed out after 5 seconds\n",
      "Simulation failed due to error: Command 'xfoil.exe < input_file.in' timed out after 5 seconds\n",
      "Simulation failed due to error: Command 'xfoil.exe < input_file.in' timed out after 5 seconds\n",
      "Simulation failed due to error: Command 'xfoil.exe < input_file.in' timed out after 5 seconds\n",
      "Simulation failed due to error: Command 'xfoil.exe < input_file.in' timed out after 5 seconds\n",
      "Simulation failed due to error: Command 'xfoil.exe < input_file.in' timed out after 5 seconds\n",
      "Simulation failed due to error: Command 'xfoil.exe < input_file.in' timed out after 5 seconds\n",
      "Simulation failed due to error: Command 'xfoil.exe < input_file.in' timed out after 5 seconds\n",
      "Simulation failed due to error: Command 'xfoil.exe < input_file.in' timed out after 5 seconds\n",
      "Simulation failed due to error: Command 'xfoil.exe < input_file.in' timed out after 5 seconds\n",
      "Simulation failed due to error: Command 'xfoil.exe < input_file.in' timed out after 5 seconds\n",
      "Simulation failed due to error: Command 'xfoil.exe < input_file.in' timed out after 5 seconds\n",
      "Simulation failed due to error: Command 'xfoil.exe < input_file.in' timed out after 5 seconds\n",
      "Simulation failed due to error: Command 'xfoil.exe < input_file.in' timed out after 5 seconds\n",
      "Simulation failed due to error: Command 'xfoil.exe < input_file.in' timed out after 5 seconds\n",
      "Simulation failed due to error: Command 'xfoil.exe < input_file.in' timed out after 5 seconds\n",
      "Simulation failed due to error: Command 'xfoil.exe < input_file.in' timed out after 5 seconds\n",
      "Simulation failed due to error: Command 'xfoil.exe < input_file.in' timed out after 5 seconds\n",
      "Simulation failed due to error: Command 'xfoil.exe < input_file.in' timed out after 5 seconds\n",
      "Simulation failed due to error: Command 'xfoil.exe < input_file.in' timed out after 5 seconds\n",
      "Simulation failed due to error: Command 'xfoil.exe < input_file.in' timed out after 5 seconds\n",
      "Simulation failed due to error: Command 'xfoil.exe < input_file.in' timed out after 5 seconds\n",
      "Simulation failed due to error: Command 'xfoil.exe < input_file.in' timed out after 5 seconds\n"
     ]
    },
    {
     "name": "stderr",
     "output_type": "stream",
     "text": [
      "\r",
      "Episodes:  68%|██████▊   | 34/50 [1:33:21<50:11, 188.19s/it]"
     ]
    },
    {
     "name": "stdout",
     "output_type": "stream",
     "text": [
      "Episode 34/50, Total Reward: 132.95303558350645\n",
      "Simulation failed due to error: Command 'xfoil.exe < input_file.in' timed out after 5 seconds\n",
      "Simulation failed due to error: Command 'xfoil.exe < input_file.in' timed out after 5 seconds\n",
      "Simulation failed due to error: Command 'xfoil.exe < input_file.in' timed out after 5 seconds\n",
      "Simulation failed due to error: Command 'xfoil.exe < input_file.in' timed out after 5 seconds\n"
     ]
    },
    {
     "name": "stderr",
     "output_type": "stream",
     "text": [
      "\r",
      "Episodes:  70%|███████   | 35/50 [1:35:04<40:37, 162.49s/it]"
     ]
    },
    {
     "name": "stdout",
     "output_type": "stream",
     "text": [
      "Episode 35/50, Total Reward: 441.0872145835858\n",
      "Simulation failed due to error: Command 'xfoil.exe < input_file.in' timed out after 5 seconds\n",
      "Simulation failed due to error: Command 'xfoil.exe < input_file.in' timed out after 5 seconds\n",
      "Simulation failed due to error: Command 'xfoil.exe < input_file.in' timed out after 5 seconds\n",
      "Simulation failed due to error: Command 'xfoil.exe < input_file.in' timed out after 5 seconds\n",
      "Simulation failed due to error: Command 'xfoil.exe < input_file.in' timed out after 5 seconds\n",
      "Simulation failed due to error: Command 'xfoil.exe < input_file.in' timed out after 5 seconds\n",
      "Simulation failed due to error: Command 'xfoil.exe < input_file.in' timed out after 5 seconds\n",
      "Simulation failed due to error: Command 'xfoil.exe < input_file.in' timed out after 5 seconds\n",
      "Simulation failed due to error: Command 'xfoil.exe < input_file.in' timed out after 5 seconds\n",
      "Simulation failed due to error: Command 'xfoil.exe < input_file.in' timed out after 5 seconds\n",
      "Simulation failed due to error: Command 'xfoil.exe < input_file.in' timed out after 5 seconds\n"
     ]
    },
    {
     "name": "stderr",
     "output_type": "stream",
     "text": [
      "\r",
      "Episodes:  72%|███████▏  | 36/50 [1:37:19<36:01, 154.40s/it]"
     ]
    },
    {
     "name": "stdout",
     "output_type": "stream",
     "text": [
      "Episode 36/50, Total Reward: 392.834052663766\n",
      "Simulation failed due to error: Command 'xfoil.exe < input_file.in' timed out after 5 seconds\n",
      "Simulation failed due to error: Command 'xfoil.exe < input_file.in' timed out after 5 seconds\n",
      "Simulation failed due to error: Command 'xfoil.exe < input_file.in' timed out after 5 seconds\n",
      "Simulation failed due to error: Command 'xfoil.exe < input_file.in' timed out after 5 seconds\n",
      "Simulation failed due to error: Command 'xfoil.exe < input_file.in' timed out after 5 seconds\n",
      "Simulation failed due to error: Command 'xfoil.exe < input_file.in' timed out after 5 seconds\n",
      "Simulation failed due to error: Command 'xfoil.exe < input_file.in' timed out after 5 seconds\n",
      "Simulation failed due to error: Command 'xfoil.exe < input_file.in' timed out after 5 seconds\n",
      "Simulation failed due to error: Command 'xfoil.exe < input_file.in' timed out after 5 seconds\n",
      "Simulation failed due to error: Command 'xfoil.exe < input_file.in' timed out after 5 seconds\n",
      "Simulation failed due to error: Command 'xfoil.exe < input_file.in' timed out after 5 seconds\n",
      "Simulation failed due to error: Command 'xfoil.exe < input_file.in' timed out after 5 seconds\n",
      "Simulation failed due to error: Command 'xfoil.exe < input_file.in' timed out after 5 seconds\n",
      "Simulation failed due to error: Command 'xfoil.exe < input_file.in' timed out after 5 seconds\n",
      "Simulation failed due to error: Command 'xfoil.exe < input_file.in' timed out after 5 seconds\n",
      "Simulation failed due to error: Command 'xfoil.exe < input_file.in' timed out after 5 seconds\n",
      "Simulation failed due to error: Command 'xfoil.exe < input_file.in' timed out after 5 seconds\n",
      "Simulation failed due to error: Command 'xfoil.exe < input_file.in' timed out after 5 seconds\n",
      "Simulation failed due to error: Command 'xfoil.exe < input_file.in' timed out after 5 seconds\n"
     ]
    },
    {
     "name": "stderr",
     "output_type": "stream",
     "text": [
      "\r",
      "Episodes:  74%|███████▍  | 37/50 [1:40:05<34:10, 157.76s/it]"
     ]
    },
    {
     "name": "stdout",
     "output_type": "stream",
     "text": [
      "Simulation failed due to error: Command 'xfoil.exe < input_file.in' timed out after 5 seconds\n",
      "Episode 37/50, Total Reward: 282.6546254588898\n",
      "Simulation failed due to error: Command 'xfoil.exe < input_file.in' timed out after 5 seconds\n",
      "Simulation failed due to error: Command 'xfoil.exe < input_file.in' timed out after 5 seconds\n",
      "Simulation failed due to error: Command 'xfoil.exe < input_file.in' timed out after 5 seconds\n",
      "Simulation failed due to error: Command 'xfoil.exe < input_file.in' timed out after 5 seconds\n",
      "Simulation failed due to error: Command 'xfoil.exe < input_file.in' timed out after 5 seconds\n",
      "Simulation failed due to error: Command 'xfoil.exe < input_file.in' timed out after 5 seconds\n",
      "Simulation failed due to error: Command 'xfoil.exe < input_file.in' timed out after 5 seconds\n",
      "Simulation failed due to error: Command 'xfoil.exe < input_file.in' timed out after 5 seconds\n",
      "Simulation failed due to error: Command 'xfoil.exe < input_file.in' timed out after 5 seconds\n",
      "Simulation failed due to error: Command 'xfoil.exe < input_file.in' timed out after 5 seconds\n",
      "Simulation failed due to error: Command 'xfoil.exe < input_file.in' timed out after 5 seconds\n",
      "Simulation failed due to error: Command 'xfoil.exe < input_file.in' timed out after 5 seconds\n",
      "Simulation failed due to error: Command 'xfoil.exe < input_file.in' timed out after 5 seconds\n",
      "Simulation failed due to error: Command 'xfoil.exe < input_file.in' timed out after 5 seconds\n",
      "Simulation failed due to error: Command 'xfoil.exe < input_file.in' timed out after 5 seconds\n",
      "Simulation failed due to error: Command 'xfoil.exe < input_file.in' timed out after 5 seconds\n",
      "Simulation failed due to error: Command 'xfoil.exe < input_file.in' timed out after 5 seconds\n",
      "Simulation failed due to error: Command 'xfoil.exe < input_file.in' timed out after 5 seconds\n",
      "Simulation failed due to error: Command 'xfoil.exe < input_file.in' timed out after 5 seconds\n",
      "Simulation failed due to error: Command 'xfoil.exe < input_file.in' timed out after 5 seconds\n",
      "Simulation failed due to error: Command 'xfoil.exe < input_file.in' timed out after 5 seconds\n",
      "Simulation failed due to error: Command 'xfoil.exe < input_file.in' timed out after 5 seconds\n",
      "Simulation failed due to error: Command 'xfoil.exe < input_file.in' timed out after 5 seconds\n",
      "Simulation failed due to error: Command 'xfoil.exe < input_file.in' timed out after 5 seconds\n",
      "Simulation failed due to error: Command 'xfoil.exe < input_file.in' timed out after 5 seconds\n",
      "Simulation failed due to error: Command 'xfoil.exe < input_file.in' timed out after 5 seconds\n",
      "Simulation failed due to error: Command 'xfoil.exe < input_file.in' timed out after 5 seconds\n",
      "Simulation failed due to error: Command 'xfoil.exe < input_file.in' timed out after 5 seconds\n",
      "Simulation failed due to error: Command 'xfoil.exe < input_file.in' timed out after 5 seconds\n",
      "Simulation failed due to error: Command 'xfoil.exe < input_file.in' timed out after 5 seconds\n",
      "Simulation failed due to error: Command 'xfoil.exe < input_file.in' timed out after 5 seconds\n",
      "Simulation failed due to error: Command 'xfoil.exe < input_file.in' timed out after 5 seconds\n"
     ]
    },
    {
     "name": "stderr",
     "output_type": "stream",
     "text": [
      "\r",
      "Episodes:  76%|███████▌  | 38/50 [1:43:30<34:23, 171.98s/it]"
     ]
    },
    {
     "name": "stdout",
     "output_type": "stream",
     "text": [
      "Simulation failed due to error: Command 'xfoil.exe < input_file.in' timed out after 5 seconds\n",
      "Episode 38/50, Total Reward: 128.7699376625435\n",
      "Simulation failed due to error: Command 'xfoil.exe < input_file.in' timed out after 5 seconds\n",
      "Simulation failed due to error: Command 'xfoil.exe < input_file.in' timed out after 5 seconds\n",
      "Simulation failed due to error: Command 'xfoil.exe < input_file.in' timed out after 5 seconds\n",
      "Simulation failed due to error: Command 'xfoil.exe < input_file.in' timed out after 5 seconds\n",
      "Simulation failed due to error: Command 'xfoil.exe < input_file.in' timed out after 5 seconds\n",
      "Simulation failed due to error: Command 'xfoil.exe < input_file.in' timed out after 5 seconds\n",
      "Simulation failed due to error: Command 'xfoil.exe < input_file.in' timed out after 5 seconds\n",
      "Simulation failed due to error: Command 'xfoil.exe < input_file.in' timed out after 5 seconds\n",
      "Simulation failed due to error: Command 'xfoil.exe < input_file.in' timed out after 5 seconds\n",
      "Simulation failed due to error: Command 'xfoil.exe < input_file.in' timed out after 5 seconds\n",
      "Simulation failed due to error: Command 'xfoil.exe < input_file.in' timed out after 5 seconds\n",
      "Simulation failed due to error: Command 'xfoil.exe < input_file.in' timed out after 5 seconds\n"
     ]
    },
    {
     "name": "stderr",
     "output_type": "stream",
     "text": [
      "\r",
      "Episodes:  78%|███████▊  | 39/50 [1:45:54<29:57, 163.44s/it]"
     ]
    },
    {
     "name": "stdout",
     "output_type": "stream",
     "text": [
      "Episode 39/50, Total Reward: 369.5284676217515\n",
      "Simulation failed due to error: Command 'xfoil.exe < input_file.in' timed out after 5 seconds\n",
      "Simulation failed due to error: Command 'xfoil.exe < input_file.in' timed out after 5 seconds\n",
      "Simulation failed due to error: Command 'xfoil.exe < input_file.in' timed out after 5 seconds\n"
     ]
    },
    {
     "name": "stderr",
     "output_type": "stream",
     "text": [
      "\r",
      "Episodes:  80%|████████  | 40/50 [1:47:42<24:28, 146.89s/it]"
     ]
    },
    {
     "name": "stdout",
     "output_type": "stream",
     "text": [
      "Episode 40/50, Total Reward: 432.75739067352674\n",
      "Simulation failed due to error: Command 'xfoil.exe < input_file.in' timed out after 5 seconds\n",
      "Simulation failed due to error: Command 'xfoil.exe < input_file.in' timed out after 5 seconds\n",
      "Simulation failed due to error: Command 'xfoil.exe < input_file.in' timed out after 5 seconds\n",
      "Simulation failed due to error: Command 'xfoil.exe < input_file.in' timed out after 5 seconds\n",
      "Simulation failed due to error: Command 'xfoil.exe < input_file.in' timed out after 5 seconds\n",
      "Simulation failed due to error: Command 'xfoil.exe < input_file.in' timed out after 5 seconds\n",
      "Simulation failed due to error: Command 'xfoil.exe < input_file.in' timed out after 5 seconds\n",
      "Simulation failed due to error: Command 'xfoil.exe < input_file.in' timed out after 5 seconds\n",
      "Simulation failed due to error: Command 'xfoil.exe < input_file.in' timed out after 5 seconds\n",
      "Simulation failed due to error: Command 'xfoil.exe < input_file.in' timed out after 5 seconds\n",
      "Simulation failed due to error: Command 'xfoil.exe < input_file.in' timed out after 5 seconds\n",
      "Simulation failed due to error: Command 'xfoil.exe < input_file.in' timed out after 5 seconds\n",
      "Simulation failed due to error: Command 'xfoil.exe < input_file.in' timed out after 5 seconds\n",
      "Simulation failed due to error: Command 'xfoil.exe < input_file.in' timed out after 5 seconds\n",
      "Simulation failed due to error: Command 'xfoil.exe < input_file.in' timed out after 5 seconds\n"
     ]
    },
    {
     "name": "stderr",
     "output_type": "stream",
     "text": [
      "\r",
      "Episodes:  82%|████████▏ | 41/50 [1:50:12<22:10, 147.78s/it]"
     ]
    },
    {
     "name": "stdout",
     "output_type": "stream",
     "text": [
      "Episode 41/50, Total Reward: 355.0361572711128\n",
      "Simulation failed due to error: Command 'xfoil.exe < input_file.in' timed out after 5 seconds\n",
      "Simulation failed due to error: Command 'xfoil.exe < input_file.in' timed out after 5 seconds\n",
      "Simulation failed due to error: Command 'xfoil.exe < input_file.in' timed out after 5 seconds\n",
      "Simulation failed due to error: Command 'xfoil.exe < input_file.in' timed out after 5 seconds\n",
      "Simulation failed due to error: Command 'xfoil.exe < input_file.in' timed out after 5 seconds\n",
      "Simulation failed due to error: Command 'xfoil.exe < input_file.in' timed out after 5 seconds\n",
      "Simulation failed due to error: Command 'xfoil.exe < input_file.in' timed out after 5 seconds\n",
      "Simulation failed due to error: Command 'xfoil.exe < input_file.in' timed out after 5 seconds\n",
      "Simulation failed due to error: Command 'xfoil.exe < input_file.in' timed out after 5 seconds\n",
      "Simulation failed due to error: Command 'xfoil.exe < input_file.in' timed out after 5 seconds\n",
      "Simulation failed due to error: Command 'xfoil.exe < input_file.in' timed out after 5 seconds\n",
      "Simulation failed due to error: Command 'xfoil.exe < input_file.in' timed out after 5 seconds\n",
      "Simulation failed due to error: Command 'xfoil.exe < input_file.in' timed out after 5 seconds\n",
      "Simulation failed due to error: Command 'xfoil.exe < input_file.in' timed out after 5 seconds\n",
      "Simulation failed due to error: Command 'xfoil.exe < input_file.in' timed out after 5 seconds\n",
      "Simulation failed due to error: Command 'xfoil.exe < input_file.in' timed out after 5 seconds\n",
      "Simulation failed due to error: Command 'xfoil.exe < input_file.in' timed out after 5 seconds\n",
      "Simulation failed due to error: Command 'xfoil.exe < input_file.in' timed out after 5 seconds\n",
      "Simulation failed due to error: Command 'xfoil.exe < input_file.in' timed out after 5 seconds\n",
      "Simulation failed due to error: Command 'xfoil.exe < input_file.in' timed out after 5 seconds\n",
      "Simulation failed due to error: Command 'xfoil.exe < input_file.in' timed out after 5 seconds\n",
      "Simulation failed due to error: Command 'xfoil.exe < input_file.in' timed out after 5 seconds\n",
      "Simulation failed due to error: Command 'xfoil.exe < input_file.in' timed out after 5 seconds\n",
      "Simulation failed due to error: Command 'xfoil.exe < input_file.in' timed out after 5 seconds\n",
      "Simulation failed due to error: Command 'xfoil.exe < input_file.in' timed out after 5 seconds\n",
      "Simulation failed due to error: Command 'xfoil.exe < input_file.in' timed out after 5 seconds\n",
      "Simulation failed due to error: Command 'xfoil.exe < input_file.in' timed out after 5 seconds\n",
      "Simulation failed due to error: Command 'xfoil.exe < input_file.in' timed out after 5 seconds\n",
      "Simulation failed due to error: Command 'xfoil.exe < input_file.in' timed out after 5 seconds\n",
      "Simulation failed due to error: Command 'xfoil.exe < input_file.in' timed out after 5 seconds\n",
      "Simulation failed due to error: Command 'xfoil.exe < input_file.in' timed out after 5 seconds\n",
      "Simulation failed due to error: Command 'xfoil.exe < input_file.in' timed out after 5 seconds\n",
      "Simulation failed due to error: Command 'xfoil.exe < input_file.in' timed out after 5 seconds\n",
      "Simulation failed due to error: Command 'xfoil.exe < input_file.in' timed out after 5 seconds\n",
      "Simulation failed due to error: Command 'xfoil.exe < input_file.in' timed out after 5 seconds\n",
      "Simulation failed due to error: Command 'xfoil.exe < input_file.in' timed out after 5 seconds\n",
      "Simulation failed due to error: Command 'xfoil.exe < input_file.in' timed out after 5 seconds\n",
      "Simulation failed due to error: Command 'xfoil.exe < input_file.in' timed out after 5 seconds\n",
      "Simulation failed due to error: Command 'xfoil.exe < input_file.in' timed out after 5 seconds\n",
      "Simulation failed due to error: Command 'xfoil.exe < input_file.in' timed out after 5 seconds\n",
      "Simulation failed due to error: Command 'xfoil.exe < input_file.in' timed out after 5 seconds\n",
      "Simulation failed due to error: Command 'xfoil.exe < input_file.in' timed out after 5 seconds\n",
      "Simulation failed due to error: Command 'xfoil.exe < input_file.in' timed out after 5 seconds\n",
      "Simulation failed due to error: Command 'xfoil.exe < input_file.in' timed out after 5 seconds\n",
      "Simulation failed due to error: Command 'xfoil.exe < input_file.in' timed out after 5 seconds\n",
      "Simulation failed due to error: Command 'xfoil.exe < input_file.in' timed out after 5 seconds\n",
      "Simulation failed due to error: Command 'xfoil.exe < input_file.in' timed out after 5 seconds\n"
     ]
    },
    {
     "name": "stderr",
     "output_type": "stream",
     "text": [
      "\r",
      "Episodes:  84%|████████▍ | 42/50 [1:54:22<23:48, 178.59s/it]"
     ]
    },
    {
     "name": "stdout",
     "output_type": "stream",
     "text": [
      "Simulation failed due to error: Command 'xfoil.exe < input_file.in' timed out after 5 seconds\n",
      "Episode 42/50, Total Reward: -38.8046037742778\n",
      "Simulation failed due to error: Command 'xfoil.exe < input_file.in' timed out after 5 seconds\n",
      "Simulation failed due to error: Command 'xfoil.exe < input_file.in' timed out after 5 seconds\n",
      "Simulation failed due to error: Command 'xfoil.exe < input_file.in' timed out after 5 seconds\n",
      "Simulation failed due to error: Command 'xfoil.exe < input_file.in' timed out after 5 seconds\n",
      "Simulation failed due to error: Command 'xfoil.exe < input_file.in' timed out after 5 seconds\n",
      "Simulation failed due to error: Command 'xfoil.exe < input_file.in' timed out after 5 seconds\n",
      "Simulation failed due to error: Command 'xfoil.exe < input_file.in' timed out after 5 seconds\n",
      "Simulation failed due to error: Command 'xfoil.exe < input_file.in' timed out after 5 seconds\n",
      "Simulation failed due to error: Command 'xfoil.exe < input_file.in' timed out after 5 seconds\n",
      "Simulation failed due to error: Command 'xfoil.exe < input_file.in' timed out after 5 seconds\n",
      "Simulation failed due to error: Command 'xfoil.exe < input_file.in' timed out after 5 seconds\n",
      "Simulation failed due to error: Command 'xfoil.exe < input_file.in' timed out after 5 seconds\n"
     ]
    },
    {
     "name": "stderr",
     "output_type": "stream",
     "text": [
      "\r",
      "Episodes:  86%|████████▌ | 43/50 [1:56:38<19:20, 165.82s/it]"
     ]
    },
    {
     "name": "stdout",
     "output_type": "stream",
     "text": [
      "Episode 43/50, Total Reward: 382.9211697885859\n",
      "Simulation failed due to error: Command 'xfoil.exe < input_file.in' timed out after 5 seconds\n",
      "Simulation failed due to error: Command 'xfoil.exe < input_file.in' timed out after 5 seconds\n",
      "Simulation failed due to error: Command 'xfoil.exe < input_file.in' timed out after 5 seconds\n",
      "Simulation failed due to error: Command 'xfoil.exe < input_file.in' timed out after 5 seconds\n",
      "Simulation failed due to error: Command 'xfoil.exe < input_file.in' timed out after 5 seconds\n",
      "Simulation failed due to error: Command 'xfoil.exe < input_file.in' timed out after 5 seconds\n"
     ]
    },
    {
     "name": "stderr",
     "output_type": "stream",
     "text": [
      "\r",
      "Episodes:  88%|████████▊ | 44/50 [1:58:43<15:21, 153.51s/it]"
     ]
    },
    {
     "name": "stdout",
     "output_type": "stream",
     "text": [
      "Episode 44/50, Total Reward: 418.2074764849321\n",
      "Simulation failed due to error: Command 'xfoil.exe < input_file.in' timed out after 5 seconds\n",
      "Simulation failed due to error: Command 'xfoil.exe < input_file.in' timed out after 5 seconds\n",
      "Simulation failed due to error: Command 'xfoil.exe < input_file.in' timed out after 5 seconds\n",
      "Simulation failed due to error: Command 'xfoil.exe < input_file.in' timed out after 5 seconds\n",
      "Simulation failed due to error: Command 'xfoil.exe < input_file.in' timed out after 5 seconds\n",
      "Simulation failed due to error: Command 'xfoil.exe < input_file.in' timed out after 5 seconds\n",
      "Simulation failed due to error: Command 'xfoil.exe < input_file.in' timed out after 5 seconds\n",
      "Simulation failed due to error: Command 'xfoil.exe < input_file.in' timed out after 5 seconds\n",
      "Simulation failed due to error: Command 'xfoil.exe < input_file.in' timed out after 5 seconds\n",
      "Simulation failed due to error: Command 'xfoil.exe < input_file.in' timed out after 5 seconds\n",
      "Simulation failed due to error: Command 'xfoil.exe < input_file.in' timed out after 5 seconds\n",
      "Simulation failed due to error: Command 'xfoil.exe < input_file.in' timed out after 5 seconds\n",
      "Simulation failed due to error: Command 'xfoil.exe < input_file.in' timed out after 5 seconds\n",
      "Simulation failed due to error: Command 'xfoil.exe < input_file.in' timed out after 5 seconds\n",
      "Simulation failed due to error: Command 'xfoil.exe < input_file.in' timed out after 5 seconds\n",
      "Simulation failed due to error: Command 'xfoil.exe < input_file.in' timed out after 5 seconds\n",
      "Simulation failed due to error: Command 'xfoil.exe < input_file.in' timed out after 5 seconds\n",
      "Simulation failed due to error: Command 'xfoil.exe < input_file.in' timed out after 5 seconds\n",
      "Simulation failed due to error: Command 'xfoil.exe < input_file.in' timed out after 5 seconds\n",
      "Simulation failed due to error: Command 'xfoil.exe < input_file.in' timed out after 5 seconds\n",
      "Simulation failed due to error: Command 'xfoil.exe < input_file.in' timed out after 5 seconds\n",
      "Simulation failed due to error: Command 'xfoil.exe < input_file.in' timed out after 5 seconds\n",
      "Simulation failed due to error: Command 'xfoil.exe < input_file.in' timed out after 5 seconds\n",
      "Simulation failed due to error: Command 'xfoil.exe < input_file.in' timed out after 5 seconds\n",
      "Simulation failed due to error: Command 'xfoil.exe < input_file.in' timed out after 5 seconds\n",
      "Simulation failed due to error: Command 'xfoil.exe < input_file.in' timed out after 5 seconds\n",
      "Simulation failed due to error: Command 'xfoil.exe < input_file.in' timed out after 5 seconds\n",
      "Simulation failed due to error: Command 'xfoil.exe < input_file.in' timed out after 5 seconds\n",
      "Simulation failed due to error: Command 'xfoil.exe < input_file.in' timed out after 5 seconds\n",
      "Simulation failed due to error: Command 'xfoil.exe < input_file.in' timed out after 5 seconds\n",
      "Simulation failed due to error: Command 'xfoil.exe < input_file.in' timed out after 5 seconds\n",
      "Simulation failed due to error: Command 'xfoil.exe < input_file.in' timed out after 5 seconds\n",
      "Simulation failed due to error: Command 'xfoil.exe < input_file.in' timed out after 5 seconds\n",
      "Simulation failed due to error: Command 'xfoil.exe < input_file.in' timed out after 5 seconds\n",
      "Simulation failed due to error: Command 'xfoil.exe < input_file.in' timed out after 5 seconds\n",
      "Simulation failed due to error: Command 'xfoil.exe < input_file.in' timed out after 5 seconds\n",
      "Simulation failed due to error: Command 'xfoil.exe < input_file.in' timed out after 5 seconds\n",
      "Simulation failed due to error: Command 'xfoil.exe < input_file.in' timed out after 5 seconds\n",
      "Simulation failed due to error: Command 'xfoil.exe < input_file.in' timed out after 5 seconds\n",
      "Simulation failed due to error: Command 'xfoil.exe < input_file.in' timed out after 5 seconds\n",
      "Simulation failed due to error: Command 'xfoil.exe < input_file.in' timed out after 5 seconds\n",
      "Simulation failed due to error: Command 'xfoil.exe < input_file.in' timed out after 5 seconds\n",
      "Simulation failed due to error: Command 'xfoil.exe < input_file.in' timed out after 5 seconds\n",
      "Simulation failed due to error: Command 'xfoil.exe < input_file.in' timed out after 5 seconds\n",
      "Simulation failed due to error: Command 'xfoil.exe < input_file.in' timed out after 5 seconds\n",
      "Simulation failed due to error: Command 'xfoil.exe < input_file.in' timed out after 5 seconds\n",
      "Simulation failed due to error: Command 'xfoil.exe < input_file.in' timed out after 5 seconds\n",
      "Simulation failed due to error: Command 'xfoil.exe < input_file.in' timed out after 5 seconds\n",
      "Simulation failed due to error: Command 'xfoil.exe < input_file.in' timed out after 5 seconds\n"
     ]
    },
    {
     "name": "stderr",
     "output_type": "stream",
     "text": [
      "\r",
      "Episodes:  90%|█████████ | 45/50 [2:03:00<15:22, 184.54s/it]"
     ]
    },
    {
     "name": "stdout",
     "output_type": "stream",
     "text": [
      "Simulation failed due to error: Command 'xfoil.exe < input_file.in' timed out after 5 seconds\n",
      "Episode 45/50, Total Reward: -61.17243105917431\n",
      "Simulation failed due to error: Command 'xfoil.exe < input_file.in' timed out after 5 seconds\n",
      "Simulation failed due to error: Command 'xfoil.exe < input_file.in' timed out after 5 seconds\n",
      "Simulation failed due to error: Command 'xfoil.exe < input_file.in' timed out after 5 seconds\n",
      "Simulation failed due to error: Command 'xfoil.exe < input_file.in' timed out after 5 seconds\n",
      "Simulation failed due to error: Command 'xfoil.exe < input_file.in' timed out after 5 seconds\n",
      "Simulation failed due to error: Command 'xfoil.exe < input_file.in' timed out after 5 seconds\n",
      "Simulation failed due to error: Command 'xfoil.exe < input_file.in' timed out after 5 seconds\n",
      "Simulation failed due to error: Command 'xfoil.exe < input_file.in' timed out after 5 seconds\n",
      "Simulation failed due to error: Command 'xfoil.exe < input_file.in' timed out after 5 seconds\n",
      "Simulation failed due to error: Command 'xfoil.exe < input_file.in' timed out after 5 seconds\n",
      "Simulation failed due to error: Command 'xfoil.exe < input_file.in' timed out after 5 seconds\n",
      "Simulation failed due to error: Command 'xfoil.exe < input_file.in' timed out after 5 seconds\n",
      "Simulation failed due to error: Command 'xfoil.exe < input_file.in' timed out after 5 seconds\n",
      "Simulation failed due to error: Command 'xfoil.exe < input_file.in' timed out after 5 seconds\n",
      "Simulation failed due to error: Command 'xfoil.exe < input_file.in' timed out after 5 seconds\n",
      "Simulation failed due to error: Command 'xfoil.exe < input_file.in' timed out after 5 seconds\n",
      "Simulation failed due to error: Command 'xfoil.exe < input_file.in' timed out after 5 seconds\n",
      "Simulation failed due to error: Command 'xfoil.exe < input_file.in' timed out after 5 seconds\n",
      "Simulation failed due to error: Command 'xfoil.exe < input_file.in' timed out after 5 seconds\n",
      "Simulation failed due to error: Command 'xfoil.exe < input_file.in' timed out after 5 seconds\n",
      "Simulation failed due to error: Command 'xfoil.exe < input_file.in' timed out after 5 seconds\n",
      "Simulation failed due to error: Command 'xfoil.exe < input_file.in' timed out after 5 seconds\n",
      "Simulation failed due to error: Command 'xfoil.exe < input_file.in' timed out after 5 seconds\n",
      "Simulation failed due to error: Command 'xfoil.exe < input_file.in' timed out after 5 seconds\n",
      "Simulation failed due to error: Command 'xfoil.exe < input_file.in' timed out after 5 seconds\n",
      "Simulation failed due to error: Command 'xfoil.exe < input_file.in' timed out after 5 seconds\n",
      "Simulation failed due to error: Command 'xfoil.exe < input_file.in' timed out after 5 seconds\n",
      "Simulation failed due to error: Command 'xfoil.exe < input_file.in' timed out after 5 seconds\n",
      "Simulation failed due to error: Command 'xfoil.exe < input_file.in' timed out after 5 seconds\n",
      "Simulation failed due to error: Command 'xfoil.exe < input_file.in' timed out after 5 seconds\n",
      "Simulation failed due to error: Command 'xfoil.exe < input_file.in' timed out after 5 seconds\n",
      "Simulation failed due to error: Command 'xfoil.exe < input_file.in' timed out after 5 seconds\n",
      "Simulation failed due to error: Command 'xfoil.exe < input_file.in' timed out after 5 seconds\n",
      "Simulation failed due to error: Command 'xfoil.exe < input_file.in' timed out after 5 seconds\n",
      "Simulation failed due to error: Command 'xfoil.exe < input_file.in' timed out after 5 seconds\n",
      "Simulation failed due to error: Command 'xfoil.exe < input_file.in' timed out after 5 seconds\n",
      "Simulation failed due to error: Command 'xfoil.exe < input_file.in' timed out after 5 seconds\n",
      "Simulation failed due to error: Command 'xfoil.exe < input_file.in' timed out after 5 seconds\n",
      "Simulation failed due to error: Command 'xfoil.exe < input_file.in' timed out after 5 seconds\n",
      "Simulation failed due to error: Command 'xfoil.exe < input_file.in' timed out after 5 seconds\n",
      "Simulation failed due to error: Command 'xfoil.exe < input_file.in' timed out after 5 seconds\n",
      "Simulation failed due to error: Command 'xfoil.exe < input_file.in' timed out after 5 seconds\n",
      "Simulation failed due to error: Command 'xfoil.exe < input_file.in' timed out after 5 seconds\n",
      "Simulation failed due to error: Command 'xfoil.exe < input_file.in' timed out after 5 seconds\n",
      "Simulation failed due to error: Command 'xfoil.exe < input_file.in' timed out after 5 seconds\n",
      "Simulation failed due to error: Command 'xfoil.exe < input_file.in' timed out after 5 seconds\n",
      "Simulation failed due to error: Command 'xfoil.exe < input_file.in' timed out after 5 seconds\n",
      "Simulation failed due to error: Command 'xfoil.exe < input_file.in' timed out after 5 seconds\n"
     ]
    },
    {
     "name": "stderr",
     "output_type": "stream",
     "text": [
      "\r",
      "Episodes:  92%|█████████▏| 46/50 [2:07:13<13:40, 205.23s/it]"
     ]
    },
    {
     "name": "stdout",
     "output_type": "stream",
     "text": [
      "Simulation failed due to error: Command 'xfoil.exe < input_file.in' timed out after 5 seconds\n",
      "Episode 46/50, Total Reward: -51.9218582811334\n",
      "Simulation failed due to error: Command 'xfoil.exe < input_file.in' timed out after 5 seconds\n",
      "Simulation failed due to error: Command 'xfoil.exe < input_file.in' timed out after 5 seconds\n",
      "Simulation failed due to error: Command 'xfoil.exe < input_file.in' timed out after 5 seconds\n",
      "Simulation failed due to error: Command 'xfoil.exe < input_file.in' timed out after 5 seconds\n",
      "Simulation failed due to error: Command 'xfoil.exe < input_file.in' timed out after 5 seconds\n",
      "Simulation failed due to error: Command 'xfoil.exe < input_file.in' timed out after 5 seconds\n",
      "Simulation failed due to error: Command 'xfoil.exe < input_file.in' timed out after 5 seconds\n",
      "Simulation failed due to error: Command 'xfoil.exe < input_file.in' timed out after 5 seconds\n",
      "Simulation failed due to error: Command 'xfoil.exe < input_file.in' timed out after 5 seconds\n",
      "Simulation failed due to error: Command 'xfoil.exe < input_file.in' timed out after 5 seconds\n",
      "Simulation failed due to error: Command 'xfoil.exe < input_file.in' timed out after 5 seconds\n",
      "Simulation failed due to error: Command 'xfoil.exe < input_file.in' timed out after 5 seconds\n",
      "Simulation failed due to error: Command 'xfoil.exe < input_file.in' timed out after 5 seconds\n",
      "Simulation failed due to error: Command 'xfoil.exe < input_file.in' timed out after 5 seconds\n",
      "Simulation failed due to error: Command 'xfoil.exe < input_file.in' timed out after 5 seconds\n",
      "Simulation failed due to error: Command 'xfoil.exe < input_file.in' timed out after 5 seconds\n",
      "Simulation failed due to error: Command 'xfoil.exe < input_file.in' timed out after 5 seconds\n",
      "Simulation failed due to error: Command 'xfoil.exe < input_file.in' timed out after 5 seconds\n",
      "Simulation failed due to error: Command 'xfoil.exe < input_file.in' timed out after 5 seconds\n",
      "Simulation failed due to error: Command 'xfoil.exe < input_file.in' timed out after 5 seconds\n",
      "Simulation failed due to error: Command 'xfoil.exe < input_file.in' timed out after 5 seconds\n",
      "Simulation failed due to error: Command 'xfoil.exe < input_file.in' timed out after 5 seconds\n",
      "Simulation failed due to error: Command 'xfoil.exe < input_file.in' timed out after 5 seconds\n"
     ]
    },
    {
     "name": "stderr",
     "output_type": "stream",
     "text": [
      "\r",
      "Episodes:  94%|█████████▍| 47/50 [2:10:04<09:44, 194.97s/it]"
     ]
    },
    {
     "name": "stdout",
     "output_type": "stream",
     "text": [
      "Episode 47/50, Total Reward: 258.08493565109933\n",
      "Simulation failed due to error: Command 'xfoil.exe < input_file.in' timed out after 5 seconds\n",
      "Simulation failed due to error: Command 'xfoil.exe < input_file.in' timed out after 5 seconds\n",
      "Simulation failed due to error: Command 'xfoil.exe < input_file.in' timed out after 5 seconds\n",
      "Simulation failed due to error: Command 'xfoil.exe < input_file.in' timed out after 5 seconds\n",
      "Simulation failed due to error: Command 'xfoil.exe < input_file.in' timed out after 5 seconds\n",
      "Simulation failed due to error: Command 'xfoil.exe < input_file.in' timed out after 5 seconds\n",
      "Simulation failed due to error: Command 'xfoil.exe < input_file.in' timed out after 5 seconds\n",
      "Simulation failed due to error: Command 'xfoil.exe < input_file.in' timed out after 5 seconds\n",
      "Simulation failed due to error: Command 'xfoil.exe < input_file.in' timed out after 5 seconds\n",
      "Simulation failed due to error: Command 'xfoil.exe < input_file.in' timed out after 5 seconds\n",
      "Simulation failed due to error: Command 'xfoil.exe < input_file.in' timed out after 5 seconds\n",
      "Simulation failed due to error: Command 'xfoil.exe < input_file.in' timed out after 5 seconds\n",
      "Simulation failed due to error: Command 'xfoil.exe < input_file.in' timed out after 5 seconds\n",
      "Simulation failed due to error: Command 'xfoil.exe < input_file.in' timed out after 5 seconds\n",
      "Simulation failed due to error: Command 'xfoil.exe < input_file.in' timed out after 5 seconds\n",
      "Simulation failed due to error: Command 'xfoil.exe < input_file.in' timed out after 5 seconds\n",
      "Simulation failed due to error: Command 'xfoil.exe < input_file.in' timed out after 5 seconds\n",
      "Simulation failed due to error: Command 'xfoil.exe < input_file.in' timed out after 5 seconds\n",
      "Simulation failed due to error: Command 'xfoil.exe < input_file.in' timed out after 5 seconds\n",
      "Simulation failed due to error: Command 'xfoil.exe < input_file.in' timed out after 5 seconds\n",
      "Simulation failed due to error: Command 'xfoil.exe < input_file.in' timed out after 5 seconds\n",
      "Simulation failed due to error: Command 'xfoil.exe < input_file.in' timed out after 5 seconds\n",
      "Simulation failed due to error: Command 'xfoil.exe < input_file.in' timed out after 5 seconds\n",
      "Simulation failed due to error: Command 'xfoil.exe < input_file.in' timed out after 5 seconds\n",
      "Simulation failed due to error: Command 'xfoil.exe < input_file.in' timed out after 5 seconds\n",
      "Simulation failed due to error: Command 'xfoil.exe < input_file.in' timed out after 5 seconds\n",
      "Simulation failed due to error: Command 'xfoil.exe < input_file.in' timed out after 5 seconds\n",
      "Simulation failed due to error: Command 'xfoil.exe < input_file.in' timed out after 5 seconds\n",
      "Simulation failed due to error: Command 'xfoil.exe < input_file.in' timed out after 5 seconds\n",
      "Simulation failed due to error: Command 'xfoil.exe < input_file.in' timed out after 5 seconds\n",
      "Simulation failed due to error: Command 'xfoil.exe < input_file.in' timed out after 5 seconds\n",
      "Simulation failed due to error: Command 'xfoil.exe < input_file.in' timed out after 5 seconds\n",
      "Simulation failed due to error: Command 'xfoil.exe < input_file.in' timed out after 5 seconds\n",
      "Simulation failed due to error: Command 'xfoil.exe < input_file.in' timed out after 5 seconds\n",
      "Simulation failed due to error: Command 'xfoil.exe < input_file.in' timed out after 5 seconds\n",
      "Simulation failed due to error: Command 'xfoil.exe < input_file.in' timed out after 5 seconds\n",
      "Simulation failed due to error: Command 'xfoil.exe < input_file.in' timed out after 5 seconds\n",
      "Simulation failed due to error: Command 'xfoil.exe < input_file.in' timed out after 5 seconds\n",
      "Simulation failed due to error: Command 'xfoil.exe < input_file.in' timed out after 5 seconds\n",
      "Simulation failed due to error: Command 'xfoil.exe < input_file.in' timed out after 5 seconds\n",
      "Simulation failed due to error: Command 'xfoil.exe < input_file.in' timed out after 5 seconds\n",
      "Simulation failed due to error: Command 'xfoil.exe < input_file.in' timed out after 5 seconds\n",
      "Simulation failed due to error: Command 'xfoil.exe < input_file.in' timed out after 5 seconds\n"
     ]
    },
    {
     "name": "stderr",
     "output_type": "stream",
     "text": [
      "\r",
      "Episodes:  96%|█████████▌| 48/50 [2:14:04<06:56, 208.26s/it]"
     ]
    },
    {
     "name": "stdout",
     "output_type": "stream",
     "text": [
      "Simulation failed due to error: Command 'xfoil.exe < input_file.in' timed out after 5 seconds\n",
      "Episode 48/50, Total Reward: 3.5810309652096173\n",
      "Simulation failed due to error: Command 'xfoil.exe < input_file.in' timed out after 5 seconds\n",
      "Simulation failed due to error: Command 'xfoil.exe < input_file.in' timed out after 5 seconds\n",
      "Simulation failed due to error: Command 'xfoil.exe < input_file.in' timed out after 5 seconds\n",
      "Simulation failed due to error: Command 'xfoil.exe < input_file.in' timed out after 5 seconds\n",
      "Simulation failed due to error: Command 'xfoil.exe < input_file.in' timed out after 5 seconds\n",
      "Simulation failed due to error: Command 'xfoil.exe < input_file.in' timed out after 5 seconds\n",
      "Simulation failed due to error: Command 'xfoil.exe < input_file.in' timed out after 5 seconds\n",
      "Simulation failed due to error: Command 'xfoil.exe < input_file.in' timed out after 5 seconds\n",
      "Simulation failed due to error: Command 'xfoil.exe < input_file.in' timed out after 5 seconds\n",
      "Simulation failed due to error: Command 'xfoil.exe < input_file.in' timed out after 5 seconds\n",
      "Simulation failed due to error: Command 'xfoil.exe < input_file.in' timed out after 5 seconds\n",
      "Simulation failed due to error: Command 'xfoil.exe < input_file.in' timed out after 5 seconds\n",
      "Simulation failed due to error: Command 'xfoil.exe < input_file.in' timed out after 5 seconds\n",
      "Simulation failed due to error: Command 'xfoil.exe < input_file.in' timed out after 5 seconds\n",
      "Simulation failed due to error: Command 'xfoil.exe < input_file.in' timed out after 5 seconds\n",
      "Simulation failed due to error: Command 'xfoil.exe < input_file.in' timed out after 5 seconds\n",
      "Simulation failed due to error: Command 'xfoil.exe < input_file.in' timed out after 5 seconds\n",
      "Simulation failed due to error: Command 'xfoil.exe < input_file.in' timed out after 5 seconds\n",
      "Simulation failed due to error: Command 'xfoil.exe < input_file.in' timed out after 5 seconds\n",
      "Simulation failed due to error: Command 'xfoil.exe < input_file.in' timed out after 5 seconds\n",
      "Simulation failed due to error: Command 'xfoil.exe < input_file.in' timed out after 5 seconds\n",
      "Simulation failed due to error: Command 'xfoil.exe < input_file.in' timed out after 5 seconds\n",
      "Simulation failed due to error: Command 'xfoil.exe < input_file.in' timed out after 5 seconds\n",
      "Simulation failed due to error: Command 'xfoil.exe < input_file.in' timed out after 5 seconds\n",
      "Simulation failed due to error: Command 'xfoil.exe < input_file.in' timed out after 5 seconds\n",
      "Simulation failed due to error: Command 'xfoil.exe < input_file.in' timed out after 5 seconds\n",
      "Simulation failed due to error: Command 'xfoil.exe < input_file.in' timed out after 5 seconds\n",
      "Simulation failed due to error: Command 'xfoil.exe < input_file.in' timed out after 5 seconds\n",
      "Simulation failed due to error: Command 'xfoil.exe < input_file.in' timed out after 5 seconds\n",
      "Simulation failed due to error: Command 'xfoil.exe < input_file.in' timed out after 5 seconds\n",
      "Simulation failed due to error: Command 'xfoil.exe < input_file.in' timed out after 5 seconds\n",
      "Simulation failed due to error: Command 'xfoil.exe < input_file.in' timed out after 5 seconds\n",
      "Simulation failed due to error: Command 'xfoil.exe < input_file.in' timed out after 5 seconds\n",
      "Simulation failed due to error: Command 'xfoil.exe < input_file.in' timed out after 5 seconds\n",
      "Simulation failed due to error: Command 'xfoil.exe < input_file.in' timed out after 5 seconds\n",
      "Simulation failed due to error: Command 'xfoil.exe < input_file.in' timed out after 5 seconds\n",
      "Simulation failed due to error: Command 'xfoil.exe < input_file.in' timed out after 5 seconds\n",
      "Simulation failed due to error: Command 'xfoil.exe < input_file.in' timed out after 5 seconds\n",
      "Simulation failed due to error: Command 'xfoil.exe < input_file.in' timed out after 5 seconds\n",
      "Simulation failed due to error: Command 'xfoil.exe < input_file.in' timed out after 5 seconds\n",
      "Simulation failed due to error: Command 'xfoil.exe < input_file.in' timed out after 5 seconds\n",
      "Simulation failed due to error: Command 'xfoil.exe < input_file.in' timed out after 5 seconds\n"
     ]
    },
    {
     "name": "stderr",
     "output_type": "stream",
     "text": [
      "\r",
      "Episodes:  98%|█████████▊| 49/50 [2:17:56<03:35, 215.61s/it]"
     ]
    },
    {
     "name": "stdout",
     "output_type": "stream",
     "text": [
      "Episode 49/50, Total Reward: 27.809904703957994\n",
      "Simulation failed due to error: Command 'xfoil.exe < input_file.in' timed out after 5 seconds\n",
      "Simulation failed due to error: Command 'xfoil.exe < input_file.in' timed out after 5 seconds\n",
      "Simulation failed due to error: Command 'xfoil.exe < input_file.in' timed out after 5 seconds\n",
      "Simulation failed due to error: Command 'xfoil.exe < input_file.in' timed out after 5 seconds\n",
      "Simulation failed due to error: Command 'xfoil.exe < input_file.in' timed out after 5 seconds\n",
      "Simulation failed due to error: Command 'xfoil.exe < input_file.in' timed out after 5 seconds\n"
     ]
    },
    {
     "name": "stderr",
     "output_type": "stream",
     "text": [
      "C:\\Users\\Jake\\AppData\\Local\\Temp\\ipykernel_12620\\1124768439.py:98: UserWarning: loadtxt: input contained no data: \"polar_file.txt\"\n",
      "  polar_data = np.loadtxt(\"polar_file.txt\", skiprows=12)\n"
     ]
    },
    {
     "name": "stdout",
     "output_type": "stream",
     "text": [
      "Simulation failed due to error: too many indices for array: array is 1-dimensional, but 2 were indexed\n",
      "Simulation failed due to error: Command 'xfoil.exe < input_file.in' timed out after 5 seconds\n",
      "Simulation failed due to error: Command 'xfoil.exe < input_file.in' timed out after 5 seconds\n",
      "Simulation failed due to error: Command 'xfoil.exe < input_file.in' timed out after 5 seconds\n",
      "Simulation failed due to error: Command 'xfoil.exe < input_file.in' timed out after 5 seconds\n",
      "Simulation failed due to error: Command 'xfoil.exe < input_file.in' timed out after 5 seconds\n"
     ]
    },
    {
     "name": "stderr",
     "output_type": "stream",
     "text": [
      "Episodes: 100%|██████████| 50/50 [2:20:10<00:00, 168.22s/it]"
     ]
    },
    {
     "name": "stdout",
     "output_type": "stream",
     "text": [
      "Episode 50/50, Total Reward: 370.6884099793393\n"
     ]
    },
    {
     "name": "stderr",
     "output_type": "stream",
     "text": [
      "\n"
     ]
    },
    {
     "data": {
      "image/png": "[encoded data removed]",
      "text/plain": [
       "<Figure size 720x360 with 1 Axes>"
      ]
     },
     "metadata": {
      "needs_background": "light"
     },
     "output_type": "display_data"
    },
    {
     "name": "stdout",
     "output_type": "stream",
     "text": [
      "Simulation failed due to error: Command 'xfoil.exe < input_file.in' timed out after 5 seconds\n",
      "Simulation failed due to error: Command 'xfoil.exe < input_file.in' timed out after 5 seconds\n",
      "Simulation failed due to error: Command 'xfoil.exe < input_file.in' timed out after 5 seconds\n",
      "Simulation failed due to error: Command 'xfoil.exe < input_file.in' timed out after 5 seconds\n"
     ]
    },
    {
     "data": {
      "image/png": "[encoded data removed]",
      "text/plain": [
       "<Figure size 720x360 with 1 Axes>"
      ]
     },
     "metadata": {
      "needs_background": "light"
     },
     "output_type": "display_data"
    },
    {
     "name": "stdout",
     "output_type": "stream",
     "text": [
      "Lift Coefficient: 0.0000, Drag Coefficient: 0.0000, Cl/Cd: 1.0000\n"
     ]
    },
    {
     "data": {
      "image/png": "[encoded data removed]",
      "text/plain": [
       "<Figure size 720x360 with 1 Axes>"
      ]
     },
     "metadata": {
      "needs_background": "light"
     },
     "output_type": "display_data"
    },
    {
     "name": "stdout",
     "output_type": "stream",
     "text": [
      "Lift Coefficient: 1.2199, Drag Coefficient: 0.0927, Cl/Cd: 13.1530\n",
      "Simulation failed due to error: Command 'xfoil.exe < input_file.in' timed out after 5 seconds\n",
      "Simulation failed due to error: Command 'xfoil.exe < input_file.in' timed out after 5 seconds\n",
      "Simulation failed due to error: Command 'xfoil.exe < input_file.in' timed out after 5 seconds\n",
      "Simulation failed due to error: Command 'xfoil.exe < input_file.in' timed out after 5 seconds\n"
     ]
    },
    {
     "data": {
      "image/png": "[encoded data removed]",
      "text/plain": [
       "<Figure size 720x360 with 1 Axes>"
      ]
     },
     "metadata": {
      "needs_background": "light"
     },
     "output_type": "display_data"
    },
    {
     "name": "stdout",
     "output_type": "stream",
     "text": [
      "Lift Coefficient: 1.1930, Drag Coefficient: 0.1235, Cl/Cd: 9.6583\n",
      "Simulation failed due to error: Command 'xfoil.exe < input_file.in' timed out after 5 seconds\n",
      "Simulation failed due to error: Command 'xfoil.exe < input_file.in' timed out after 5 seconds\n"
     ]
    },
    {
     "data": {
      "image/png": "[encoded data removed]",
      "text/plain": [
       "<Figure size 720x360 with 1 Axes>"
      ]
     },
     "metadata": {
      "needs_background": "light"
     },
     "output_type": "display_data"
    },
    {
     "name": "stdout",
     "output_type": "stream",
     "text": [
      "Lift Coefficient: 1.2114, Drag Coefficient: 0.1228, Cl/Cd: 9.8624\n",
      "Simulation failed due to error: Command 'xfoil.exe < input_file.in' timed out after 5 seconds\n"
     ]
    },
    {
     "data": {
      "image/png": "[encoded data removed]",
      "text/plain": [
       "<Figure size 720x360 with 1 Axes>"
      ]
     },
     "metadata": {
      "needs_background": "light"
     },
     "output_type": "display_data"
    },
    {
     "name": "stdout",
     "output_type": "stream",
     "text": [
      "Lift Coefficient: 0.0000, Drag Coefficient: 0.0000, Cl/Cd: 1.0000\n",
      "Simulation failed due to error: Command 'xfoil.exe < input_file.in' timed out after 5 seconds\n",
      "Simulation failed due to error: Command 'xfoil.exe < input_file.in' timed out after 5 seconds\n",
      "Simulation failed due to error: Command 'xfoil.exe < input_file.in' timed out after 5 seconds\n",
      "Simulation failed due to error: Command 'xfoil.exe < input_file.in' timed out after 5 seconds\n",
      "Simulation failed due to error: Command 'xfoil.exe < input_file.in' timed out after 5 seconds\n",
      "Simulation failed due to error: Command 'xfoil.exe < input_file.in' timed out after 5 seconds\n",
      "Simulation failed due to error: Command 'xfoil.exe < input_file.in' timed out after 5 seconds\n",
      "Simulation failed due to error: Command 'xfoil.exe < input_file.in' timed out after 5 seconds\n",
      "Simulation failed due to error: Command 'xfoil.exe < input_file.in' timed out after 5 seconds\n"
     ]
    },
    {
     "data": {
      "image/png": "[encoded data removed]",
      "text/plain": [
       "<Figure size 720x360 with 1 Axes>"
      ]
     },
     "metadata": {
      "needs_background": "light"
     },
     "output_type": "display_data"
    },
    {
     "name": "stdout",
     "output_type": "stream",
     "text": [
      "Lift Coefficient: 1.2888, Drag Coefficient: 0.1157, Cl/Cd: 11.1429\n",
      "Simulation failed due to error: Command 'xfoil.exe < input_file.in' timed out after 5 seconds\n",
      "Simulation failed due to error: Command 'xfoil.exe < input_file.in' timed out after 5 seconds\n"
     ]
    },
    {
     "data": {
      "image/png": "[encoded data removed]",
      "text/plain": [
       "<Figure size 720x360 with 1 Axes>"
      ]
     },
     "metadata": {
      "needs_background": "light"
     },
     "output_type": "display_data"
    },
    {
     "name": "stdout",
     "output_type": "stream",
     "text": [
      "Lift Coefficient: 0.9124, Drag Coefficient: 0.1505, Cl/Cd: 6.0642\n",
      "Simulation failed due to error: Command 'xfoil.exe < input_file.in' timed out after 5 seconds\n",
      "Simulation failed due to error: Command 'xfoil.exe < input_file.in' timed out after 5 seconds\n",
      "Simulation failed due to error: Command 'xfoil.exe < input_file.in' timed out after 5 seconds\n",
      "Simulation failed due to error: Command 'xfoil.exe < input_file.in' timed out after 5 seconds\n",
      "Simulation failed due to error: Command 'xfoil.exe < input_file.in' timed out after 5 seconds\n",
      "Simulation failed due to error: Command 'xfoil.exe < input_file.in' timed out after 5 seconds\n",
      "Simulation failed due to error: Command 'xfoil.exe < input_file.in' timed out after 5 seconds\n"
     ]
    },
    {
     "data": {
      "image/png": "[encoded data removed]",
      "text/plain": [
       "<Figure size 720x360 with 1 Axes>"
      ]
     },
     "metadata": {
      "needs_background": "light"
     },
     "output_type": "display_data"
    },
    {
     "name": "stdout",
     "output_type": "stream",
     "text": [
      "Lift Coefficient: 1.3252, Drag Coefficient: 0.0801, Cl/Cd: 16.5502\n",
      "Simulation failed due to error: Command 'xfoil.exe < input_file.in' timed out after 5 seconds\n",
      "Simulation failed due to error: Command 'xfoil.exe < input_file.in' timed out after 5 seconds\n",
      "Simulation failed due to error: Command 'xfoil.exe < input_file.in' timed out after 5 seconds\n",
      "Simulation failed due to error: Command 'xfoil.exe < input_file.in' timed out after 5 seconds\n",
      "Simulation failed due to error: Command 'xfoil.exe < input_file.in' timed out after 5 seconds\n",
      "Simulation failed due to error: Command 'xfoil.exe < input_file.in' timed out after 5 seconds\n",
      "Simulation failed due to error: Command 'xfoil.exe < input_file.in' timed out after 5 seconds\n"
     ]
    },
    {
     "data": {
      "image/png": "[encoded data removed]",
      "text/plain": [
       "<Figure size 720x360 with 1 Axes>"
      ]
     },
     "metadata": {
      "needs_background": "light"
     },
     "output_type": "display_data"
    },
    {
     "name": "stdout",
     "output_type": "stream",
     "text": [
      "Lift Coefficient: 1.2550, Drag Coefficient: 0.1103, Cl/Cd: 11.3808\n",
      "Simulation failed due to error: Command 'xfoil.exe < input_file.in' timed out after 5 seconds\n",
      "Simulation failed due to error: Command 'xfoil.exe < input_file.in' timed out after 5 seconds\n",
      "Simulation failed due to error: Command 'xfoil.exe < input_file.in' timed out after 5 seconds\n",
      "Simulation failed due to error: Command 'xfoil.exe < input_file.in' timed out after 5 seconds\n",
      "Simulation failed due to error: Command 'xfoil.exe < input_file.in' timed out after 5 seconds\n",
      "Simulation failed due to error: Command 'xfoil.exe < input_file.in' timed out after 5 seconds\n",
      "Simulation failed due to error: Command 'xfoil.exe < input_file.in' timed out after 5 seconds\n",
      "Simulation failed due to error: Command 'xfoil.exe < input_file.in' timed out after 5 seconds\n",
      "Simulation failed due to error: Command 'xfoil.exe < input_file.in' timed out after 5 seconds\n",
      "Simulation failed due to error: Command 'xfoil.exe < input_file.in' timed out after 5 seconds\n"
     ]
    },
    {
     "ename": "KeyboardInterrupt",
     "evalue": "",
     "output_type": "error",
     "traceback": [
      "\u001b[1;31m---------------------------------------------------------------------------\u001b[0m",
      "\u001b[1;31mKeyboardInterrupt\u001b[0m                         Traceback (most recent call last)",
      "\u001b[1;32m~\\AppData\\Local\\Temp\\ipykernel_12620\\1124768439.py\u001b[0m in \u001b[0;36m<module>\u001b[1;34m\u001b[0m\n\u001b[0;32m    273\u001b[0m \u001b[1;33m\u001b[0m\u001b[0m\n\u001b[0;32m    274\u001b[0m \u001b[1;31m# Visualizing airfoil changes\u001b[0m\u001b[1;33m\u001b[0m\u001b[1;33m\u001b[0m\u001b[0m\n\u001b[1;32m--> 275\u001b[1;33m \u001b[0mplot_airfoil_changes\u001b[0m\u001b[1;33m(\u001b[0m\u001b[0menv\u001b[0m\u001b[1;33m,\u001b[0m \u001b[0mepisode_intervals\u001b[0m\u001b[1;33m=\u001b[0m\u001b[1;33m[\u001b[0m\u001b[1;36m5\u001b[0m\u001b[1;33m,\u001b[0m \u001b[1;36m10\u001b[0m\u001b[1;33m,\u001b[0m \u001b[1;36m15\u001b[0m\u001b[1;33m,\u001b[0m \u001b[1;36m20\u001b[0m\u001b[1;33m,\u001b[0m \u001b[1;36m25\u001b[0m\u001b[1;33m,\u001b[0m \u001b[1;36m30\u001b[0m\u001b[1;33m,\u001b[0m \u001b[1;36m35\u001b[0m\u001b[1;33m,\u001b[0m \u001b[1;36m40\u001b[0m\u001b[1;33m,\u001b[0m\u001b[1;36m41\u001b[0m\u001b[1;33m,\u001b[0m\u001b[1;36m42\u001b[0m\u001b[1;33m,\u001b[0m\u001b[1;36m43\u001b[0m\u001b[1;33m,\u001b[0m\u001b[1;36m44\u001b[0m\u001b[1;33m,\u001b[0m \u001b[1;36m45\u001b[0m\u001b[1;33m,\u001b[0m\u001b[1;36m46\u001b[0m\u001b[1;33m,\u001b[0m\u001b[1;36m47\u001b[0m\u001b[1;33m,\u001b[0m\u001b[1;36m48\u001b[0m\u001b[1;33m,\u001b[0m\u001b[1;36m49\u001b[0m\u001b[1;33m,\u001b[0m \u001b[1;36m50\u001b[0m\u001b[1;33m]\u001b[0m\u001b[1;33m)\u001b[0m\u001b[1;33m\u001b[0m\u001b[1;33m\u001b[0m\u001b[0m\n\u001b[0m",
      "\u001b[1;32m~\\AppData\\Local\\Temp\\ipykernel_12620\\1124768439.py\u001b[0m in \u001b[0;36mplot_airfoil_changes\u001b[1;34m(env, episode_intervals)\u001b[0m\n\u001b[0;32m    236\u001b[0m         \u001b[1;32mfor\u001b[0m \u001b[0m_\u001b[0m \u001b[1;32min\u001b[0m \u001b[0mrange\u001b[0m\u001b[1;33m(\u001b[0m\u001b[0mepisode\u001b[0m\u001b[1;33m)\u001b[0m\u001b[1;33m:\u001b[0m\u001b[1;33m\u001b[0m\u001b[1;33m\u001b[0m\u001b[0m\n\u001b[0;32m    237\u001b[0m             \u001b[0maction\u001b[0m \u001b[1;33m=\u001b[0m \u001b[0menv\u001b[0m\u001b[1;33m.\u001b[0m\u001b[0maction_space\u001b[0m\u001b[1;33m.\u001b[0m\u001b[0msample\u001b[0m\u001b[1;33m(\u001b[0m\u001b[1;33m)\u001b[0m\u001b[1;33m\u001b[0m\u001b[1;33m\u001b[0m\u001b[0m\n\u001b[1;32m--> 238\u001b[1;33m             \u001b[0mstate\u001b[0m\u001b[1;33m,\u001b[0m \u001b[0mreward\u001b[0m\u001b[1;33m,\u001b[0m \u001b[0mdone\u001b[0m\u001b[1;33m,\u001b[0m \u001b[0m_\u001b[0m \u001b[1;33m=\u001b[0m \u001b[0menv\u001b[0m\u001b[1;33m.\u001b[0m\u001b[0mstep\u001b[0m\u001b[1;33m(\u001b[0m\u001b[0maction\u001b[0m\u001b[1;33m)\u001b[0m\u001b[1;33m\u001b[0m\u001b[1;33m\u001b[0m\u001b[0m\n\u001b[0m\u001b[0;32m    239\u001b[0m             \u001b[1;32mif\u001b[0m \u001b[0mreward\u001b[0m \u001b[1;33m>\u001b[0m \u001b[0mbest_reward\u001b[0m\u001b[1;33m:\u001b[0m\u001b[1;33m\u001b[0m\u001b[1;33m\u001b[0m\u001b[0m\n\u001b[0;32m    240\u001b[0m                 \u001b[0mbest_reward\u001b[0m \u001b[1;33m=\u001b[0m \u001b[0mreward\u001b[0m\u001b[1;33m\u001b[0m\u001b[1;33m\u001b[0m\u001b[0m\n",
      "\u001b[1;32m~\\AppData\\Local\\Temp\\ipykernel_12620\\1124768439.py\u001b[0m in \u001b[0;36mstep\u001b[1;34m(self, action)\u001b[0m\n\u001b[0;32m     37\u001b[0m         \u001b[0mself\u001b[0m\u001b[1;33m.\u001b[0m\u001b[0msave_airfoil_shape\u001b[0m\u001b[1;33m(\u001b[0m\u001b[0mairfoil_shape\u001b[0m\u001b[1;33m)\u001b[0m\u001b[1;33m\u001b[0m\u001b[1;33m\u001b[0m\u001b[0m\n\u001b[0;32m     38\u001b[0m         \u001b[1;31m# Run XFOIL simulation to get the reward\u001b[0m\u001b[1;33m\u001b[0m\u001b[1;33m\u001b[0m\u001b[0m\n\u001b[1;32m---> 39\u001b[1;33m         \u001b[0mreward\u001b[0m\u001b[1;33m,\u001b[0m \u001b[0mdone\u001b[0m \u001b[1;33m=\u001b[0m \u001b[0mself\u001b[0m\u001b[1;33m.\u001b[0m\u001b[0msimulate_airfoil_performance\u001b[0m\u001b[1;33m(\u001b[0m\u001b[1;33m)\u001b[0m\u001b[1;33m\u001b[0m\u001b[1;33m\u001b[0m\u001b[0m\n\u001b[0m\u001b[0;32m     40\u001b[0m \u001b[1;33m\u001b[0m\u001b[0m\n\u001b[0;32m     41\u001b[0m         \u001b[1;31m# Check if the current airfoil is the best one\u001b[0m\u001b[1;33m\u001b[0m\u001b[1;33m\u001b[0m\u001b[0m\n",
      "\u001b[1;32m~\\AppData\\Local\\Temp\\ipykernel_12620\\1124768439.py\u001b[0m in \u001b[0;36msimulate_airfoil_performance\u001b[1;34m(self)\u001b[0m\n\u001b[0;32m     91\u001b[0m         \u001b[1;32mtry\u001b[0m\u001b[1;33m:\u001b[0m\u001b[1;33m\u001b[0m\u001b[1;33m\u001b[0m\u001b[0m\n\u001b[0;32m     92\u001b[0m             \u001b[0mprocess\u001b[0m \u001b[1;33m=\u001b[0m \u001b[0msubprocess\u001b[0m\u001b[1;33m.\u001b[0m\u001b[0mPopen\u001b[0m\u001b[1;33m(\u001b[0m\u001b[1;34m\"xfoil.exe < input_file.in\"\u001b[0m\u001b[1;33m,\u001b[0m \u001b[0mshell\u001b[0m\u001b[1;33m=\u001b[0m\u001b[1;32mTrue\u001b[0m\u001b[1;33m)\u001b[0m\u001b[1;33m\u001b[0m\u001b[1;33m\u001b[0m\u001b[0m\n\u001b[1;32m---> 93\u001b[1;33m             \u001b[0mprocess\u001b[0m\u001b[1;33m.\u001b[0m\u001b[0mwait\u001b[0m\u001b[1;33m(\u001b[0m\u001b[0mtimeout\u001b[0m\u001b[1;33m=\u001b[0m\u001b[1;36m5\u001b[0m\u001b[1;33m)\u001b[0m  \u001b[1;31m# Wait for XFOIL to finish, with a timeout\u001b[0m\u001b[1;33m\u001b[0m\u001b[1;33m\u001b[0m\u001b[0m\n\u001b[0m\u001b[0;32m     94\u001b[0m \u001b[1;33m\u001b[0m\u001b[0m\n\u001b[0;32m     95\u001b[0m             \u001b[1;32mif\u001b[0m \u001b[0mprocess\u001b[0m\u001b[1;33m.\u001b[0m\u001b[0mreturncode\u001b[0m \u001b[1;33m!=\u001b[0m \u001b[1;36m0\u001b[0m\u001b[1;33m:\u001b[0m\u001b[1;33m\u001b[0m\u001b[1;33m\u001b[0m\u001b[0m\n",
      "\u001b[1;32m~\\anaconda3\\lib\\subprocess.py\u001b[0m in \u001b[0;36mwait\u001b[1;34m(self, timeout)\u001b[0m\n\u001b[0;32m   1187\u001b[0m             \u001b[0mendtime\u001b[0m \u001b[1;33m=\u001b[0m \u001b[0m_time\u001b[0m\u001b[1;33m(\u001b[0m\u001b[1;33m)\u001b[0m \u001b[1;33m+\u001b[0m \u001b[0mtimeout\u001b[0m\u001b[1;33m\u001b[0m\u001b[1;33m\u001b[0m\u001b[0m\n\u001b[0;32m   1188\u001b[0m         \u001b[1;32mtry\u001b[0m\u001b[1;33m:\u001b[0m\u001b[1;33m\u001b[0m\u001b[1;33m\u001b[0m\u001b[0m\n\u001b[1;32m-> 1189\u001b[1;33m             \u001b[1;32mreturn\u001b[0m \u001b[0mself\u001b[0m\u001b[1;33m.\u001b[0m\u001b[0m_wait\u001b[0m\u001b[1;33m(\u001b[0m\u001b[0mtimeout\u001b[0m\u001b[1;33m=\u001b[0m\u001b[0mtimeout\u001b[0m\u001b[1;33m)\u001b[0m\u001b[1;33m\u001b[0m\u001b[1;33m\u001b[0m\u001b[0m\n\u001b[0m\u001b[0;32m   1190\u001b[0m         \u001b[1;32mexcept\u001b[0m \u001b[0mKeyboardInterrupt\u001b[0m\u001b[1;33m:\u001b[0m\u001b[1;33m\u001b[0m\u001b[1;33m\u001b[0m\u001b[0m\n\u001b[0;32m   1191\u001b[0m             \u001b[1;31m# https://bugs.python.org/issue25942\u001b[0m\u001b[1;33m\u001b[0m\u001b[1;33m\u001b[0m\u001b[0m\n",
      "\u001b[1;32m~\\anaconda3\\lib\\subprocess.py\u001b[0m in \u001b[0;36m_wait\u001b[1;34m(self, timeout)\u001b[0m\n\u001b[0;32m   1484\u001b[0m             \u001b[1;32mif\u001b[0m \u001b[0mself\u001b[0m\u001b[1;33m.\u001b[0m\u001b[0mreturncode\u001b[0m \u001b[1;32mis\u001b[0m \u001b[1;32mNone\u001b[0m\u001b[1;33m:\u001b[0m\u001b[1;33m\u001b[0m\u001b[1;33m\u001b[0m\u001b[0m\n\u001b[0;32m   1485\u001b[0m                 \u001b[1;31m# API note: Returns immediately if timeout_millis == 0.\u001b[0m\u001b[1;33m\u001b[0m\u001b[1;33m\u001b[0m\u001b[0m\n\u001b[1;32m-> 1486\u001b[1;33m                 result = _winapi.WaitForSingleObject(self._handle,\n\u001b[0m\u001b[0;32m   1487\u001b[0m                                                      timeout_millis)\n\u001b[0;32m   1488\u001b[0m                 \u001b[1;32mif\u001b[0m \u001b[0mresult\u001b[0m \u001b[1;33m==\u001b[0m \u001b[0m_winapi\u001b[0m\u001b[1;33m.\u001b[0m\u001b[0mWAIT_TIMEOUT\u001b[0m\u001b[1;33m:\u001b[0m\u001b[1;33m\u001b[0m\u001b[1;33m\u001b[0m\u001b[0m\n",
      "\u001b[1;31mKeyboardInterrupt\u001b[0m: "
     ]
    }
   ],
   "source": [
    "import gym\n",
    "from gym import spaces\n",
    "import numpy as np\n",
    "import os\n",
    "import subprocess\n",
    "from scipy.interpolate import splprep, splev\n",
    "import matplotlib.pyplot as plt\n",
    "import random\n",
    "from tqdm import tqdm  # Import the tqdm library for the progress bar\n",
    "\n",
    "class AirfoilOptimizationEnv(gym.Env):\n",
    "    def __init__(self):\n",
    "        super(AirfoilOptimizationEnv, self).__init__()\n",
    "        self.current_state = self.generate_initial_airfoil()\n",
    "        self.num_control_points = self.current_state.shape[0]\n",
    "\n",
    "        # Define action space and observation space to match the number of control points.\n",
    "        self.action_space = spaces.Box(low=-0.01, high=0.01, shape=(self.num_control_points, 2), dtype=np.float32)\n",
    "        self.observation_space = spaces.Box(low=0, high=1, shape=(self.num_control_points, 2), dtype=np.float32)\n",
    "        \n",
    "        self.airfoil_name = \"NACA0012\"\n",
    "        self.lift_coeff = 1e-5  # Initialize to a small positive value to avoid dividing by zero\n",
    "        self.drag_coeff = 1e-5  # Initialize to a small positive value to avoid dividing by zero\n",
    "        self.prev_cl_cd = 0\n",
    "\n",
    "        self.best_reward = -np.inf  # Track the best reward\n",
    "        self.best_airfoil_shape = None  # Track the best airfoil shape\n",
    "\n",
    "    def step(self, action):\n",
    "        # Clip the action to ensure small changes\n",
    "        action = np.clip(action, -0.001, 0.001)\n",
    "        # Apply the action to modify the control points\n",
    "        self.current_state += action\n",
    "        # Generate new airfoil shape using B-spline interpolation\n",
    "        airfoil_shape = self.interpolate_airfoil(self.current_state)\n",
    "        # Save the interpolated airfoil shape to a .dat file for XFOIL\n",
    "        self.save_airfoil_shape(airfoil_shape)\n",
    "        # Run XFOIL simulation to get the reward\n",
    "        reward, done = self.simulate_airfoil_performance()\n",
    "        \n",
    "        # Check if the current airfoil is the best one\n",
    "        if reward > self.best_reward:\n",
    "            self.best_reward = reward\n",
    "            self.best_airfoil_shape = airfoil_shape\n",
    "\n",
    "        return self.discretize_state(self.current_state), reward, done, {}\n",
    "\n",
    "    def reset(self):\n",
    "        # Reset the airfoil to the initial state\n",
    "        self.current_state = self.generate_initial_airfoil()\n",
    "        self.prev_cl_cd = 0  # Reset the previous Cl/Cd ratio\n",
    "        self.best_reward = -np.inf  # Reset the best reward\n",
    "        self.best_airfoil_shape = None  # Reset the best airfoil shape\n",
    "        return self.discretize_state(self.current_state)\n",
    "\n",
    "    def render(self, mode='console'):\n",
    "        if mode == 'console':\n",
    "            print(f'Current control points: {self.current_state}')\n",
    "        elif mode == 'human':\n",
    "            airfoil_shape = self.interpolate_airfoil(self.current_state)\n",
    "            self.plot_airfoil(airfoil_shape)\n",
    "\n",
    "    def simulate_airfoil_performance(self):\n",
    "        alpha_i = 0\n",
    "        alpha_f = 25\n",
    "        alpha_step = 1\n",
    "        Re = 1000000\n",
    "        n_iter = 100  # Increased number of iterations for better convergence\n",
    "        relaxation_factor = 0.1  # Adjusted relaxation factor\n",
    "\n",
    "        reward = -1  # Default negative reward\n",
    "        done = False  # Default not done\n",
    "\n",
    "        if os.path.exists(\"polar_file.txt\"):\n",
    "            os.remove(\"polar_file.txt\")\n",
    "\n",
    "        with open(\"input_file.in\", 'w') as input_file:\n",
    "            input_file.write(f\"LOAD {self.airfoil_name}.dat\\n\")\n",
    "            input_file.write(f\"{self.airfoil_name}\\n\")\n",
    "            input_file.write(\"PANE\\n\")\n",
    "            input_file.write(\"OPER\\n\")\n",
    "            input_file.write(f\"Visc {Re}\\n\")\n",
    "            input_file.write(\"PACC\\n\")\n",
    "            input_file.write(\"polar_file.txt\\n\\n\")\n",
    "            input_file.write(f\"ITER {n_iter}\\n\")\n",
    "            input_file.write(f\"RELF {relaxation_factor}\\n\")\n",
    "            input_file.write(f\"ASeq {alpha_i} {alpha_f} {alpha_step}\\n\")\n",
    "            input_file.write(\"\\n\\n\")\n",
    "            input_file.write(\"quit\\n\")\n",
    "\n",
    "        try:\n",
    "            process = subprocess.Popen(\"xfoil.exe < input_file.in\", shell=True)\n",
    "            process.wait(timeout=5)  # Wait for XFOIL to finish, with a timeout\n",
    "\n",
    "            if process.returncode != 0:\n",
    "                raise subprocess.TimeoutExpired(\"xfoil.exe\", timeout=5)\n",
    "\n",
    "            polar_data = np.loadtxt(\"polar_file.txt\", skiprows=12)\n",
    "            valid_indices = np.where((polar_data[:, 0] >= 15) & (polar_data[:, 0] <= 25))[0]\n",
    "            if len(valid_indices) > 0:\n",
    "                valid_data = polar_data[valid_indices]\n",
    "                avg_lift = np.mean(valid_data[:, 1])\n",
    "                avg_drag = np.mean(valid_data[:, 2])\n",
    "                self.lift_coeff = avg_lift\n",
    "                self.drag_coeff = avg_drag\n",
    "\n",
    "                cl_cd = avg_lift / avg_drag\n",
    "                reward = cl_cd  # Use absolute Cl/Cd as the reward\n",
    "                self.prev_cl_cd = cl_cd\n",
    "                done = False\n",
    "            else:\n",
    "                reward = -1  # Penalize if no valid data\n",
    "                print(\"Invalid data range in simulation.\")\n",
    "        except (subprocess.TimeoutExpired, Exception) as e:\n",
    "            print(f\"Simulation failed due to error: {e}\")\n",
    "            subprocess.call(\"taskkill /f /im xfoil.exe\", shell=True)  # Force kill XFOIL\n",
    "            process.wait()  # Ensure the process has terminated\n",
    "\n",
    "            self.current_state = self.generate_initial_airfoil()  # Generate a new airfoil shape\n",
    "            self.lift_coeff = 1e-5  # Reset to avoid zero division\n",
    "            self.drag_coeff = 1e-5  # Reset to avoid zero division\n",
    "            #reward = -10  # Penalize for failure\n",
    "        \n",
    "        # Penalize for non-smooth shapes (optional)\n",
    "        airfoil_shape = self.interpolate_airfoil(self.current_state)\n",
    "        reward -= 0.1 * np.sum(np.abs(np.diff(airfoil_shape, axis=0)))\n",
    "\n",
    "        return reward, done\n",
    "\n",
    "    def generate_initial_airfoil(self):\n",
    "        file_path = r'C:\\Users\\Jake\\ME-599-L-Group-Project\\xfoil-runner\\xfoil_runner\\NACA0012.dat'\n",
    "        if os.path.exists(file_path):\n",
    "            data = np.loadtxt(file_path)\n",
    "            data[:, 0] = (data[:, 0] - np.min(data[:, 0])) / (np.max(data[:, 0]) - np.min(data[:, 0]))\n",
    "            return data\n",
    "        else:\n",
    "            raise FileNotFoundError(\"The specified .dat file does not exist.\")\n",
    "    \n",
    "    def interpolate_airfoil(self, control_points):\n",
    "        # Ensure no two points are the same by adding a small perturbation if necessary\n",
    "        for i in range(len(control_points) - 1):\n",
    "            if np.allclose(control_points[i], control_points[i + 1]):\n",
    "                control_points[i + 1] += np.random.uniform(low=1e-5, high=1e-4, size=control_points[i + 1].shape)\n",
    "\n",
    "        tck, u = splprep([control_points[:, 0], control_points[:, 1]], s=1e-2)  # Adjusted smoothing parameter\n",
    "        unew = np.linspace(0, 1, 100)\n",
    "        out = splev(unew, tck)\n",
    "        interpolated_points = np.column_stack(out)\n",
    "\n",
    "        # Ensure the connection points of the top and bottom surfaces are not too distant\n",
    "        if np.linalg.norm(interpolated_points[0] - interpolated_points[-1]) > 1e-2:\n",
    "            mid_point = (interpolated_points[0] + interpolated_points[-1]) / 2\n",
    "            interpolated_points[0] = mid_point\n",
    "            interpolated_points[-1] = mid_point\n",
    "\n",
    "        return interpolated_points\n",
    "\n",
    "    def save_airfoil_shape(self, coordinates):\n",
    "        np.savetxt(f\"{self.airfoil_name}.dat\", coordinates, fmt=\"%.6f\")\n",
    "\n",
    "    def plot_airfoil(self, coordinates):\n",
    "        x, y = coordinates[:, 0], coordinates[:, 1]\n",
    "        plt.figure(figsize=(10, 5))\n",
    "        plt.plot(x, y, 'o-')\n",
    "        plt.title('Airfoil Shape')\n",
    "        plt.xlabel('Chord Position')\n",
    "        plt.ylabel('Vertical Position')\n",
    "        plt.axis('equal')\n",
    "        plt.grid(True)\n",
    "        plt.show()\n",
    "        cl_cd = self.lift_coeff / self.drag_coeff\n",
    "        print(f\"Lift Coefficient: {self.lift_coeff:.4f}, Drag Coefficient: {self.drag_coeff:.4f}, Cl/Cd: {cl_cd:.4f}\")\n",
    "\n",
    "    def discretize_state(self, state, bins=10):\n",
    "        # Flatten the state array\n",
    "        state_flat = state.flatten()\n",
    "        # Convert the state to a tuple of integers\n",
    "        discrete_state = tuple(np.digitize(state_flat, np.linspace(0, 1, bins)))\n",
    "        return discrete_state\n",
    "\n",
    "\n",
    "class QLearningAgent:\n",
    "    def __init__(self, action_space, state_space, learning_rate=0.1, discount_factor=0.99, exploration_rate=1.0, exploration_decay=0.995):\n",
    "        self.action_space = action_space\n",
    "        self.state_space = state_space\n",
    "        self.q_table = {}\n",
    "        self.learning_rate = learning_rate\n",
    "        self.discount_factor = discount_factor\n",
    "        self.exploration_rate = exploration_rate\n",
    "        self.exploration_decay = exploration_decay\n",
    "\n",
    "    def get_q_value(self, state, action):\n",
    "        state_action_pair = (state, tuple(action.flatten()))\n",
    "        return self.q_table.get(state_action_pair, 0.0)\n",
    "\n",
    "    def set_q_value(self, state, action, value):\n",
    "        state_action_pair = (state, tuple(action.flatten()))\n",
    "        self.q_table[state_action_pair] = value\n",
    "\n",
    "    def choose_action(self, state):\n",
    "        if random.uniform(0, 1) < self.exploration_rate:\n",
    "            return self.action_space.sample()\n",
    "        else:\n",
    "            q_values = [self.get_q_value(state, action) for action in self.get_possible_actions()]\n",
    "            max_q_value = max(q_values)\n",
    "            max_q_actions = [action for action, q_value in zip(self.get_possible_actions(), q_values) if q_value == max_q_value]\n",
    "            return random.choice(max_q_actions)\n",
    "\n",
    "    def get_possible_actions(self):\n",
    "        return [np.clip(np.random.uniform(-0.001, 0.001, self.action_space.shape), -0.001, 0.001) for _ in range(10)]\n",
    "\n",
    "    def learn(self, state, action, reward, next_state):\n",
    "        current_q = self.get_q_value(state, action)\n",
    "        max_next_q = max([self.get_q_value(next_state, next_action) for next_action in self.get_possible_actions()])\n",
    "        new_q = current_q + self.learning_rate * (reward + self.discount_factor * max_next_q - current_q)\n",
    "        self.set_q_value(state, action, new_q)\n",
    "        self.exploration_rate *= self.exploration_decay\n",
    "\n",
    "# Visualization functions\n",
    "def plot_rewards(rewards):\n",
    "    plt.figure(figsize=(10, 5))\n",
    "    plt.plot(rewards, label='Reward')\n",
    "    plt.xlabel('Episode')\n",
    "    plt.ylabel('Total Reward')\n",
    "    plt.title('Rewards Over Time')\n",
    "    plt.legend()\n",
    "    plt.grid(True)\n",
    "    plt.show()\n",
    "\n",
    "def plot_airfoil_changes(env, episode_intervals):\n",
    "    for episode in episode_intervals:\n",
    "        env.reset()\n",
    "        best_reward = -np.inf\n",
    "        best_airfoil_shape = None\n",
    "        \n",
    "        for _ in range(episode):\n",
    "            action = env.action_space.sample()\n",
    "            state, reward, done, _ = env.step(action)\n",
    "            if reward > best_reward:\n",
    "                best_reward = reward\n",
    "                best_airfoil_shape = env.interpolate_airfoil(env.current_state)\n",
    "        \n",
    "        if best_airfoil_shape is not None:\n",
    "            env.plot_airfoil(best_airfoil_shape)\n",
    "        else:\n",
    "            print(f\"No valid airfoil shape found for episode {episode}\")\n",
    "\n",
    "\n",
    "env = AirfoilOptimizationEnv()\n",
    "agent = QLearningAgent(env.action_space, env.observation_space)\n",
    "rewards = []\n",
    "episodes = 50\n",
    "max_steps_per_episode = 50  # Define the maximum number of steps per episode\n",
    "\n",
    "# Adding progress bar\n",
    "for episode in tqdm(range(episodes), desc=\"Episodes\"):  # Run for multiple episodes to learn\n",
    "    current_state = env.reset()\n",
    "    total_reward = 0\n",
    "    done = False\n",
    "    steps = 0  # Initialize step counter\n",
    "    while not done and steps < max_steps_per_episode:\n",
    "        action = agent.choose_action(current_state)\n",
    "        next_state, reward, done, info = env.step(action)\n",
    "        agent.learn(current_state, action, reward, next_state)\n",
    "        current_state = next_state\n",
    "        total_reward += reward\n",
    "        steps += 1  # Increment step counter\n",
    "    rewards.append(total_reward)\n",
    "    print(f'Episode {episode + 1}/{episodes}, Total Reward: {total_reward}')\n",
    "\n",
    "# Plotting the rewards over time\n",
    "plot_rewards(rewards)\n",
    "\n",
    "# Visualizing airfoil changes\n",
    "plot_airfoil_changes(env, episode_intervals=[5, 10, 15, 20, 25, 30, 35, 40,41,42,43,44, 45,46,47,48,49, 50])\n"
   ]
  }
 ],
 "metadata": {
  "kernelspec": {
   "display_name": "Python 3 (ipykernel)",
   "language": "python",
   "name": "python3"
  },
  "language_info": {
   "codemirror_mode": {
    "name": "ipython",
    "version": 3
   },
   "file_extension": ".py",
   "mimetype": "text/x-python",
   "name": "python",
   "nbconvert_exporter": "python",
   "pygments_lexer": "ipython3",
   "version": "3.9.19"
  }
 },
 "nbformat": 4,
 "nbformat_minor": 5
}
