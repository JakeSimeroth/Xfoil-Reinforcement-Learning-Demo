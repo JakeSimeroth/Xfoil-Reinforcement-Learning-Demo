{
 "cells": [
  {
   "cell_type": "markdown",
   "metadata": {},
   "source": [
    "This script is based on Get_Save_Airfoils.py written by JoshTheEngineer available at https://www.joshtheengineer.com/2019/01/30/uiuc-airfoil-database-file-download/ .\n",
    "\n",
    "Additional features were applied make the script useful in ME 599 Project by Kazunobu Takahara."
   ]
  },
  {
   "cell_type": "code",
   "execution_count": null,
   "metadata": {},
   "outputs": [],
   "source": [
    "# Additional Features\n",
    "# Create a folder to store .dat files downloaded\n",
    "\n",
    "# Import Packages\n",
    "import os\n",
    "\n",
    "# Specify New Folder Name\n",
    "airfoil_folder_str = '/UIUC_Airfoils' # Mac\n",
    "# airfoil_folder_str = '\\UIUC_Airfoils' # Windows\n",
    "\n",
    "# Get current working directory\n",
    "main_folder = os.getcwd()\n",
    "print(main_folder)\n",
    "\n",
    "# Check current working directory to prevent duplicate\n",
    "folder_check = main_folder.find(airfoil_folder_str)\n",
    "print(folder_check)\n",
    "if folder_check < 0:\n",
    "    # Create a new folder for airfoil data\n",
    "    airfoil_folder = main_folder+airfoil_folder_str \n",
    "    os.mkdir(airfoil_folder)\n",
    "    # Change working directory\n",
    "    os.chdir(airfoil_folder)\n",
    "    print(os.getcwd())  "
   ]
  },
  {
   "cell_type": "code",
   "execution_count": null,
   "metadata": {},
   "outputs": [],
   "source": [
    "# GET AIRFOIL .DAT FILES FROM UIUC AIRFOIL SITE\n",
    "# Written by: JoshTheEngineer\n",
    "# Permission: Dr. Michael Selig (01/16/19)\n",
    "# Started   : 01/14/19\n",
    "# Updated   : 01/14/19 - Works as expected\n",
    "#\n",
    "# UIUC Airfoil Database: https://m-selig.ae.illinois.edu/ads/coord_database.html\n",
    "\n",
    "# Importing\n",
    "from bs4 import BeautifulSoup\t\t\t\t\t\t\t\t\t\t\t\t\t\t\t\t\t# Import the BeautifulSoup library\n",
    "import re\t\t\t\t\t\t\t\t\t\t\t\t\t\t\t\t\t\t\t\t\t\t# Import regular expressions\n",
    "try:\t\t\t\t\t\t\t\t\t\t\t\t\t\t\t\t\t\t\t\t\t\t\t# Import urllib\n",
    "    import urllib.request as urllib2\n",
    "except ImportError:\n",
    "    import urllib2\n",
    "\n",
    "# Base filepath for the UIUC airfoil website (used for accessing .dat files)\n",
    "baseFlpth = \"https://m-selig.ae.illinois.edu/ads/\"\t\t\t\t\t\t\t\t\t\t\t\t# Base filepath for saving\n",
    "\n",
    "# Open the webpage and create the soup\n",
    "html_page = urllib2.urlopen(\"https://m-selig.ae.illinois.edu/ads/coord_database.html\")\t\t\t# Open the URL\t\t\n",
    "soup      = BeautifulSoup(html_page,'lxml')\t\t\t\t\t\t\t\t\t\t\t\t\t\t# Create the soup\n",
    "\n",
    "# Loop over all relevant files and save each one\n",
    "ind   = 1\t\t\t\t\t\t\t\t\t\t\t\t\t\t\t\t\t\t\t\t\t\t# Iteration counter\n",
    "links = []\t\t\t\t\t\t\t\t\t\t\t\t\t\t\t\t\t\t\t\t\t\t# Initialize list of links for appending\n",
    "for link in soup.find_all('a',attrs={'href': re.compile('\\.dat', re.IGNORECASE)}):\t\t\t\t# Loop over all appropriate links on webpage\n",
    "    links.append(link.get('href'))\t\t\t\t\t\t\t\t\t\t\t\t\t\t\t\t# Append the link to the list\n",
    "    \n",
    "    urllib2.urlretrieve(baseFlpth+link.get('href'), link.get('href').rsplit('/',1)[-1])\t\t\t# Get the data from the webpage, and save it to the save data file as the link name\n",
    "    print(\"Saving file %i\" %ind)\t\t\t\t\t\t\t\t\t\t\t\t\t\t\t\t# Indicate the link that we are currently saving\n",
    "    ind = ind + 1\t\t\t\t\t\t\t\t\t\t\t\t\t\t\t\t\t\t\t\t# Increment the counter"
   ]
  },
  {
   "cell_type": "code",
   "execution_count": null,
   "metadata": {},
   "outputs": [],
   "source": [
    "# Additional Features\n",
    "# Create a .txt file to store a string of airfoil file names\n",
    "\n",
    "# Change working directory\n",
    "os.chdir(main_folder)\n",
    "print(os.getcwd()) \n",
    "\n",
    "# Format the list of airfoil names\n",
    "airfoil_names = []\n",
    "for line in links:\n",
    "    n = line.find('/')\n",
    "    line = line[n+1:]\n",
    "    airfoil_names.append(line+', ')\n",
    "\n",
    "# Exporting list of airfoil file names to .txt\n",
    "airfoil_file_name = open('AirfoilFileNames.txt', 'w')\n",
    "airfoil_file_name.writelines(airfoil_names)\n",
    "airfoil_file_name.close()"
   ]
  }
 ],
 "metadata": {
  "kernelspec": {
   "display_name": "Python 3",
   "language": "python",
   "name": "python3"
  },
  "language_info": {
   "codemirror_mode": {
    "name": "ipython",
    "version": 3
   },
   "file_extension": ".py",
   "mimetype": "text/x-python",
   "name": "python",
   "nbconvert_exporter": "python",
   "pygments_lexer": "ipython3",
   "version": "3.11.5"
  }
 },
 "nbformat": 4,
 "nbformat_minor": 2
}
